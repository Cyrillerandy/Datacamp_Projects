{
 "cells": [
  {
   "cell_type": "markdown",
   "id": "b4ae5707-109f-4cd6-8168-88cac0179d6b",
   "metadata": {},
   "source": [
    "![dvd_image](dvd_image.jpg)\n",
    "\n",
    "A DVD rental company needs your help! They want to figure out how many days a customer will rent a DVD for based on some features and has approached you for help. They want you to try out some regression models which will help predict the number of days a customer will rent a DVD for. The company wants a model which yeilds a MSE of 3 or less on a test set. The model you make will help the company become more efficient inventory planning.\n",
    "\n",
    "The data they provided is in the csv file `rental_info.csv`. It has the following features:\n",
    "- `\"rental_date\"`: The date (and time) the customer rents the DVD.\n",
    "- `\"return_date\"`: The date (and time) the customer returns the DVD.\n",
    "- `\"amount\"`: The amount paid by the customer for renting the DVD.\n",
    "- `\"amount_2\"`: The square of `\"amount\"`.\n",
    "- `\"rental_rate\"`: The rate at which the DVD is rented for.\n",
    "- `\"rental_rate_2\"`: The square of `\"rental_rate\"`.\n",
    "- `\"release_year\"`: The year the movie being rented was released.\n",
    "- `\"length\"`: Lenght of the movie being rented, in minuites.\n",
    "- `\"length_2\"`: The square of `\"length\"`.\n",
    "- `\"replacement_cost\"`: The amount it will cost the company to replace the DVD.\n",
    "- `\"special_features\"`: Any special features, for example trailers/deleted scenes that the DVD also has.\n",
    "- `\"NC-17\"`, `\"PG\"`, `\"PG-13\"`, `\"R\"`: These columns are dummy variables of the rating of the movie. It takes the value 1 if the move is rated as the column name and 0 otherwise. For your convinience, the reference dummy has already been dropped."
   ]
  },
  {
   "cell_type": "code",
   "execution_count": 75,
   "id": "a7ede566-910a-445c-b11a-68d192ac8506",
   "metadata": {
    "executionCancelledAt": null,
    "executionTime": 153,
    "lastExecutedAt": 1727345986664,
    "lastExecutedByKernel": "99cea706-03f6-438e-be5f-1f1c3323d351",
    "lastScheduledRunId": null,
    "lastSuccessfullyExecutedCode": "import pandas as pd\nimport numpy as np\n\nfrom sklearn.model_selection import train_test_split\nfrom sklearn.metrics import mean_squared_error\n\n# Import any additional modules and start coding below\n# read in the data\nrentals = pd.read_csv('rental_info.csv', parse_dates = ['rental_date', 'return_date'])\n\n# view the data\nrentals.head()",
    "outputsMetadata": {
     "0": {
      "height": 265,
      "type": "dataFrame"
     }
    }
   },
   "outputs": [
    {
     "data": {
      "application/com.datacamp.data-table.v2+json": {
       "table": {
        "data": {
         "NC-17": [
          0,
          0,
          0,
          0,
          0
         ],
         "PG": [
          0,
          0,
          0,
          0,
          0
         ],
         "PG-13": [
          0,
          0,
          0,
          0,
          0
         ],
         "R": [
          1,
          1,
          1,
          1,
          1
         ],
         "amount": [
          2.99,
          2.99,
          2.99,
          2.99,
          2.99
         ],
         "amount_2": [
          8.9401,
          8.9401,
          8.9401,
          8.9401,
          8.9401
         ],
         "index": [
          0,
          1,
          2,
          3,
          4
         ],
         "length": [
          126,
          126,
          126,
          126,
          126
         ],
         "length_2": [
          15876,
          15876,
          15876,
          15876,
          15876
         ],
         "release_year": [
          2005,
          2005,
          2005,
          2005,
          2005
         ],
         "rental_date": [
          "2005-05-25T02:54:33.000",
          "2005-06-15T23:19:16.000",
          "2005-07-10T04:27:45.000",
          "2005-07-31T12:06:41.000",
          "2005-08-19T12:30:04.000"
         ],
         "rental_rate": [
          2.99,
          2.99,
          2.99,
          2.99,
          2.99
         ],
         "rental_rate_2": [
          8.9401,
          8.9401,
          8.9401,
          8.9401,
          8.9401
         ],
         "replacement_cost": [
          16.99,
          16.99,
          16.99,
          16.99,
          16.99
         ],
         "return_date": [
          "2005-05-28T23:40:33.000",
          "2005-06-18T19:24:16.000",
          "2005-07-17T10:11:45.000",
          "2005-08-02T14:30:41.000",
          "2005-08-23T13:35:04.000"
         ],
         "special_features": [
          "{Trailers,\"Behind the Scenes\"}",
          "{Trailers,\"Behind the Scenes\"}",
          "{Trailers,\"Behind the Scenes\"}",
          "{Trailers,\"Behind the Scenes\"}",
          "{Trailers,\"Behind the Scenes\"}"
         ]
        },
        "schema": {
         "fields": [
          {
           "name": "index",
           "type": "integer"
          },
          {
           "name": "rental_date",
           "type": "datetime",
           "tz": "UTC"
          },
          {
           "name": "return_date",
           "type": "datetime",
           "tz": "UTC"
          },
          {
           "name": "amount",
           "type": "number"
          },
          {
           "name": "release_year",
           "type": "number"
          },
          {
           "name": "rental_rate",
           "type": "number"
          },
          {
           "name": "length",
           "type": "number"
          },
          {
           "name": "replacement_cost",
           "type": "number"
          },
          {
           "name": "special_features",
           "type": "string"
          },
          {
           "name": "NC-17",
           "type": "integer"
          },
          {
           "name": "PG",
           "type": "integer"
          },
          {
           "name": "PG-13",
           "type": "integer"
          },
          {
           "name": "R",
           "type": "integer"
          },
          {
           "name": "amount_2",
           "type": "number"
          },
          {
           "name": "length_2",
           "type": "number"
          },
          {
           "name": "rental_rate_2",
           "type": "number"
          }
         ],
         "pandas_version": "1.4.0",
         "primaryKey": [
          "index"
         ]
        }
       },
       "total_rows": 5,
       "truncation_type": null
      },
      "text/html": [
       "<div>\n",
       "<style scoped>\n",
       "    .dataframe tbody tr th:only-of-type {\n",
       "        vertical-align: middle;\n",
       "    }\n",
       "\n",
       "    .dataframe tbody tr th {\n",
       "        vertical-align: top;\n",
       "    }\n",
       "\n",
       "    .dataframe thead th {\n",
       "        text-align: right;\n",
       "    }\n",
       "</style>\n",
       "<table border=\"1\" class=\"dataframe\">\n",
       "  <thead>\n",
       "    <tr style=\"text-align: right;\">\n",
       "      <th></th>\n",
       "      <th>rental_date</th>\n",
       "      <th>return_date</th>\n",
       "      <th>amount</th>\n",
       "      <th>release_year</th>\n",
       "      <th>rental_rate</th>\n",
       "      <th>length</th>\n",
       "      <th>replacement_cost</th>\n",
       "      <th>special_features</th>\n",
       "      <th>NC-17</th>\n",
       "      <th>PG</th>\n",
       "      <th>PG-13</th>\n",
       "      <th>R</th>\n",
       "      <th>amount_2</th>\n",
       "      <th>length_2</th>\n",
       "      <th>rental_rate_2</th>\n",
       "    </tr>\n",
       "  </thead>\n",
       "  <tbody>\n",
       "    <tr>\n",
       "      <th>0</th>\n",
       "      <td>2005-05-25 02:54:33+00:00</td>\n",
       "      <td>2005-05-28 23:40:33+00:00</td>\n",
       "      <td>2.99</td>\n",
       "      <td>2005.0</td>\n",
       "      <td>2.99</td>\n",
       "      <td>126.0</td>\n",
       "      <td>16.99</td>\n",
       "      <td>{Trailers,\"Behind the Scenes\"}</td>\n",
       "      <td>0</td>\n",
       "      <td>0</td>\n",
       "      <td>0</td>\n",
       "      <td>1</td>\n",
       "      <td>8.9401</td>\n",
       "      <td>15876.0</td>\n",
       "      <td>8.9401</td>\n",
       "    </tr>\n",
       "    <tr>\n",
       "      <th>1</th>\n",
       "      <td>2005-06-15 23:19:16+00:00</td>\n",
       "      <td>2005-06-18 19:24:16+00:00</td>\n",
       "      <td>2.99</td>\n",
       "      <td>2005.0</td>\n",
       "      <td>2.99</td>\n",
       "      <td>126.0</td>\n",
       "      <td>16.99</td>\n",
       "      <td>{Trailers,\"Behind the Scenes\"}</td>\n",
       "      <td>0</td>\n",
       "      <td>0</td>\n",
       "      <td>0</td>\n",
       "      <td>1</td>\n",
       "      <td>8.9401</td>\n",
       "      <td>15876.0</td>\n",
       "      <td>8.9401</td>\n",
       "    </tr>\n",
       "    <tr>\n",
       "      <th>2</th>\n",
       "      <td>2005-07-10 04:27:45+00:00</td>\n",
       "      <td>2005-07-17 10:11:45+00:00</td>\n",
       "      <td>2.99</td>\n",
       "      <td>2005.0</td>\n",
       "      <td>2.99</td>\n",
       "      <td>126.0</td>\n",
       "      <td>16.99</td>\n",
       "      <td>{Trailers,\"Behind the Scenes\"}</td>\n",
       "      <td>0</td>\n",
       "      <td>0</td>\n",
       "      <td>0</td>\n",
       "      <td>1</td>\n",
       "      <td>8.9401</td>\n",
       "      <td>15876.0</td>\n",
       "      <td>8.9401</td>\n",
       "    </tr>\n",
       "    <tr>\n",
       "      <th>3</th>\n",
       "      <td>2005-07-31 12:06:41+00:00</td>\n",
       "      <td>2005-08-02 14:30:41+00:00</td>\n",
       "      <td>2.99</td>\n",
       "      <td>2005.0</td>\n",
       "      <td>2.99</td>\n",
       "      <td>126.0</td>\n",
       "      <td>16.99</td>\n",
       "      <td>{Trailers,\"Behind the Scenes\"}</td>\n",
       "      <td>0</td>\n",
       "      <td>0</td>\n",
       "      <td>0</td>\n",
       "      <td>1</td>\n",
       "      <td>8.9401</td>\n",
       "      <td>15876.0</td>\n",
       "      <td>8.9401</td>\n",
       "    </tr>\n",
       "    <tr>\n",
       "      <th>4</th>\n",
       "      <td>2005-08-19 12:30:04+00:00</td>\n",
       "      <td>2005-08-23 13:35:04+00:00</td>\n",
       "      <td>2.99</td>\n",
       "      <td>2005.0</td>\n",
       "      <td>2.99</td>\n",
       "      <td>126.0</td>\n",
       "      <td>16.99</td>\n",
       "      <td>{Trailers,\"Behind the Scenes\"}</td>\n",
       "      <td>0</td>\n",
       "      <td>0</td>\n",
       "      <td>0</td>\n",
       "      <td>1</td>\n",
       "      <td>8.9401</td>\n",
       "      <td>15876.0</td>\n",
       "      <td>8.9401</td>\n",
       "    </tr>\n",
       "  </tbody>\n",
       "</table>\n",
       "</div>"
      ],
      "text/plain": [
       "                rental_date               return_date  ...  length_2  rental_rate_2\n",
       "0 2005-05-25 02:54:33+00:00 2005-05-28 23:40:33+00:00  ...   15876.0         8.9401\n",
       "1 2005-06-15 23:19:16+00:00 2005-06-18 19:24:16+00:00  ...   15876.0         8.9401\n",
       "2 2005-07-10 04:27:45+00:00 2005-07-17 10:11:45+00:00  ...   15876.0         8.9401\n",
       "3 2005-07-31 12:06:41+00:00 2005-08-02 14:30:41+00:00  ...   15876.0         8.9401\n",
       "4 2005-08-19 12:30:04+00:00 2005-08-23 13:35:04+00:00  ...   15876.0         8.9401\n",
       "\n",
       "[5 rows x 15 columns]"
      ]
     },
     "execution_count": 75,
     "metadata": {},
     "output_type": "execute_result"
    }
   ],
   "source": [
    "import pandas as pd\n",
    "import numpy as np\n",
    "\n",
    "from sklearn.model_selection import train_test_split\n",
    "from sklearn.metrics import mean_squared_error\n",
    "\n",
    "# Import any additional modules and start coding below\n",
    "# read in the data\n",
    "rentals = pd.read_csv('rental_info.csv', parse_dates = ['rental_date', 'return_date'])\n",
    "\n",
    "# view the data\n",
    "rentals.head()"
   ]
  },
  {
   "cell_type": "markdown",
   "id": "1e145a1c-d30f-407f-a69f-f746033753d0",
   "metadata": {},
   "source": [
    "### In this project, you will use regression models to predict the number of days a customer rents DVDs for.\n",
    "\n",
    "### As with most data science projects, you will need to pre-process the data provided, in this case, a csv file called rental_info.csv. Specifically, you need to:\n",
    "\n",
    "* **Read in the csv file `rental_info.csv` using `pandas`.**\n",
    "* **Create a column named `\"rental_length_days\"` using the columns `\"return_date\"` and `\"rental_date\"`, and add it to the `pandas` DataFrame. This column should contain information on how many days a DVD has been rented by a customer.**\n",
    "* **Create two columns of dummy variables from `\"special_features\"`, which takes the value of 1 when:**\n",
    "    * The value is `\"Deleted Scenes\"`, storing as a column called `\"deleted_scenes\"`.\n",
    "    * The value is `\"Behind the Scenes\"`, storing as a column called `\"behind_the_scenes\"`.\n",
    "* **Make a `pandas` DataFrame called `X` containing all the appropriate features you can use to run the regression models, avoiding columns that leak data about the target.**\n",
    "* **Choose the `\"rental_length_days\"` as the target column and save it as a pandas Series called `y`.**\n",
    "\n",
    "### Following the preprocessing you will need to:\n",
    "\n",
    "* **Split the data into `X_train`, `y_train`, `X_test`, and `y_test` train and test sets, avoiding any features that leak data about the target variable, and include 20% of the total data in the test set.**\n",
    "* ***Set `random_state` to `9`* whenever you use a function/method involving randomness, for example, when doing a test-train split.**\n",
    "\n",
    "### Recommend a model yielding a mean squared error (MSE) less than 3 on the test set\n",
    "\n",
    "* **Save the model you would recommend as a variable named `best_model`, and save its MSE on the test set as `best_mse`.**"
   ]
  },
  {
   "cell_type": "code",
   "execution_count": 76,
   "id": "f1953d93-0134-456b-bc1f-f33ddb3dcac6",
   "metadata": {
    "executionCancelledAt": null,
    "executionTime": 54,
    "lastExecutedAt": 1727345986718,
    "lastExecutedByKernel": "99cea706-03f6-438e-be5f-1f1c3323d351",
    "lastScheduledRunId": null,
    "lastSuccessfullyExecutedCode": "# make a copy of the dataset\nrental = rentals.copy()\n\nrental.head()",
    "outputsMetadata": {
     "0": {
      "height": 265,
      "type": "dataFrame"
     }
    }
   },
   "outputs": [
    {
     "data": {
      "application/com.datacamp.data-table.v2+json": {
       "table": {
        "data": {
         "NC-17": [
          0,
          0,
          0,
          0,
          0
         ],
         "PG": [
          0,
          0,
          0,
          0,
          0
         ],
         "PG-13": [
          0,
          0,
          0,
          0,
          0
         ],
         "R": [
          1,
          1,
          1,
          1,
          1
         ],
         "amount": [
          2.99,
          2.99,
          2.99,
          2.99,
          2.99
         ],
         "amount_2": [
          8.9401,
          8.9401,
          8.9401,
          8.9401,
          8.9401
         ],
         "index": [
          0,
          1,
          2,
          3,
          4
         ],
         "length": [
          126,
          126,
          126,
          126,
          126
         ],
         "length_2": [
          15876,
          15876,
          15876,
          15876,
          15876
         ],
         "release_year": [
          2005,
          2005,
          2005,
          2005,
          2005
         ],
         "rental_date": [
          "2005-05-25T02:54:33.000",
          "2005-06-15T23:19:16.000",
          "2005-07-10T04:27:45.000",
          "2005-07-31T12:06:41.000",
          "2005-08-19T12:30:04.000"
         ],
         "rental_rate": [
          2.99,
          2.99,
          2.99,
          2.99,
          2.99
         ],
         "rental_rate_2": [
          8.9401,
          8.9401,
          8.9401,
          8.9401,
          8.9401
         ],
         "replacement_cost": [
          16.99,
          16.99,
          16.99,
          16.99,
          16.99
         ],
         "return_date": [
          "2005-05-28T23:40:33.000",
          "2005-06-18T19:24:16.000",
          "2005-07-17T10:11:45.000",
          "2005-08-02T14:30:41.000",
          "2005-08-23T13:35:04.000"
         ],
         "special_features": [
          "{Trailers,\"Behind the Scenes\"}",
          "{Trailers,\"Behind the Scenes\"}",
          "{Trailers,\"Behind the Scenes\"}",
          "{Trailers,\"Behind the Scenes\"}",
          "{Trailers,\"Behind the Scenes\"}"
         ]
        },
        "schema": {
         "fields": [
          {
           "name": "index",
           "type": "integer"
          },
          {
           "name": "rental_date",
           "type": "datetime",
           "tz": "UTC"
          },
          {
           "name": "return_date",
           "type": "datetime",
           "tz": "UTC"
          },
          {
           "name": "amount",
           "type": "number"
          },
          {
           "name": "release_year",
           "type": "number"
          },
          {
           "name": "rental_rate",
           "type": "number"
          },
          {
           "name": "length",
           "type": "number"
          },
          {
           "name": "replacement_cost",
           "type": "number"
          },
          {
           "name": "special_features",
           "type": "string"
          },
          {
           "name": "NC-17",
           "type": "integer"
          },
          {
           "name": "PG",
           "type": "integer"
          },
          {
           "name": "PG-13",
           "type": "integer"
          },
          {
           "name": "R",
           "type": "integer"
          },
          {
           "name": "amount_2",
           "type": "number"
          },
          {
           "name": "length_2",
           "type": "number"
          },
          {
           "name": "rental_rate_2",
           "type": "number"
          }
         ],
         "pandas_version": "1.4.0",
         "primaryKey": [
          "index"
         ]
        }
       },
       "total_rows": 5,
       "truncation_type": null
      },
      "text/html": [
       "<div>\n",
       "<style scoped>\n",
       "    .dataframe tbody tr th:only-of-type {\n",
       "        vertical-align: middle;\n",
       "    }\n",
       "\n",
       "    .dataframe tbody tr th {\n",
       "        vertical-align: top;\n",
       "    }\n",
       "\n",
       "    .dataframe thead th {\n",
       "        text-align: right;\n",
       "    }\n",
       "</style>\n",
       "<table border=\"1\" class=\"dataframe\">\n",
       "  <thead>\n",
       "    <tr style=\"text-align: right;\">\n",
       "      <th></th>\n",
       "      <th>rental_date</th>\n",
       "      <th>return_date</th>\n",
       "      <th>amount</th>\n",
       "      <th>release_year</th>\n",
       "      <th>rental_rate</th>\n",
       "      <th>length</th>\n",
       "      <th>replacement_cost</th>\n",
       "      <th>special_features</th>\n",
       "      <th>NC-17</th>\n",
       "      <th>PG</th>\n",
       "      <th>PG-13</th>\n",
       "      <th>R</th>\n",
       "      <th>amount_2</th>\n",
       "      <th>length_2</th>\n",
       "      <th>rental_rate_2</th>\n",
       "    </tr>\n",
       "  </thead>\n",
       "  <tbody>\n",
       "    <tr>\n",
       "      <th>0</th>\n",
       "      <td>2005-05-25 02:54:33+00:00</td>\n",
       "      <td>2005-05-28 23:40:33+00:00</td>\n",
       "      <td>2.99</td>\n",
       "      <td>2005.0</td>\n",
       "      <td>2.99</td>\n",
       "      <td>126.0</td>\n",
       "      <td>16.99</td>\n",
       "      <td>{Trailers,\"Behind the Scenes\"}</td>\n",
       "      <td>0</td>\n",
       "      <td>0</td>\n",
       "      <td>0</td>\n",
       "      <td>1</td>\n",
       "      <td>8.9401</td>\n",
       "      <td>15876.0</td>\n",
       "      <td>8.9401</td>\n",
       "    </tr>\n",
       "    <tr>\n",
       "      <th>1</th>\n",
       "      <td>2005-06-15 23:19:16+00:00</td>\n",
       "      <td>2005-06-18 19:24:16+00:00</td>\n",
       "      <td>2.99</td>\n",
       "      <td>2005.0</td>\n",
       "      <td>2.99</td>\n",
       "      <td>126.0</td>\n",
       "      <td>16.99</td>\n",
       "      <td>{Trailers,\"Behind the Scenes\"}</td>\n",
       "      <td>0</td>\n",
       "      <td>0</td>\n",
       "      <td>0</td>\n",
       "      <td>1</td>\n",
       "      <td>8.9401</td>\n",
       "      <td>15876.0</td>\n",
       "      <td>8.9401</td>\n",
       "    </tr>\n",
       "    <tr>\n",
       "      <th>2</th>\n",
       "      <td>2005-07-10 04:27:45+00:00</td>\n",
       "      <td>2005-07-17 10:11:45+00:00</td>\n",
       "      <td>2.99</td>\n",
       "      <td>2005.0</td>\n",
       "      <td>2.99</td>\n",
       "      <td>126.0</td>\n",
       "      <td>16.99</td>\n",
       "      <td>{Trailers,\"Behind the Scenes\"}</td>\n",
       "      <td>0</td>\n",
       "      <td>0</td>\n",
       "      <td>0</td>\n",
       "      <td>1</td>\n",
       "      <td>8.9401</td>\n",
       "      <td>15876.0</td>\n",
       "      <td>8.9401</td>\n",
       "    </tr>\n",
       "    <tr>\n",
       "      <th>3</th>\n",
       "      <td>2005-07-31 12:06:41+00:00</td>\n",
       "      <td>2005-08-02 14:30:41+00:00</td>\n",
       "      <td>2.99</td>\n",
       "      <td>2005.0</td>\n",
       "      <td>2.99</td>\n",
       "      <td>126.0</td>\n",
       "      <td>16.99</td>\n",
       "      <td>{Trailers,\"Behind the Scenes\"}</td>\n",
       "      <td>0</td>\n",
       "      <td>0</td>\n",
       "      <td>0</td>\n",
       "      <td>1</td>\n",
       "      <td>8.9401</td>\n",
       "      <td>15876.0</td>\n",
       "      <td>8.9401</td>\n",
       "    </tr>\n",
       "    <tr>\n",
       "      <th>4</th>\n",
       "      <td>2005-08-19 12:30:04+00:00</td>\n",
       "      <td>2005-08-23 13:35:04+00:00</td>\n",
       "      <td>2.99</td>\n",
       "      <td>2005.0</td>\n",
       "      <td>2.99</td>\n",
       "      <td>126.0</td>\n",
       "      <td>16.99</td>\n",
       "      <td>{Trailers,\"Behind the Scenes\"}</td>\n",
       "      <td>0</td>\n",
       "      <td>0</td>\n",
       "      <td>0</td>\n",
       "      <td>1</td>\n",
       "      <td>8.9401</td>\n",
       "      <td>15876.0</td>\n",
       "      <td>8.9401</td>\n",
       "    </tr>\n",
       "  </tbody>\n",
       "</table>\n",
       "</div>"
      ],
      "text/plain": [
       "                rental_date               return_date  ...  length_2  rental_rate_2\n",
       "0 2005-05-25 02:54:33+00:00 2005-05-28 23:40:33+00:00  ...   15876.0         8.9401\n",
       "1 2005-06-15 23:19:16+00:00 2005-06-18 19:24:16+00:00  ...   15876.0         8.9401\n",
       "2 2005-07-10 04:27:45+00:00 2005-07-17 10:11:45+00:00  ...   15876.0         8.9401\n",
       "3 2005-07-31 12:06:41+00:00 2005-08-02 14:30:41+00:00  ...   15876.0         8.9401\n",
       "4 2005-08-19 12:30:04+00:00 2005-08-23 13:35:04+00:00  ...   15876.0         8.9401\n",
       "\n",
       "[5 rows x 15 columns]"
      ]
     },
     "execution_count": 76,
     "metadata": {},
     "output_type": "execute_result"
    }
   ],
   "source": [
    "# make a copy of the dataset\n",
    "rental = rentals.copy()\n",
    "\n",
    "rental.head()"
   ]
  },
  {
   "cell_type": "code",
   "execution_count": 77,
   "id": "1c09d3ba-749d-4f70-9882-77359fbbad80",
   "metadata": {
    "executionCancelledAt": null,
    "executionTime": 52,
    "lastExecutedAt": 1727345986770,
    "lastExecutedByKernel": "99cea706-03f6-438e-be5f-1f1c3323d351",
    "lastScheduledRunId": null,
    "lastSuccessfullyExecutedCode": "# check the dtypes\nrental.dtypes"
   },
   "outputs": [
    {
     "data": {
      "text/plain": [
       "rental_date         datetime64[ns, UTC]\n",
       "return_date         datetime64[ns, UTC]\n",
       "amount                          float64\n",
       "release_year                    float64\n",
       "rental_rate                     float64\n",
       "length                          float64\n",
       "replacement_cost                float64\n",
       "special_features                 object\n",
       "NC-17                             int64\n",
       "PG                                int64\n",
       "PG-13                             int64\n",
       "R                                 int64\n",
       "amount_2                        float64\n",
       "length_2                        float64\n",
       "rental_rate_2                   float64\n",
       "dtype: object"
      ]
     },
     "execution_count": 77,
     "metadata": {},
     "output_type": "execute_result"
    }
   ],
   "source": [
    "# check the dtypes\n",
    "rental.dtypes"
   ]
  },
  {
   "cell_type": "code",
   "execution_count": 78,
   "id": "463413a3-be0f-4f09-908d-952548f36d65",
   "metadata": {
    "executionCancelledAt": null,
    "executionTime": 52,
    "lastExecutedAt": 1727345986822,
    "lastExecutedByKernel": "99cea706-03f6-438e-be5f-1f1c3323d351",
    "lastScheduledRunId": null,
    "lastSuccessfullyExecutedCode": "# create a column for duration a dvd was rented in days\nrental['rental_length_days'] = (rental['return_date'] - rental['rental_date']).dt.days\n\nrental.head()",
    "outputsMetadata": {
     "0": {
      "height": 265,
      "type": "dataFrame"
     }
    }
   },
   "outputs": [
    {
     "data": {
      "application/com.datacamp.data-table.v2+json": {
       "table": {
        "data": {
         "NC-17": [
          0,
          0,
          0,
          0,
          0
         ],
         "PG": [
          0,
          0,
          0,
          0,
          0
         ],
         "PG-13": [
          0,
          0,
          0,
          0,
          0
         ],
         "R": [
          1,
          1,
          1,
          1,
          1
         ],
         "amount": [
          2.99,
          2.99,
          2.99,
          2.99,
          2.99
         ],
         "amount_2": [
          8.9401,
          8.9401,
          8.9401,
          8.9401,
          8.9401
         ],
         "index": [
          0,
          1,
          2,
          3,
          4
         ],
         "length": [
          126,
          126,
          126,
          126,
          126
         ],
         "length_2": [
          15876,
          15876,
          15876,
          15876,
          15876
         ],
         "release_year": [
          2005,
          2005,
          2005,
          2005,
          2005
         ],
         "rental_date": [
          "2005-05-25T02:54:33.000",
          "2005-06-15T23:19:16.000",
          "2005-07-10T04:27:45.000",
          "2005-07-31T12:06:41.000",
          "2005-08-19T12:30:04.000"
         ],
         "rental_length_days": [
          3,
          2,
          7,
          2,
          4
         ],
         "rental_rate": [
          2.99,
          2.99,
          2.99,
          2.99,
          2.99
         ],
         "rental_rate_2": [
          8.9401,
          8.9401,
          8.9401,
          8.9401,
          8.9401
         ],
         "replacement_cost": [
          16.99,
          16.99,
          16.99,
          16.99,
          16.99
         ],
         "return_date": [
          "2005-05-28T23:40:33.000",
          "2005-06-18T19:24:16.000",
          "2005-07-17T10:11:45.000",
          "2005-08-02T14:30:41.000",
          "2005-08-23T13:35:04.000"
         ],
         "special_features": [
          "{Trailers,\"Behind the Scenes\"}",
          "{Trailers,\"Behind the Scenes\"}",
          "{Trailers,\"Behind the Scenes\"}",
          "{Trailers,\"Behind the Scenes\"}",
          "{Trailers,\"Behind the Scenes\"}"
         ]
        },
        "schema": {
         "fields": [
          {
           "name": "index",
           "type": "integer"
          },
          {
           "name": "rental_date",
           "type": "datetime",
           "tz": "UTC"
          },
          {
           "name": "return_date",
           "type": "datetime",
           "tz": "UTC"
          },
          {
           "name": "amount",
           "type": "number"
          },
          {
           "name": "release_year",
           "type": "number"
          },
          {
           "name": "rental_rate",
           "type": "number"
          },
          {
           "name": "length",
           "type": "number"
          },
          {
           "name": "replacement_cost",
           "type": "number"
          },
          {
           "name": "special_features",
           "type": "string"
          },
          {
           "name": "NC-17",
           "type": "integer"
          },
          {
           "name": "PG",
           "type": "integer"
          },
          {
           "name": "PG-13",
           "type": "integer"
          },
          {
           "name": "R",
           "type": "integer"
          },
          {
           "name": "amount_2",
           "type": "number"
          },
          {
           "name": "length_2",
           "type": "number"
          },
          {
           "name": "rental_rate_2",
           "type": "number"
          },
          {
           "name": "rental_length_days",
           "type": "integer"
          }
         ],
         "pandas_version": "1.4.0",
         "primaryKey": [
          "index"
         ]
        }
       },
       "total_rows": 5,
       "truncation_type": null
      },
      "text/html": [
       "<div>\n",
       "<style scoped>\n",
       "    .dataframe tbody tr th:only-of-type {\n",
       "        vertical-align: middle;\n",
       "    }\n",
       "\n",
       "    .dataframe tbody tr th {\n",
       "        vertical-align: top;\n",
       "    }\n",
       "\n",
       "    .dataframe thead th {\n",
       "        text-align: right;\n",
       "    }\n",
       "</style>\n",
       "<table border=\"1\" class=\"dataframe\">\n",
       "  <thead>\n",
       "    <tr style=\"text-align: right;\">\n",
       "      <th></th>\n",
       "      <th>rental_date</th>\n",
       "      <th>return_date</th>\n",
       "      <th>amount</th>\n",
       "      <th>release_year</th>\n",
       "      <th>rental_rate</th>\n",
       "      <th>length</th>\n",
       "      <th>replacement_cost</th>\n",
       "      <th>special_features</th>\n",
       "      <th>NC-17</th>\n",
       "      <th>PG</th>\n",
       "      <th>PG-13</th>\n",
       "      <th>R</th>\n",
       "      <th>amount_2</th>\n",
       "      <th>length_2</th>\n",
       "      <th>rental_rate_2</th>\n",
       "      <th>rental_length_days</th>\n",
       "    </tr>\n",
       "  </thead>\n",
       "  <tbody>\n",
       "    <tr>\n",
       "      <th>0</th>\n",
       "      <td>2005-05-25 02:54:33+00:00</td>\n",
       "      <td>2005-05-28 23:40:33+00:00</td>\n",
       "      <td>2.99</td>\n",
       "      <td>2005.0</td>\n",
       "      <td>2.99</td>\n",
       "      <td>126.0</td>\n",
       "      <td>16.99</td>\n",
       "      <td>{Trailers,\"Behind the Scenes\"}</td>\n",
       "      <td>0</td>\n",
       "      <td>0</td>\n",
       "      <td>0</td>\n",
       "      <td>1</td>\n",
       "      <td>8.9401</td>\n",
       "      <td>15876.0</td>\n",
       "      <td>8.9401</td>\n",
       "      <td>3</td>\n",
       "    </tr>\n",
       "    <tr>\n",
       "      <th>1</th>\n",
       "      <td>2005-06-15 23:19:16+00:00</td>\n",
       "      <td>2005-06-18 19:24:16+00:00</td>\n",
       "      <td>2.99</td>\n",
       "      <td>2005.0</td>\n",
       "      <td>2.99</td>\n",
       "      <td>126.0</td>\n",
       "      <td>16.99</td>\n",
       "      <td>{Trailers,\"Behind the Scenes\"}</td>\n",
       "      <td>0</td>\n",
       "      <td>0</td>\n",
       "      <td>0</td>\n",
       "      <td>1</td>\n",
       "      <td>8.9401</td>\n",
       "      <td>15876.0</td>\n",
       "      <td>8.9401</td>\n",
       "      <td>2</td>\n",
       "    </tr>\n",
       "    <tr>\n",
       "      <th>2</th>\n",
       "      <td>2005-07-10 04:27:45+00:00</td>\n",
       "      <td>2005-07-17 10:11:45+00:00</td>\n",
       "      <td>2.99</td>\n",
       "      <td>2005.0</td>\n",
       "      <td>2.99</td>\n",
       "      <td>126.0</td>\n",
       "      <td>16.99</td>\n",
       "      <td>{Trailers,\"Behind the Scenes\"}</td>\n",
       "      <td>0</td>\n",
       "      <td>0</td>\n",
       "      <td>0</td>\n",
       "      <td>1</td>\n",
       "      <td>8.9401</td>\n",
       "      <td>15876.0</td>\n",
       "      <td>8.9401</td>\n",
       "      <td>7</td>\n",
       "    </tr>\n",
       "    <tr>\n",
       "      <th>3</th>\n",
       "      <td>2005-07-31 12:06:41+00:00</td>\n",
       "      <td>2005-08-02 14:30:41+00:00</td>\n",
       "      <td>2.99</td>\n",
       "      <td>2005.0</td>\n",
       "      <td>2.99</td>\n",
       "      <td>126.0</td>\n",
       "      <td>16.99</td>\n",
       "      <td>{Trailers,\"Behind the Scenes\"}</td>\n",
       "      <td>0</td>\n",
       "      <td>0</td>\n",
       "      <td>0</td>\n",
       "      <td>1</td>\n",
       "      <td>8.9401</td>\n",
       "      <td>15876.0</td>\n",
       "      <td>8.9401</td>\n",
       "      <td>2</td>\n",
       "    </tr>\n",
       "    <tr>\n",
       "      <th>4</th>\n",
       "      <td>2005-08-19 12:30:04+00:00</td>\n",
       "      <td>2005-08-23 13:35:04+00:00</td>\n",
       "      <td>2.99</td>\n",
       "      <td>2005.0</td>\n",
       "      <td>2.99</td>\n",
       "      <td>126.0</td>\n",
       "      <td>16.99</td>\n",
       "      <td>{Trailers,\"Behind the Scenes\"}</td>\n",
       "      <td>0</td>\n",
       "      <td>0</td>\n",
       "      <td>0</td>\n",
       "      <td>1</td>\n",
       "      <td>8.9401</td>\n",
       "      <td>15876.0</td>\n",
       "      <td>8.9401</td>\n",
       "      <td>4</td>\n",
       "    </tr>\n",
       "  </tbody>\n",
       "</table>\n",
       "</div>"
      ],
      "text/plain": [
       "                rental_date  ... rental_length_days\n",
       "0 2005-05-25 02:54:33+00:00  ...                  3\n",
       "1 2005-06-15 23:19:16+00:00  ...                  2\n",
       "2 2005-07-10 04:27:45+00:00  ...                  7\n",
       "3 2005-07-31 12:06:41+00:00  ...                  2\n",
       "4 2005-08-19 12:30:04+00:00  ...                  4\n",
       "\n",
       "[5 rows x 16 columns]"
      ]
     },
     "execution_count": 78,
     "metadata": {},
     "output_type": "execute_result"
    }
   ],
   "source": [
    "# create a column for duration a dvd was rented in days\n",
    "rental['rental_length_days'] = (rental['return_date'] - rental['rental_date']).dt.days\n",
    "\n",
    "rental.head()"
   ]
  },
  {
   "cell_type": "code",
   "execution_count": 79,
   "id": "76be4daa-3783-4987-afaf-5cf5186caae2",
   "metadata": {
    "executionCancelledAt": null,
    "executionTime": 56,
    "lastExecutedAt": 1727345986878,
    "lastExecutedByKernel": "99cea706-03f6-438e-be5f-1f1c3323d351",
    "lastScheduledRunId": null,
    "lastSuccessfullyExecutedCode": "# create dummy variables for deleted and behind the scenes\ndef encoder(x):\n    if \"Deleted Scenes\" in x:\n        return 1\n    else: \n        return 0\n\n# encode for deleted scenes\nrental['deleted_scenes'] = rental['special_features'].apply(encoder)\n\n# view\nrental.head()",
    "outputsMetadata": {
     "0": {
      "height": 265,
      "type": "dataFrame"
     }
    }
   },
   "outputs": [
    {
     "data": {
      "application/com.datacamp.data-table.v2+json": {
       "table": {
        "data": {
         "NC-17": [
          0,
          0,
          0,
          0,
          0
         ],
         "PG": [
          0,
          0,
          0,
          0,
          0
         ],
         "PG-13": [
          0,
          0,
          0,
          0,
          0
         ],
         "R": [
          1,
          1,
          1,
          1,
          1
         ],
         "amount": [
          2.99,
          2.99,
          2.99,
          2.99,
          2.99
         ],
         "amount_2": [
          8.9401,
          8.9401,
          8.9401,
          8.9401,
          8.9401
         ],
         "deleted_scenes": [
          0,
          0,
          0,
          0,
          0
         ],
         "index": [
          0,
          1,
          2,
          3,
          4
         ],
         "length": [
          126,
          126,
          126,
          126,
          126
         ],
         "length_2": [
          15876,
          15876,
          15876,
          15876,
          15876
         ],
         "release_year": [
          2005,
          2005,
          2005,
          2005,
          2005
         ],
         "rental_date": [
          "2005-05-25T02:54:33.000",
          "2005-06-15T23:19:16.000",
          "2005-07-10T04:27:45.000",
          "2005-07-31T12:06:41.000",
          "2005-08-19T12:30:04.000"
         ],
         "rental_length_days": [
          3,
          2,
          7,
          2,
          4
         ],
         "rental_rate": [
          2.99,
          2.99,
          2.99,
          2.99,
          2.99
         ],
         "rental_rate_2": [
          8.9401,
          8.9401,
          8.9401,
          8.9401,
          8.9401
         ],
         "replacement_cost": [
          16.99,
          16.99,
          16.99,
          16.99,
          16.99
         ],
         "return_date": [
          "2005-05-28T23:40:33.000",
          "2005-06-18T19:24:16.000",
          "2005-07-17T10:11:45.000",
          "2005-08-02T14:30:41.000",
          "2005-08-23T13:35:04.000"
         ],
         "special_features": [
          "{Trailers,\"Behind the Scenes\"}",
          "{Trailers,\"Behind the Scenes\"}",
          "{Trailers,\"Behind the Scenes\"}",
          "{Trailers,\"Behind the Scenes\"}",
          "{Trailers,\"Behind the Scenes\"}"
         ]
        },
        "schema": {
         "fields": [
          {
           "name": "index",
           "type": "integer"
          },
          {
           "name": "rental_date",
           "type": "datetime",
           "tz": "UTC"
          },
          {
           "name": "return_date",
           "type": "datetime",
           "tz": "UTC"
          },
          {
           "name": "amount",
           "type": "number"
          },
          {
           "name": "release_year",
           "type": "number"
          },
          {
           "name": "rental_rate",
           "type": "number"
          },
          {
           "name": "length",
           "type": "number"
          },
          {
           "name": "replacement_cost",
           "type": "number"
          },
          {
           "name": "special_features",
           "type": "string"
          },
          {
           "name": "NC-17",
           "type": "integer"
          },
          {
           "name": "PG",
           "type": "integer"
          },
          {
           "name": "PG-13",
           "type": "integer"
          },
          {
           "name": "R",
           "type": "integer"
          },
          {
           "name": "amount_2",
           "type": "number"
          },
          {
           "name": "length_2",
           "type": "number"
          },
          {
           "name": "rental_rate_2",
           "type": "number"
          },
          {
           "name": "rental_length_days",
           "type": "integer"
          },
          {
           "name": "deleted_scenes",
           "type": "integer"
          }
         ],
         "pandas_version": "1.4.0",
         "primaryKey": [
          "index"
         ]
        }
       },
       "total_rows": 5,
       "truncation_type": null
      },
      "text/html": [
       "<div>\n",
       "<style scoped>\n",
       "    .dataframe tbody tr th:only-of-type {\n",
       "        vertical-align: middle;\n",
       "    }\n",
       "\n",
       "    .dataframe tbody tr th {\n",
       "        vertical-align: top;\n",
       "    }\n",
       "\n",
       "    .dataframe thead th {\n",
       "        text-align: right;\n",
       "    }\n",
       "</style>\n",
       "<table border=\"1\" class=\"dataframe\">\n",
       "  <thead>\n",
       "    <tr style=\"text-align: right;\">\n",
       "      <th></th>\n",
       "      <th>rental_date</th>\n",
       "      <th>return_date</th>\n",
       "      <th>amount</th>\n",
       "      <th>release_year</th>\n",
       "      <th>rental_rate</th>\n",
       "      <th>length</th>\n",
       "      <th>replacement_cost</th>\n",
       "      <th>special_features</th>\n",
       "      <th>NC-17</th>\n",
       "      <th>PG</th>\n",
       "      <th>PG-13</th>\n",
       "      <th>R</th>\n",
       "      <th>amount_2</th>\n",
       "      <th>length_2</th>\n",
       "      <th>rental_rate_2</th>\n",
       "      <th>rental_length_days</th>\n",
       "      <th>deleted_scenes</th>\n",
       "    </tr>\n",
       "  </thead>\n",
       "  <tbody>\n",
       "    <tr>\n",
       "      <th>0</th>\n",
       "      <td>2005-05-25 02:54:33+00:00</td>\n",
       "      <td>2005-05-28 23:40:33+00:00</td>\n",
       "      <td>2.99</td>\n",
       "      <td>2005.0</td>\n",
       "      <td>2.99</td>\n",
       "      <td>126.0</td>\n",
       "      <td>16.99</td>\n",
       "      <td>{Trailers,\"Behind the Scenes\"}</td>\n",
       "      <td>0</td>\n",
       "      <td>0</td>\n",
       "      <td>0</td>\n",
       "      <td>1</td>\n",
       "      <td>8.9401</td>\n",
       "      <td>15876.0</td>\n",
       "      <td>8.9401</td>\n",
       "      <td>3</td>\n",
       "      <td>0</td>\n",
       "    </tr>\n",
       "    <tr>\n",
       "      <th>1</th>\n",
       "      <td>2005-06-15 23:19:16+00:00</td>\n",
       "      <td>2005-06-18 19:24:16+00:00</td>\n",
       "      <td>2.99</td>\n",
       "      <td>2005.0</td>\n",
       "      <td>2.99</td>\n",
       "      <td>126.0</td>\n",
       "      <td>16.99</td>\n",
       "      <td>{Trailers,\"Behind the Scenes\"}</td>\n",
       "      <td>0</td>\n",
       "      <td>0</td>\n",
       "      <td>0</td>\n",
       "      <td>1</td>\n",
       "      <td>8.9401</td>\n",
       "      <td>15876.0</td>\n",
       "      <td>8.9401</td>\n",
       "      <td>2</td>\n",
       "      <td>0</td>\n",
       "    </tr>\n",
       "    <tr>\n",
       "      <th>2</th>\n",
       "      <td>2005-07-10 04:27:45+00:00</td>\n",
       "      <td>2005-07-17 10:11:45+00:00</td>\n",
       "      <td>2.99</td>\n",
       "      <td>2005.0</td>\n",
       "      <td>2.99</td>\n",
       "      <td>126.0</td>\n",
       "      <td>16.99</td>\n",
       "      <td>{Trailers,\"Behind the Scenes\"}</td>\n",
       "      <td>0</td>\n",
       "      <td>0</td>\n",
       "      <td>0</td>\n",
       "      <td>1</td>\n",
       "      <td>8.9401</td>\n",
       "      <td>15876.0</td>\n",
       "      <td>8.9401</td>\n",
       "      <td>7</td>\n",
       "      <td>0</td>\n",
       "    </tr>\n",
       "    <tr>\n",
       "      <th>3</th>\n",
       "      <td>2005-07-31 12:06:41+00:00</td>\n",
       "      <td>2005-08-02 14:30:41+00:00</td>\n",
       "      <td>2.99</td>\n",
       "      <td>2005.0</td>\n",
       "      <td>2.99</td>\n",
       "      <td>126.0</td>\n",
       "      <td>16.99</td>\n",
       "      <td>{Trailers,\"Behind the Scenes\"}</td>\n",
       "      <td>0</td>\n",
       "      <td>0</td>\n",
       "      <td>0</td>\n",
       "      <td>1</td>\n",
       "      <td>8.9401</td>\n",
       "      <td>15876.0</td>\n",
       "      <td>8.9401</td>\n",
       "      <td>2</td>\n",
       "      <td>0</td>\n",
       "    </tr>\n",
       "    <tr>\n",
       "      <th>4</th>\n",
       "      <td>2005-08-19 12:30:04+00:00</td>\n",
       "      <td>2005-08-23 13:35:04+00:00</td>\n",
       "      <td>2.99</td>\n",
       "      <td>2005.0</td>\n",
       "      <td>2.99</td>\n",
       "      <td>126.0</td>\n",
       "      <td>16.99</td>\n",
       "      <td>{Trailers,\"Behind the Scenes\"}</td>\n",
       "      <td>0</td>\n",
       "      <td>0</td>\n",
       "      <td>0</td>\n",
       "      <td>1</td>\n",
       "      <td>8.9401</td>\n",
       "      <td>15876.0</td>\n",
       "      <td>8.9401</td>\n",
       "      <td>4</td>\n",
       "      <td>0</td>\n",
       "    </tr>\n",
       "  </tbody>\n",
       "</table>\n",
       "</div>"
      ],
      "text/plain": [
       "                rental_date  ... deleted_scenes\n",
       "0 2005-05-25 02:54:33+00:00  ...              0\n",
       "1 2005-06-15 23:19:16+00:00  ...              0\n",
       "2 2005-07-10 04:27:45+00:00  ...              0\n",
       "3 2005-07-31 12:06:41+00:00  ...              0\n",
       "4 2005-08-19 12:30:04+00:00  ...              0\n",
       "\n",
       "[5 rows x 17 columns]"
      ]
     },
     "execution_count": 79,
     "metadata": {},
     "output_type": "execute_result"
    }
   ],
   "source": [
    "# create dummy variables for deleted and behind the scenes\n",
    "def encoder(x):\n",
    "    if \"Deleted Scenes\" in x:\n",
    "        return 1\n",
    "    else: \n",
    "        return 0\n",
    "\n",
    "# encode for deleted scenes\n",
    "rental['deleted_scenes'] = rental['special_features'].apply(encoder)\n",
    "\n",
    "# view\n",
    "rental.head()"
   ]
  },
  {
   "cell_type": "code",
   "execution_count": 80,
   "id": "d045e412-400a-480d-b7e4-9ab83c24994c",
   "metadata": {
    "executionCancelledAt": null,
    "executionTime": 48,
    "lastExecutedAt": 1727345986926,
    "lastExecutedByKernel": "99cea706-03f6-438e-be5f-1f1c3323d351",
    "lastScheduledRunId": null,
    "lastSuccessfullyExecutedCode": "# encode for behind the scenes\ndef encoder(x):\n    if \"Behind the Scenes\" in x:\n        return 1\n    else: \n        return 0\n\n# create column\nrental['behind_the_scenes'] = rental['special_features'].apply(encoder)\n\n# view\nrental[rental['special_features'] == '{\"Behind the Scenes\"}'].head()",
    "outputsMetadata": {
     "0": {
      "height": 265,
      "type": "dataFrame"
     }
    }
   },
   "outputs": [
    {
     "data": {
      "application/com.datacamp.data-table.v2+json": {
       "table": {
        "data": {
         "NC-17": [
          0,
          0,
          0,
          0,
          0
         ],
         "PG": [
          0,
          0,
          0,
          0,
          0
         ],
         "PG-13": [
          1,
          1,
          1,
          1,
          1
         ],
         "R": [
          0,
          0,
          0,
          0,
          0
         ],
         "amount": [
          4.99,
          4.99,
          4.99,
          4.99,
          4.99
         ],
         "amount_2": [
          24.9001,
          24.9001,
          24.9001,
          24.9001,
          24.9001
         ],
         "behind_the_scenes": [
          1,
          1,
          1,
          1,
          1
         ],
         "deleted_scenes": [
          0,
          0,
          0,
          0,
          0
         ],
         "index": [
          181,
          182,
          183,
          184,
          185
         ],
         "length": [
          119,
          119,
          119,
          119,
          119
         ],
         "length_2": [
          14161,
          14161,
          14161,
          14161,
          14161
         ],
         "release_year": [
          2010,
          2010,
          2010,
          2010,
          2010
         ],
         "rental_date": [
          "2005-05-25T04:19:27.000",
          "2005-06-15T13:34:50.000",
          "2005-07-09T09:28:38.000",
          "2005-07-30T04:47:03.000",
          "2005-08-22T12:42:32.000"
         ],
         "rental_length_days": [
          5,
          6,
          0,
          7,
          5
         ],
         "rental_rate": [
          4.99,
          4.99,
          4.99,
          4.99,
          4.99
         ],
         "rental_rate_2": [
          24.9001,
          24.9001,
          24.9001,
          24.9001,
          24.9001
         ],
         "replacement_cost": [
          17.99,
          17.99,
          17.99,
          17.99,
          17.99
         ],
         "return_date": [
          "2005-05-30T09:44:27.000",
          "2005-06-21T16:07:50.000",
          "2005-07-10T06:46:38.000",
          "2005-08-06T07:23:03.000",
          "2005-08-28T09:04:32.000"
         ],
         "special_features": [
          "{\"Behind the Scenes\"}",
          "{\"Behind the Scenes\"}",
          "{\"Behind the Scenes\"}",
          "{\"Behind the Scenes\"}",
          "{\"Behind the Scenes\"}"
         ]
        },
        "schema": {
         "fields": [
          {
           "name": "index",
           "type": "integer"
          },
          {
           "name": "rental_date",
           "type": "datetime",
           "tz": "UTC"
          },
          {
           "name": "return_date",
           "type": "datetime",
           "tz": "UTC"
          },
          {
           "name": "amount",
           "type": "number"
          },
          {
           "name": "release_year",
           "type": "number"
          },
          {
           "name": "rental_rate",
           "type": "number"
          },
          {
           "name": "length",
           "type": "number"
          },
          {
           "name": "replacement_cost",
           "type": "number"
          },
          {
           "name": "special_features",
           "type": "string"
          },
          {
           "name": "NC-17",
           "type": "integer"
          },
          {
           "name": "PG",
           "type": "integer"
          },
          {
           "name": "PG-13",
           "type": "integer"
          },
          {
           "name": "R",
           "type": "integer"
          },
          {
           "name": "amount_2",
           "type": "number"
          },
          {
           "name": "length_2",
           "type": "number"
          },
          {
           "name": "rental_rate_2",
           "type": "number"
          },
          {
           "name": "rental_length_days",
           "type": "integer"
          },
          {
           "name": "deleted_scenes",
           "type": "integer"
          },
          {
           "name": "behind_the_scenes",
           "type": "integer"
          }
         ],
         "pandas_version": "1.4.0",
         "primaryKey": [
          "index"
         ]
        }
       },
       "total_rows": 5,
       "truncation_type": null
      },
      "text/html": [
       "<div>\n",
       "<style scoped>\n",
       "    .dataframe tbody tr th:only-of-type {\n",
       "        vertical-align: middle;\n",
       "    }\n",
       "\n",
       "    .dataframe tbody tr th {\n",
       "        vertical-align: top;\n",
       "    }\n",
       "\n",
       "    .dataframe thead th {\n",
       "        text-align: right;\n",
       "    }\n",
       "</style>\n",
       "<table border=\"1\" class=\"dataframe\">\n",
       "  <thead>\n",
       "    <tr style=\"text-align: right;\">\n",
       "      <th></th>\n",
       "      <th>rental_date</th>\n",
       "      <th>return_date</th>\n",
       "      <th>amount</th>\n",
       "      <th>release_year</th>\n",
       "      <th>rental_rate</th>\n",
       "      <th>length</th>\n",
       "      <th>replacement_cost</th>\n",
       "      <th>special_features</th>\n",
       "      <th>NC-17</th>\n",
       "      <th>PG</th>\n",
       "      <th>PG-13</th>\n",
       "      <th>R</th>\n",
       "      <th>amount_2</th>\n",
       "      <th>length_2</th>\n",
       "      <th>rental_rate_2</th>\n",
       "      <th>rental_length_days</th>\n",
       "      <th>deleted_scenes</th>\n",
       "      <th>behind_the_scenes</th>\n",
       "    </tr>\n",
       "  </thead>\n",
       "  <tbody>\n",
       "    <tr>\n",
       "      <th>181</th>\n",
       "      <td>2005-05-25 04:19:27+00:00</td>\n",
       "      <td>2005-05-30 09:44:27+00:00</td>\n",
       "      <td>4.99</td>\n",
       "      <td>2010.0</td>\n",
       "      <td>4.99</td>\n",
       "      <td>119.0</td>\n",
       "      <td>17.99</td>\n",
       "      <td>{\"Behind the Scenes\"}</td>\n",
       "      <td>0</td>\n",
       "      <td>0</td>\n",
       "      <td>1</td>\n",
       "      <td>0</td>\n",
       "      <td>24.9001</td>\n",
       "      <td>14161.0</td>\n",
       "      <td>24.9001</td>\n",
       "      <td>5</td>\n",
       "      <td>0</td>\n",
       "      <td>1</td>\n",
       "    </tr>\n",
       "    <tr>\n",
       "      <th>182</th>\n",
       "      <td>2005-06-15 13:34:50+00:00</td>\n",
       "      <td>2005-06-21 16:07:50+00:00</td>\n",
       "      <td>4.99</td>\n",
       "      <td>2010.0</td>\n",
       "      <td>4.99</td>\n",
       "      <td>119.0</td>\n",
       "      <td>17.99</td>\n",
       "      <td>{\"Behind the Scenes\"}</td>\n",
       "      <td>0</td>\n",
       "      <td>0</td>\n",
       "      <td>1</td>\n",
       "      <td>0</td>\n",
       "      <td>24.9001</td>\n",
       "      <td>14161.0</td>\n",
       "      <td>24.9001</td>\n",
       "      <td>6</td>\n",
       "      <td>0</td>\n",
       "      <td>1</td>\n",
       "    </tr>\n",
       "    <tr>\n",
       "      <th>183</th>\n",
       "      <td>2005-07-09 09:28:38+00:00</td>\n",
       "      <td>2005-07-10 06:46:38+00:00</td>\n",
       "      <td>4.99</td>\n",
       "      <td>2010.0</td>\n",
       "      <td>4.99</td>\n",
       "      <td>119.0</td>\n",
       "      <td>17.99</td>\n",
       "      <td>{\"Behind the Scenes\"}</td>\n",
       "      <td>0</td>\n",
       "      <td>0</td>\n",
       "      <td>1</td>\n",
       "      <td>0</td>\n",
       "      <td>24.9001</td>\n",
       "      <td>14161.0</td>\n",
       "      <td>24.9001</td>\n",
       "      <td>0</td>\n",
       "      <td>0</td>\n",
       "      <td>1</td>\n",
       "    </tr>\n",
       "    <tr>\n",
       "      <th>184</th>\n",
       "      <td>2005-07-30 04:47:03+00:00</td>\n",
       "      <td>2005-08-06 07:23:03+00:00</td>\n",
       "      <td>4.99</td>\n",
       "      <td>2010.0</td>\n",
       "      <td>4.99</td>\n",
       "      <td>119.0</td>\n",
       "      <td>17.99</td>\n",
       "      <td>{\"Behind the Scenes\"}</td>\n",
       "      <td>0</td>\n",
       "      <td>0</td>\n",
       "      <td>1</td>\n",
       "      <td>0</td>\n",
       "      <td>24.9001</td>\n",
       "      <td>14161.0</td>\n",
       "      <td>24.9001</td>\n",
       "      <td>7</td>\n",
       "      <td>0</td>\n",
       "      <td>1</td>\n",
       "    </tr>\n",
       "    <tr>\n",
       "      <th>185</th>\n",
       "      <td>2005-08-22 12:42:32+00:00</td>\n",
       "      <td>2005-08-28 09:04:32+00:00</td>\n",
       "      <td>4.99</td>\n",
       "      <td>2010.0</td>\n",
       "      <td>4.99</td>\n",
       "      <td>119.0</td>\n",
       "      <td>17.99</td>\n",
       "      <td>{\"Behind the Scenes\"}</td>\n",
       "      <td>0</td>\n",
       "      <td>0</td>\n",
       "      <td>1</td>\n",
       "      <td>0</td>\n",
       "      <td>24.9001</td>\n",
       "      <td>14161.0</td>\n",
       "      <td>24.9001</td>\n",
       "      <td>5</td>\n",
       "      <td>0</td>\n",
       "      <td>1</td>\n",
       "    </tr>\n",
       "  </tbody>\n",
       "</table>\n",
       "</div>"
      ],
      "text/plain": [
       "                  rental_date  ... behind_the_scenes\n",
       "181 2005-05-25 04:19:27+00:00  ...                 1\n",
       "182 2005-06-15 13:34:50+00:00  ...                 1\n",
       "183 2005-07-09 09:28:38+00:00  ...                 1\n",
       "184 2005-07-30 04:47:03+00:00  ...                 1\n",
       "185 2005-08-22 12:42:32+00:00  ...                 1\n",
       "\n",
       "[5 rows x 18 columns]"
      ]
     },
     "execution_count": 80,
     "metadata": {},
     "output_type": "execute_result"
    }
   ],
   "source": [
    "# encode for behind the scenes\n",
    "def encoder(x):\n",
    "    if \"Behind the Scenes\" in x:\n",
    "        return 1\n",
    "    else: \n",
    "        return 0\n",
    "\n",
    "# create column\n",
    "rental['behind_the_scenes'] = rental['special_features'].apply(encoder)\n",
    "\n",
    "# view\n",
    "rental[rental['special_features'] == '{\"Behind the Scenes\"}'].head()"
   ]
  },
  {
   "cell_type": "code",
   "execution_count": 81,
   "id": "c998f903-7c40-4292-86fc-73105a2442a8",
   "metadata": {
    "executionCancelledAt": null,
    "executionTime": null,
    "lastExecutedAt": null,
    "lastExecutedByKernel": null,
    "lastScheduledRunId": null,
    "lastSuccessfullyExecutedCode": null,
    "outputsMetadata": {
     "0": {
      "height": 238,
      "type": "dataFrame"
     }
    }
   },
   "outputs": [
    {
     "data": {
      "application/com.datacamp.data-table.v2+json": {
       "table": {
        "data": {
         "NC-17": [
          0,
          0,
          0,
          0,
          0
         ],
         "PG": [
          0,
          0,
          0,
          0,
          0
         ],
         "PG-13": [
          0,
          0,
          0,
          0,
          0
         ],
         "R": [
          1,
          1,
          1,
          1,
          1
         ],
         "amount": [
          2.99,
          2.99,
          2.99,
          2.99,
          2.99
         ],
         "amount_2": [
          8.9401,
          8.9401,
          8.9401,
          8.9401,
          8.9401
         ],
         "behind_the_scenes": [
          1,
          1,
          1,
          1,
          1
         ],
         "deleted_scenes": [
          0,
          0,
          0,
          0,
          0
         ],
         "index": [
          0,
          1,
          2,
          3,
          4
         ],
         "length": [
          126,
          126,
          126,
          126,
          126
         ],
         "length_2": [
          15876,
          15876,
          15876,
          15876,
          15876
         ],
         "release_year": [
          2005,
          2005,
          2005,
          2005,
          2005
         ],
         "rental_rate": [
          2.99,
          2.99,
          2.99,
          2.99,
          2.99
         ],
         "rental_rate_2": [
          8.9401,
          8.9401,
          8.9401,
          8.9401,
          8.9401
         ],
         "replacement_cost": [
          16.99,
          16.99,
          16.99,
          16.99,
          16.99
         ]
        },
        "schema": {
         "fields": [
          {
           "name": "index",
           "type": "integer"
          },
          {
           "name": "amount",
           "type": "number"
          },
          {
           "name": "release_year",
           "type": "number"
          },
          {
           "name": "rental_rate",
           "type": "number"
          },
          {
           "name": "length",
           "type": "number"
          },
          {
           "name": "replacement_cost",
           "type": "number"
          },
          {
           "name": "NC-17",
           "type": "integer"
          },
          {
           "name": "PG",
           "type": "integer"
          },
          {
           "name": "PG-13",
           "type": "integer"
          },
          {
           "name": "R",
           "type": "integer"
          },
          {
           "name": "amount_2",
           "type": "number"
          },
          {
           "name": "length_2",
           "type": "number"
          },
          {
           "name": "rental_rate_2",
           "type": "number"
          },
          {
           "name": "deleted_scenes",
           "type": "integer"
          },
          {
           "name": "behind_the_scenes",
           "type": "integer"
          }
         ],
         "pandas_version": "1.4.0",
         "primaryKey": [
          "index"
         ]
        }
       },
       "total_rows": 5,
       "truncation_type": null
      },
      "text/html": [
       "<div>\n",
       "<style scoped>\n",
       "    .dataframe tbody tr th:only-of-type {\n",
       "        vertical-align: middle;\n",
       "    }\n",
       "\n",
       "    .dataframe tbody tr th {\n",
       "        vertical-align: top;\n",
       "    }\n",
       "\n",
       "    .dataframe thead th {\n",
       "        text-align: right;\n",
       "    }\n",
       "</style>\n",
       "<table border=\"1\" class=\"dataframe\">\n",
       "  <thead>\n",
       "    <tr style=\"text-align: right;\">\n",
       "      <th></th>\n",
       "      <th>amount</th>\n",
       "      <th>release_year</th>\n",
       "      <th>rental_rate</th>\n",
       "      <th>length</th>\n",
       "      <th>replacement_cost</th>\n",
       "      <th>NC-17</th>\n",
       "      <th>PG</th>\n",
       "      <th>PG-13</th>\n",
       "      <th>R</th>\n",
       "      <th>amount_2</th>\n",
       "      <th>length_2</th>\n",
       "      <th>rental_rate_2</th>\n",
       "      <th>deleted_scenes</th>\n",
       "      <th>behind_the_scenes</th>\n",
       "    </tr>\n",
       "  </thead>\n",
       "  <tbody>\n",
       "    <tr>\n",
       "      <th>0</th>\n",
       "      <td>2.99</td>\n",
       "      <td>2005.0</td>\n",
       "      <td>2.99</td>\n",
       "      <td>126.0</td>\n",
       "      <td>16.99</td>\n",
       "      <td>0</td>\n",
       "      <td>0</td>\n",
       "      <td>0</td>\n",
       "      <td>1</td>\n",
       "      <td>8.9401</td>\n",
       "      <td>15876.0</td>\n",
       "      <td>8.9401</td>\n",
       "      <td>0</td>\n",
       "      <td>1</td>\n",
       "    </tr>\n",
       "    <tr>\n",
       "      <th>1</th>\n",
       "      <td>2.99</td>\n",
       "      <td>2005.0</td>\n",
       "      <td>2.99</td>\n",
       "      <td>126.0</td>\n",
       "      <td>16.99</td>\n",
       "      <td>0</td>\n",
       "      <td>0</td>\n",
       "      <td>0</td>\n",
       "      <td>1</td>\n",
       "      <td>8.9401</td>\n",
       "      <td>15876.0</td>\n",
       "      <td>8.9401</td>\n",
       "      <td>0</td>\n",
       "      <td>1</td>\n",
       "    </tr>\n",
       "    <tr>\n",
       "      <th>2</th>\n",
       "      <td>2.99</td>\n",
       "      <td>2005.0</td>\n",
       "      <td>2.99</td>\n",
       "      <td>126.0</td>\n",
       "      <td>16.99</td>\n",
       "      <td>0</td>\n",
       "      <td>0</td>\n",
       "      <td>0</td>\n",
       "      <td>1</td>\n",
       "      <td>8.9401</td>\n",
       "      <td>15876.0</td>\n",
       "      <td>8.9401</td>\n",
       "      <td>0</td>\n",
       "      <td>1</td>\n",
       "    </tr>\n",
       "    <tr>\n",
       "      <th>3</th>\n",
       "      <td>2.99</td>\n",
       "      <td>2005.0</td>\n",
       "      <td>2.99</td>\n",
       "      <td>126.0</td>\n",
       "      <td>16.99</td>\n",
       "      <td>0</td>\n",
       "      <td>0</td>\n",
       "      <td>0</td>\n",
       "      <td>1</td>\n",
       "      <td>8.9401</td>\n",
       "      <td>15876.0</td>\n",
       "      <td>8.9401</td>\n",
       "      <td>0</td>\n",
       "      <td>1</td>\n",
       "    </tr>\n",
       "    <tr>\n",
       "      <th>4</th>\n",
       "      <td>2.99</td>\n",
       "      <td>2005.0</td>\n",
       "      <td>2.99</td>\n",
       "      <td>126.0</td>\n",
       "      <td>16.99</td>\n",
       "      <td>0</td>\n",
       "      <td>0</td>\n",
       "      <td>0</td>\n",
       "      <td>1</td>\n",
       "      <td>8.9401</td>\n",
       "      <td>15876.0</td>\n",
       "      <td>8.9401</td>\n",
       "      <td>0</td>\n",
       "      <td>1</td>\n",
       "    </tr>\n",
       "  </tbody>\n",
       "</table>\n",
       "</div>"
      ],
      "text/plain": [
       "   amount  release_year  ...  deleted_scenes  behind_the_scenes\n",
       "0    2.99        2005.0  ...               0                  1\n",
       "1    2.99        2005.0  ...               0                  1\n",
       "2    2.99        2005.0  ...               0                  1\n",
       "3    2.99        2005.0  ...               0                  1\n",
       "4    2.99        2005.0  ...               0                  1\n",
       "\n",
       "[5 rows x 14 columns]"
      ]
     },
     "execution_count": 81,
     "metadata": {},
     "output_type": "execute_result"
    }
   ],
   "source": [
    "# Create X\n",
    "X = rental.drop(['rental_date', 'return_date', 'special_features', 'rental_length_days'], axis = 'columns')\n",
    "\n",
    "X.head()"
   ]
  },
  {
   "cell_type": "code",
   "execution_count": 82,
   "id": "2a27b473-57d6-462a-b626-6c4e2847959f",
   "metadata": {
    "executionCancelledAt": null,
    "executionTime": null,
    "lastExecutedAt": null,
    "lastExecutedByKernel": null,
    "lastScheduledRunId": null,
    "lastSuccessfullyExecutedCode": null,
    "outputsMetadata": {
     "0": {
      "height": 248,
      "type": "dataFrame"
     }
    }
   },
   "outputs": [
    {
     "data": {
      "application/com.datacamp.data-table.v2+json": {
       "table": {
        "data": {
         "index": [
          0,
          1,
          2,
          3,
          4
         ],
         "rental_length_days": [
          3,
          2,
          7,
          2,
          4
         ]
        },
        "schema": {
         "fields": [
          {
           "name": "index",
           "type": "integer"
          },
          {
           "name": "rental_length_days",
           "type": "integer"
          }
         ],
         "pandas_version": "1.4.0",
         "primaryKey": [
          "index"
         ]
        }
       },
       "total_rows": 5,
       "truncation_type": null
      },
      "text/plain": [
       "0    3\n",
       "1    2\n",
       "2    7\n",
       "3    2\n",
       "4    4\n",
       "Name: rental_length_days, dtype: int64"
      ]
     },
     "execution_count": 82,
     "metadata": {},
     "output_type": "execute_result"
    }
   ],
   "source": [
    "# create y\n",
    "y = rental['rental_length_days']\n",
    "\n",
    "y.head()"
   ]
  },
  {
   "cell_type": "code",
   "execution_count": 83,
   "id": "33eee6f0-2862-4e8c-b60c-78d0d6dc8dfe",
   "metadata": {
    "executionCancelledAt": null,
    "executionTime": 52,
    "lastExecutedAt": 1727345987098,
    "lastExecutedByKernel": "99cea706-03f6-438e-be5f-1f1c3323d351",
    "lastScheduledRunId": null,
    "lastSuccessfullyExecutedCode": "# split the data\nX_train, X_test, y_train, y_test = train_test_split(X, y, test_size = 0.2, random_state = 9)"
   },
   "outputs": [],
   "source": [
    "# split the data\n",
    "X_train, X_test, y_train, y_test = train_test_split(X, y, test_size = 0.2, random_state = 9)"
   ]
  },
  {
   "cell_type": "code",
   "execution_count": 84,
   "id": "f5a12448-6602-4a61-8146-ee512d2ece0f",
   "metadata": {
    "executionCancelledAt": null,
    "executionTime": 48,
    "lastExecutedAt": 1727345987146,
    "lastExecutedByKernel": "99cea706-03f6-438e-be5f-1f1c3323d351",
    "lastScheduledRunId": null,
    "lastSuccessfullyExecutedCode": "# find a model yielding mse of 3 or less on test set\n# begin with basic models\n# imports \nfrom sklearn.linear_model import LinearRegression\nfrom sklearn.svm import SVR\nfrom sklearn.tree import DecisionTreeRegressor\nfrom sklearn.ensemble import VotingRegressor, RandomForestRegressor, AdaBoostRegressor, GradientBoostingRegressor"
   },
   "outputs": [],
   "source": [
    "# find a model yielding mse of 3 or less on test set\n",
    "# begin with basic models\n",
    "# imports \n",
    "from sklearn.linear_model import LinearRegression\n",
    "from sklearn.svm import SVR\n",
    "from sklearn.tree import DecisionTreeRegressor\n",
    "from sklearn.ensemble import VotingRegressor, RandomForestRegressor, AdaBoostRegressor, GradientBoostingRegressor"
   ]
  },
  {
   "cell_type": "code",
   "execution_count": 85,
   "id": "070d0201-144d-4af8-bd4c-8d2942e797ec",
   "metadata": {
    "executionCancelledAt": null,
    "executionTime": 56,
    "lastExecutedAt": 1727345987202,
    "lastExecutedByKernel": "99cea706-03f6-438e-be5f-1f1c3323d351",
    "lastScheduledRunId": null,
    "lastSuccessfullyExecutedCode": "# basic dt\ndt = DecisionTreeRegressor(random_state = 9)\n\ndt.fit(X_train, y_train)\n\ndt_pred = dt.predict(X_test)\n\nmse_dt = mean_squared_error(y_test, dt_pred)\n\nprint('The MSE of a basic Decision Tree is {}'.format(mse_dt))",
    "outputsMetadata": {
     "0": {
      "height": 38,
      "type": "stream"
     }
    }
   },
   "outputs": [
    {
     "name": "stdout",
     "output_type": "stream",
     "text": [
      "The MSE of a basic Decision Tree is 2.1675004952579413\n"
     ]
    }
   ],
   "source": [
    "# basic dt\n",
    "dt = DecisionTreeRegressor(random_state = 9)\n",
    "\n",
    "dt.fit(X_train, y_train)\n",
    "\n",
    "dt_pred = dt.predict(X_test)\n",
    "\n",
    "mse_dt = mean_squared_error(y_test, dt_pred)\n",
    "\n",
    "print('The MSE of a basic Decision Tree is {}'.format(mse_dt))"
   ]
  },
  {
   "cell_type": "code",
   "execution_count": 86,
   "id": "ecd8795e-1a53-4ff7-beb4-6e051b75effc",
   "metadata": {
    "executionCancelledAt": null,
    "executionTime": 2418,
    "lastExecutedAt": 1727345989620,
    "lastExecutedByKernel": "99cea706-03f6-438e-be5f-1f1c3323d351",
    "lastScheduledRunId": null,
    "lastSuccessfullyExecutedCode": "# Try out basic versions other models\nrf = RandomForestRegressor(random_state = 9)\n\nrf.fit(X_train, y_train)\n\nrf_pred = rf.predict(X_test)\n\nrf_mse = mean_squared_error(y_test, rf_pred)\n\nprint(f'MSE of a basic Random Forest Model is {rf_mse}')",
    "outputsMetadata": {
     "0": {
      "height": 38,
      "type": "stream"
     }
    }
   },
   "outputs": [
    {
     "name": "stdout",
     "output_type": "stream",
     "text": [
      "MSE of a basic Random Forest Model is 2.030141907417274\n"
     ]
    }
   ],
   "source": [
    "# Try out basic versions other models\n",
    "rf = RandomForestRegressor(random_state = 9)\n",
    "\n",
    "rf.fit(X_train, y_train)\n",
    "\n",
    "rf_pred = rf.predict(X_test)\n",
    "\n",
    "rf_mse = mean_squared_error(y_test, rf_pred)\n",
    "\n",
    "print(f'MSE of a basic Random Forest Model is {rf_mse}')"
   ]
  },
  {
   "cell_type": "code",
   "execution_count": 87,
   "id": "9cf18457-f57f-4536-8875-d08d18176583",
   "metadata": {
    "executionCancelledAt": null,
    "executionTime": 163,
    "lastExecutedAt": 1727345989783,
    "lastExecutedByKernel": "99cea706-03f6-438e-be5f-1f1c3323d351",
    "lastScheduledRunId": null,
    "lastSuccessfullyExecutedCode": "# linear model\nlr = LinearRegression()\n\nlr.fit(X_train, y_train)\n\nlr_pred = lr.predict(X_test)\n\nlr_mse = mean_squared_error(y_test, lr_pred)\n\nprint(f'Basic Linear Model MSE is {lr_mse}')",
    "outputsMetadata": {
     "0": {
      "height": 38,
      "type": "stream"
     }
    }
   },
   "outputs": [
    {
     "name": "stdout",
     "output_type": "stream",
     "text": [
      "Basic Linear Model MSE is 2.9417238646975883\n"
     ]
    }
   ],
   "source": [
    "# linear model\n",
    "lr = LinearRegression()\n",
    "\n",
    "lr.fit(X_train, y_train)\n",
    "\n",
    "lr_pred = lr.predict(X_test)\n",
    "\n",
    "lr_mse = mean_squared_error(y_test, lr_pred)\n",
    "\n",
    "print(f'Basic Linear Model MSE is {lr_mse}')"
   ]
  },
  {
   "cell_type": "code",
   "execution_count": 88,
   "id": "70917acb-af9a-4c97-8201-7504ee7da6d3",
   "metadata": {
    "executionCancelledAt": null,
    "executionTime": 1320,
    "lastExecutedAt": 1727345991103,
    "lastExecutedByKernel": "99cea706-03f6-438e-be5f-1f1c3323d351",
    "lastScheduledRunId": null,
    "lastSuccessfullyExecutedCode": "# ada\nada = AdaBoostRegressor(base_estimator = dt, random_state = 9)\n\nada.fit(X_train, y_train)\n\nada_pred = ada.predict(X_test)\n\nada_mse = mean_squared_error(y_test, ada_pred)\n\nprint(f'Basic Ada Boost MSE is {ada_mse}')",
    "outputsMetadata": {
     "0": {
      "height": 38,
      "type": "stream"
     }
    }
   },
   "outputs": [
    {
     "name": "stdout",
     "output_type": "stream",
     "text": [
      "Basic Ada Boost MSE is 2.031165829185687\n"
     ]
    }
   ],
   "source": [
    "# ada\n",
    "ada = AdaBoostRegressor(base_estimator = dt, random_state = 9)\n",
    "\n",
    "ada.fit(X_train, y_train)\n",
    "\n",
    "ada_pred = ada.predict(X_test)\n",
    "\n",
    "ada_mse = mean_squared_error(y_test, ada_pred)\n",
    "\n",
    "print(f'Basic Ada Boost MSE is {ada_mse}')"
   ]
  },
  {
   "cell_type": "code",
   "execution_count": 89,
   "id": "869c4e42-b8b9-485f-86e1-bb2d91e0a2c1",
   "metadata": {
    "executionCancelledAt": null,
    "executionTime": 980,
    "lastExecutedAt": 1727345992083,
    "lastExecutedByKernel": "99cea706-03f6-438e-be5f-1f1c3323d351",
    "lastScheduledRunId": null,
    "lastSuccessfullyExecutedCode": "# gradient\ngrad = GradientBoostingRegressor(random_state = 9)\n\ngrad.fit(X_train, y_train)\n\ngrad_pred = grad.predict(X_test)\n\ngrad_mse = mean_squared_error(y_test, grad_pred)\n\nprint(f'The MSE for a basic GradientBoosting Model is {grad_mse}')",
    "outputsMetadata": {
     "0": {
      "height": 38,
      "type": "stream"
     }
    }
   },
   "outputs": [
    {
     "name": "stdout",
     "output_type": "stream",
     "text": [
      "The MSE for a basic GradientBoosting Model is 2.4253464800253557\n"
     ]
    }
   ],
   "source": [
    "# gradient\n",
    "grad = GradientBoostingRegressor(random_state = 9)\n",
    "\n",
    "grad.fit(X_train, y_train)\n",
    "\n",
    "grad_pred = grad.predict(X_test)\n",
    "\n",
    "grad_mse = mean_squared_error(y_test, grad_pred)\n",
    "\n",
    "print(f'The MSE for a basic GradientBoosting Model is {grad_mse}')"
   ]
  },
  {
   "cell_type": "code",
   "execution_count": 90,
   "id": "020864ba-8e48-4234-827d-d40743599191",
   "metadata": {
    "executionCancelledAt": null,
    "executionTime": 7536,
    "lastExecutedAt": 1727345999620,
    "lastExecutedByKernel": "99cea706-03f6-438e-be5f-1f1c3323d351",
    "lastScheduledRunId": null,
    "lastSuccessfullyExecutedCode": "# SVR\nsvr = SVR()\n\nsvr.fit(X_train, y_train)\n\nsvr_pred = svr.predict(X_test)\n\nsvr_mse = mean_squared_error(y_test, svr_pred)\n\nprint(f'Basic SVR model MSE is {svr_mse}')",
    "outputsMetadata": {
     "0": {
      "height": 38,
      "type": "stream"
     }
    }
   },
   "outputs": [
    {
     "name": "stdout",
     "output_type": "stream",
     "text": [
      "Basic SVR model MSE is 7.140934567092472\n"
     ]
    }
   ],
   "source": [
    "# SVR\n",
    "svr = SVR()\n",
    "\n",
    "svr.fit(X_train, y_train)\n",
    "\n",
    "svr_pred = svr.predict(X_test)\n",
    "\n",
    "svr_mse = mean_squared_error(y_test, svr_pred)\n",
    "\n",
    "print(f'Basic SVR model MSE is {svr_mse}')"
   ]
  },
  {
   "cell_type": "markdown",
   "id": "d0a54da0-6a70-4597-9232-9557ced7733b",
   "metadata": {},
   "source": [
    "**Without any model tuning, random forest performs best, slightly above ada. Model tuning would be next to see which model and hyperparameter selection works best.**"
   ]
  },
  {
   "cell_type": "code",
   "execution_count": 91,
   "id": "3ce8b464-f5e8-4c92-81dc-321e117b9467",
   "metadata": {
    "executionCancelledAt": null,
    "executionTime": 48,
    "lastExecutedAt": 1727345999668,
    "lastExecutedByKernel": "99cea706-03f6-438e-be5f-1f1c3323d351",
    "lastScheduledRunId": null,
    "lastSuccessfullyExecutedCode": "best_model = rf\nbest_mse = rf_mse"
   },
   "outputs": [],
   "source": [
    "best_model = rf\n",
    "best_mse = rf_mse"
   ]
  }
 ],
 "metadata": {
  "colab": {
   "name": "Welcome to DataCamp Workspaces.ipynb",
   "provenance": []
  },
  "kernelspec": {
   "display_name": "Python 3 (ipykernel)",
   "language": "python",
   "name": "python3"
  },
  "language_info": {
   "codemirror_mode": {
    "name": "ipython",
    "version": 3
   },
   "file_extension": ".py",
   "mimetype": "text/x-python",
   "name": "python",
   "nbconvert_exporter": "python",
   "pygments_lexer": "ipython3",
   "version": "3.11.5"
  }
 },
 "nbformat": 4,
 "nbformat_minor": 5
}
