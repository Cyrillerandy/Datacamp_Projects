{
 "cells": [
  {
   "cell_type": "markdown",
   "id": "a09e6d54-bf3f-4632-b299-bd49d5c80d5f",
   "metadata": {},
   "source": [
    "![Two data scientists working on a dashboard.](hr-image-small.png)\n",
    "\n",
    "A common problem when creating models to generate business value from data is that the datasets can be so large that it can take days for the model to generate predictions. Ensuring that your dataset is stored as efficiently as possible is crucial for allowing these models to run on a more reasonable timescale without having to reduce the size of the dataset.\n",
    "\n",
    "You've been hired by a major online data science training provider called *Training Data Ltd.* to clean up one of their largest customer datasets. This dataset will eventually be used to predict whether their students are looking for a new job or not, information that they will then use to direct them to prospective recruiters.\n",
    "\n",
    "You've been given access to `customer_train.csv`, which is a subset of their entire customer dataset, so you can create a proof-of-concept of a much more efficient storage solution. The dataset contains anonymized student information, and whether they were looking for a new job or not during training:\n",
    "\n",
    "| Column                   | Description                                                                      |\n",
    "|------------------------- |--------------------------------------------------------------------------------- |\n",
    "| `student_id`             | A unique ID for each student.                                                    |\n",
    "| `city`                   | A code for the city the student lives in.                                        |\n",
    "| `city_development_index` | A scaled development index for the city.                                         |\n",
    "| `gender`                 | The student's gender.                                                            |\n",
    "| `relevant_experience`    | An indicator of the student's work relevant experience.                          |\n",
    "| `enrolled_university`    | The type of university course enrolled in (if any).                              |\n",
    "| `education_level`        | The student's education level.                                                   |\n",
    "| `major_discipline`       | The educational discipline of the student.                                       |\n",
    "| `experience`             | The student's total work experience (in years).                                  |\n",
    "| `company_size`           | The number of employees at the student's current employer.                       |\n",
    "| `company_type`           | The type of company employing the student.                                       |\n",
    "| `last_new_job`           | The number of years between the student's current and previous jobs.             |\n",
    "| `training_hours`         | The number of hours of training completed.                                       |\n",
    "| `job_change`             | An indicator of whether the student is looking for a new job (`1`) or not (`0`). |"
   ]
  },
  {
   "cell_type": "code",
   "execution_count": 1,
   "id": "eda9c1b2-4e9a-41ac-8da6-d4c98775f986",
   "metadata": {
    "executionCancelledAt": null,
    "executionTime": 68,
    "lastExecutedAt": 1723721716931,
    "lastExecutedByKernel": "8ac5791a-f2b6-4f50-a55d-625f43a1308d",
    "lastScheduledRunId": null,
    "lastSuccessfullyExecutedCode": "# Import necessary libraries\nimport pandas as pd\n\n# Load the dataset\nds_jobs = pd.read_csv(\"customer_train.csv\")\n\n# View the dataset\nds_jobs.head()",
    "outputsMetadata": {
     "0": {
      "height": 210,
      "type": "dataFrame"
     }
    }
   },
   "outputs": [
    {
     "data": {
      "text/html": [
       "<div>\n",
       "<style scoped>\n",
       "    .dataframe tbody tr th:only-of-type {\n",
       "        vertical-align: middle;\n",
       "    }\n",
       "\n",
       "    .dataframe tbody tr th {\n",
       "        vertical-align: top;\n",
       "    }\n",
       "\n",
       "    .dataframe thead th {\n",
       "        text-align: right;\n",
       "    }\n",
       "</style>\n",
       "<table border=\"1\" class=\"dataframe\">\n",
       "  <thead>\n",
       "    <tr style=\"text-align: right;\">\n",
       "      <th></th>\n",
       "      <th>student_id</th>\n",
       "      <th>city</th>\n",
       "      <th>city_development_index</th>\n",
       "      <th>gender</th>\n",
       "      <th>relevant_experience</th>\n",
       "      <th>enrolled_university</th>\n",
       "      <th>education_level</th>\n",
       "      <th>major_discipline</th>\n",
       "      <th>experience</th>\n",
       "      <th>company_size</th>\n",
       "      <th>company_type</th>\n",
       "      <th>last_new_job</th>\n",
       "      <th>training_hours</th>\n",
       "      <th>job_change</th>\n",
       "    </tr>\n",
       "  </thead>\n",
       "  <tbody>\n",
       "    <tr>\n",
       "      <th>0</th>\n",
       "      <td>8949</td>\n",
       "      <td>city_103</td>\n",
       "      <td>0.920</td>\n",
       "      <td>Male</td>\n",
       "      <td>Has relevant experience</td>\n",
       "      <td>no_enrollment</td>\n",
       "      <td>Graduate</td>\n",
       "      <td>STEM</td>\n",
       "      <td>&gt;20</td>\n",
       "      <td>NaN</td>\n",
       "      <td>NaN</td>\n",
       "      <td>1</td>\n",
       "      <td>36</td>\n",
       "      <td>1.0</td>\n",
       "    </tr>\n",
       "    <tr>\n",
       "      <th>1</th>\n",
       "      <td>29725</td>\n",
       "      <td>city_40</td>\n",
       "      <td>0.776</td>\n",
       "      <td>Male</td>\n",
       "      <td>No relevant experience</td>\n",
       "      <td>no_enrollment</td>\n",
       "      <td>Graduate</td>\n",
       "      <td>STEM</td>\n",
       "      <td>15</td>\n",
       "      <td>50-99</td>\n",
       "      <td>Pvt Ltd</td>\n",
       "      <td>&gt;4</td>\n",
       "      <td>47</td>\n",
       "      <td>0.0</td>\n",
       "    </tr>\n",
       "    <tr>\n",
       "      <th>2</th>\n",
       "      <td>11561</td>\n",
       "      <td>city_21</td>\n",
       "      <td>0.624</td>\n",
       "      <td>NaN</td>\n",
       "      <td>No relevant experience</td>\n",
       "      <td>Full time course</td>\n",
       "      <td>Graduate</td>\n",
       "      <td>STEM</td>\n",
       "      <td>5</td>\n",
       "      <td>NaN</td>\n",
       "      <td>NaN</td>\n",
       "      <td>never</td>\n",
       "      <td>83</td>\n",
       "      <td>0.0</td>\n",
       "    </tr>\n",
       "    <tr>\n",
       "      <th>3</th>\n",
       "      <td>33241</td>\n",
       "      <td>city_115</td>\n",
       "      <td>0.789</td>\n",
       "      <td>NaN</td>\n",
       "      <td>No relevant experience</td>\n",
       "      <td>NaN</td>\n",
       "      <td>Graduate</td>\n",
       "      <td>Business Degree</td>\n",
       "      <td>&lt;1</td>\n",
       "      <td>NaN</td>\n",
       "      <td>Pvt Ltd</td>\n",
       "      <td>never</td>\n",
       "      <td>52</td>\n",
       "      <td>1.0</td>\n",
       "    </tr>\n",
       "    <tr>\n",
       "      <th>4</th>\n",
       "      <td>666</td>\n",
       "      <td>city_162</td>\n",
       "      <td>0.767</td>\n",
       "      <td>Male</td>\n",
       "      <td>Has relevant experience</td>\n",
       "      <td>no_enrollment</td>\n",
       "      <td>Masters</td>\n",
       "      <td>STEM</td>\n",
       "      <td>&gt;20</td>\n",
       "      <td>50-99</td>\n",
       "      <td>Funded Startup</td>\n",
       "      <td>4</td>\n",
       "      <td>8</td>\n",
       "      <td>0.0</td>\n",
       "    </tr>\n",
       "  </tbody>\n",
       "</table>\n",
       "</div>"
      ],
      "text/plain": [
       "   student_id      city  city_development_index gender  \\\n",
       "0        8949  city_103                   0.920   Male   \n",
       "1       29725   city_40                   0.776   Male   \n",
       "2       11561   city_21                   0.624    NaN   \n",
       "3       33241  city_115                   0.789    NaN   \n",
       "4         666  city_162                   0.767   Male   \n",
       "\n",
       "       relevant_experience enrolled_university education_level  \\\n",
       "0  Has relevant experience       no_enrollment        Graduate   \n",
       "1   No relevant experience       no_enrollment        Graduate   \n",
       "2   No relevant experience    Full time course        Graduate   \n",
       "3   No relevant experience                 NaN        Graduate   \n",
       "4  Has relevant experience       no_enrollment         Masters   \n",
       "\n",
       "  major_discipline experience company_size    company_type last_new_job  \\\n",
       "0             STEM        >20          NaN             NaN            1   \n",
       "1             STEM         15        50-99         Pvt Ltd           >4   \n",
       "2             STEM          5          NaN             NaN        never   \n",
       "3  Business Degree         <1          NaN         Pvt Ltd        never   \n",
       "4             STEM        >20        50-99  Funded Startup            4   \n",
       "\n",
       "   training_hours  job_change  \n",
       "0              36         1.0  \n",
       "1              47         0.0  \n",
       "2              83         0.0  \n",
       "3              52         1.0  \n",
       "4               8         0.0  "
      ]
     },
     "execution_count": 1,
     "metadata": {},
     "output_type": "execute_result"
    }
   ],
   "source": [
    "# Import necessary libraries\n",
    "import pandas as pd\n",
    "\n",
    "# Load the dataset\n",
    "ds_jobs = pd.read_csv(\"customer_train.csv\")\n",
    "\n",
    "# View the dataset\n",
    "ds_jobs.head()"
   ]
  },
  {
   "cell_type": "code",
   "execution_count": 2,
   "id": "13757e62-aca2-48f4-b569-a838af11bdd5",
   "metadata": {
    "executionCancelledAt": null,
    "executionTime": 52,
    "lastExecutedAt": 1723721716983,
    "lastExecutedByKernel": "8ac5791a-f2b6-4f50-a55d-625f43a1308d",
    "lastScheduledRunId": null,
    "lastSuccessfullyExecutedCode": "# Create a copy of ds_jobs for transforming\nds_jobs_transformed = ds_jobs.copy()\n\n# Start coding here. Use as many cells as you like!"
   },
   "outputs": [],
   "source": [
    "# Create a copy of ds_jobs for transforming\n",
    "ds_jobs_transformed = ds_jobs.copy()\n",
    "\n",
    "# Start coding here. Use as many cells as you like!"
   ]
  },
  {
   "cell_type": "markdown",
   "id": "4236dfec-552d-47b0-ba8d-37ae33531d03",
   "metadata": {},
   "source": [
    "### The Head Data Scientist at Training Data Ltd. has asked you to create a DataFrame called ds_jobs_transformed that stores the data in customer_train.csv much more efficiently. Specifically, they have set the following requirements:\n",
    "\n",
    "**Q1. Columns containing categories with only two factors must be stored as Booleans (bool).**"
   ]
  },
  {
   "cell_type": "code",
   "execution_count": 3,
   "id": "54ca5f5a-2f41-4a54-a161-a33f9a1cecb0",
   "metadata": {
    "executionCancelledAt": null,
    "executionTime": 67,
    "lastExecutedAt": 1723721717050,
    "lastExecutedByKernel": "8ac5791a-f2b6-4f50-a55d-625f43a1308d",
    "lastScheduledRunId": null,
    "lastSuccessfullyExecutedCode": "# preview the data\nprint(ds_jobs_transformed.dtypes)\nds_jobs_transformed.head()",
    "outputsMetadata": {
     "0": {
      "height": 332,
      "type": "stream"
     },
     "1": {
      "height": 210,
      "type": "dataFrame"
     }
    }
   },
   "outputs": [
    {
     "name": "stdout",
     "output_type": "stream",
     "text": [
      "student_id                  int64\n",
      "city                       object\n",
      "city_development_index    float64\n",
      "gender                     object\n",
      "relevant_experience        object\n",
      "enrolled_university        object\n",
      "education_level            object\n",
      "major_discipline           object\n",
      "experience                 object\n",
      "company_size               object\n",
      "company_type               object\n",
      "last_new_job               object\n",
      "training_hours              int64\n",
      "job_change                float64\n",
      "dtype: object\n"
     ]
    },
    {
     "data": {
      "text/html": [
       "<div>\n",
       "<style scoped>\n",
       "    .dataframe tbody tr th:only-of-type {\n",
       "        vertical-align: middle;\n",
       "    }\n",
       "\n",
       "    .dataframe tbody tr th {\n",
       "        vertical-align: top;\n",
       "    }\n",
       "\n",
       "    .dataframe thead th {\n",
       "        text-align: right;\n",
       "    }\n",
       "</style>\n",
       "<table border=\"1\" class=\"dataframe\">\n",
       "  <thead>\n",
       "    <tr style=\"text-align: right;\">\n",
       "      <th></th>\n",
       "      <th>student_id</th>\n",
       "      <th>city</th>\n",
       "      <th>city_development_index</th>\n",
       "      <th>gender</th>\n",
       "      <th>relevant_experience</th>\n",
       "      <th>enrolled_university</th>\n",
       "      <th>education_level</th>\n",
       "      <th>major_discipline</th>\n",
       "      <th>experience</th>\n",
       "      <th>company_size</th>\n",
       "      <th>company_type</th>\n",
       "      <th>last_new_job</th>\n",
       "      <th>training_hours</th>\n",
       "      <th>job_change</th>\n",
       "    </tr>\n",
       "  </thead>\n",
       "  <tbody>\n",
       "    <tr>\n",
       "      <th>0</th>\n",
       "      <td>8949</td>\n",
       "      <td>city_103</td>\n",
       "      <td>0.920</td>\n",
       "      <td>Male</td>\n",
       "      <td>Has relevant experience</td>\n",
       "      <td>no_enrollment</td>\n",
       "      <td>Graduate</td>\n",
       "      <td>STEM</td>\n",
       "      <td>&gt;20</td>\n",
       "      <td>NaN</td>\n",
       "      <td>NaN</td>\n",
       "      <td>1</td>\n",
       "      <td>36</td>\n",
       "      <td>1.0</td>\n",
       "    </tr>\n",
       "    <tr>\n",
       "      <th>1</th>\n",
       "      <td>29725</td>\n",
       "      <td>city_40</td>\n",
       "      <td>0.776</td>\n",
       "      <td>Male</td>\n",
       "      <td>No relevant experience</td>\n",
       "      <td>no_enrollment</td>\n",
       "      <td>Graduate</td>\n",
       "      <td>STEM</td>\n",
       "      <td>15</td>\n",
       "      <td>50-99</td>\n",
       "      <td>Pvt Ltd</td>\n",
       "      <td>&gt;4</td>\n",
       "      <td>47</td>\n",
       "      <td>0.0</td>\n",
       "    </tr>\n",
       "    <tr>\n",
       "      <th>2</th>\n",
       "      <td>11561</td>\n",
       "      <td>city_21</td>\n",
       "      <td>0.624</td>\n",
       "      <td>NaN</td>\n",
       "      <td>No relevant experience</td>\n",
       "      <td>Full time course</td>\n",
       "      <td>Graduate</td>\n",
       "      <td>STEM</td>\n",
       "      <td>5</td>\n",
       "      <td>NaN</td>\n",
       "      <td>NaN</td>\n",
       "      <td>never</td>\n",
       "      <td>83</td>\n",
       "      <td>0.0</td>\n",
       "    </tr>\n",
       "    <tr>\n",
       "      <th>3</th>\n",
       "      <td>33241</td>\n",
       "      <td>city_115</td>\n",
       "      <td>0.789</td>\n",
       "      <td>NaN</td>\n",
       "      <td>No relevant experience</td>\n",
       "      <td>NaN</td>\n",
       "      <td>Graduate</td>\n",
       "      <td>Business Degree</td>\n",
       "      <td>&lt;1</td>\n",
       "      <td>NaN</td>\n",
       "      <td>Pvt Ltd</td>\n",
       "      <td>never</td>\n",
       "      <td>52</td>\n",
       "      <td>1.0</td>\n",
       "    </tr>\n",
       "    <tr>\n",
       "      <th>4</th>\n",
       "      <td>666</td>\n",
       "      <td>city_162</td>\n",
       "      <td>0.767</td>\n",
       "      <td>Male</td>\n",
       "      <td>Has relevant experience</td>\n",
       "      <td>no_enrollment</td>\n",
       "      <td>Masters</td>\n",
       "      <td>STEM</td>\n",
       "      <td>&gt;20</td>\n",
       "      <td>50-99</td>\n",
       "      <td>Funded Startup</td>\n",
       "      <td>4</td>\n",
       "      <td>8</td>\n",
       "      <td>0.0</td>\n",
       "    </tr>\n",
       "  </tbody>\n",
       "</table>\n",
       "</div>"
      ],
      "text/plain": [
       "   student_id      city  city_development_index gender  \\\n",
       "0        8949  city_103                   0.920   Male   \n",
       "1       29725   city_40                   0.776   Male   \n",
       "2       11561   city_21                   0.624    NaN   \n",
       "3       33241  city_115                   0.789    NaN   \n",
       "4         666  city_162                   0.767   Male   \n",
       "\n",
       "       relevant_experience enrolled_university education_level  \\\n",
       "0  Has relevant experience       no_enrollment        Graduate   \n",
       "1   No relevant experience       no_enrollment        Graduate   \n",
       "2   No relevant experience    Full time course        Graduate   \n",
       "3   No relevant experience                 NaN        Graduate   \n",
       "4  Has relevant experience       no_enrollment         Masters   \n",
       "\n",
       "  major_discipline experience company_size    company_type last_new_job  \\\n",
       "0             STEM        >20          NaN             NaN            1   \n",
       "1             STEM         15        50-99         Pvt Ltd           >4   \n",
       "2             STEM          5          NaN             NaN        never   \n",
       "3  Business Degree         <1          NaN         Pvt Ltd        never   \n",
       "4             STEM        >20        50-99  Funded Startup            4   \n",
       "\n",
       "   training_hours  job_change  \n",
       "0              36         1.0  \n",
       "1              47         0.0  \n",
       "2              83         0.0  \n",
       "3              52         1.0  \n",
       "4               8         0.0  "
      ]
     },
     "execution_count": 3,
     "metadata": {},
     "output_type": "execute_result"
    }
   ],
   "source": [
    "# preview the data\n",
    "print(ds_jobs_transformed.dtypes)\n",
    "ds_jobs_transformed.head()"
   ]
  },
  {
   "cell_type": "code",
   "execution_count": 4,
   "id": "bd0120ad-594c-4c44-bc06-e2b799ab02a0",
   "metadata": {
    "executionCancelledAt": null,
    "executionTime": 52,
    "lastExecutedAt": 1723721717102,
    "lastExecutedByKernel": "8ac5791a-f2b6-4f50-a55d-625f43a1308d",
    "lastScheduledRunId": null,
    "lastSuccessfullyExecutedCode": "# check for columns with only 2 unique values\nbool_cols = []\n\nfor col in ds_jobs_transformed.columns:\n    if ds_jobs_transformed[col].nunique() == 2:\n        bool_cols.append(col)\n        \nprint(f'The column/s with only 2 factors is/are {bool_cols}')",
    "outputsMetadata": {
     "0": {
      "height": 38,
      "type": "stream"
     }
    }
   },
   "outputs": [
    {
     "name": "stdout",
     "output_type": "stream",
     "text": [
      "The column/s with only 2 factors is/are ['relevant_experience', 'job_change']\n"
     ]
    }
   ],
   "source": [
    "# check for columns with only 2 unique values\n",
    "bool_cols = []\n",
    "\n",
    "for col in ds_jobs_transformed.columns:\n",
    "    if ds_jobs_transformed[col].nunique() == 2:\n",
    "        bool_cols.append(col)\n",
    "        \n",
    "print(f'The column/s with only 2 factors is/are {bool_cols}')"
   ]
  },
  {
   "cell_type": "code",
   "execution_count": 5,
   "id": "c3a0a806-0333-41c5-84a4-feefd614db30",
   "metadata": {
    "executionCancelledAt": null,
    "executionTime": 56,
    "lastExecutedAt": 1723721717158,
    "lastExecutedByKernel": "8ac5791a-f2b6-4f50-a55d-625f43a1308d",
    "lastScheduledRunId": null,
    "lastSuccessfullyExecutedCode": "# change the dtypes\nfor col in bool_cols:\n    ds_jobs_transformed[col] = ds_jobs_transformed[col].astype('bool')\n    \nprint(ds_jobs_transformed.dtypes)",
    "outputsMetadata": {
     "0": {
      "height": 332,
      "type": "stream"
     }
    }
   },
   "outputs": [
    {
     "name": "stdout",
     "output_type": "stream",
     "text": [
      "student_id                  int64\n",
      "city                       object\n",
      "city_development_index    float64\n",
      "gender                     object\n",
      "relevant_experience          bool\n",
      "enrolled_university        object\n",
      "education_level            object\n",
      "major_discipline           object\n",
      "experience                 object\n",
      "company_size               object\n",
      "company_type               object\n",
      "last_new_job               object\n",
      "training_hours              int64\n",
      "job_change                   bool\n",
      "dtype: object\n"
     ]
    }
   ],
   "source": [
    "# change the dtypes\n",
    "for col in bool_cols:\n",
    "    ds_jobs_transformed[col] = ds_jobs_transformed[col].astype('bool')\n",
    "    \n",
    "print(ds_jobs_transformed.dtypes)"
   ]
  },
  {
   "cell_type": "markdown",
   "id": "c9964e9c-5973-4ffb-9a09-37d85e11ecd7",
   "metadata": {},
   "source": [
    "**Q2. Columns containing integers only must be stored as 32-bit integers (int32).**"
   ]
  },
  {
   "cell_type": "code",
   "execution_count": 6,
   "id": "24503016-7843-4de3-8059-cd2aff7741e6",
   "metadata": {
    "executionCancelledAt": null,
    "executionTime": 52,
    "lastExecutedAt": 1723721717210,
    "lastExecutedByKernel": "8ac5791a-f2b6-4f50-a55d-625f43a1308d",
    "lastScheduledRunId": null,
    "lastSuccessfullyExecutedCode": "# find the integer columns\nint_cols = ds_jobs_transformed.select_dtypes(include = 'int').columns\n\nprint(f'The column/s with dtype int64 is/are {list(int_cols)}')",
    "outputsMetadata": {
     "0": {
      "height": 38,
      "type": "stream"
     }
    }
   },
   "outputs": [
    {
     "name": "stdout",
     "output_type": "stream",
     "text": [
      "The column/s with dtype int64 is/are ['student_id', 'training_hours']\n"
     ]
    }
   ],
   "source": [
    "# find the integer columns\n",
    "int_cols = ds_jobs_transformed.select_dtypes(include = 'int').columns\n",
    "\n",
    "print(f'The column/s with dtype int64 is/are {list(int_cols)}')"
   ]
  },
  {
   "cell_type": "code",
   "execution_count": 7,
   "id": "127bfb92-0c9a-452a-b250-6ea07edbb50f",
   "metadata": {
    "executionCancelledAt": null,
    "executionTime": 52,
    "lastExecutedAt": 1723721717262,
    "lastExecutedByKernel": "8ac5791a-f2b6-4f50-a55d-625f43a1308d",
    "lastScheduledRunId": null,
    "lastSuccessfullyExecutedCode": "# change dtype to int32\nfor col in int_cols:\n    ds_jobs_transformed[col] = ds_jobs_transformed[col].astype('int32')\n    \nprint(ds_jobs_transformed.dtypes)",
    "outputsMetadata": {
     "0": {
      "height": 332,
      "type": "stream"
     }
    }
   },
   "outputs": [
    {
     "name": "stdout",
     "output_type": "stream",
     "text": [
      "student_id                  int32\n",
      "city                       object\n",
      "city_development_index    float64\n",
      "gender                     object\n",
      "relevant_experience          bool\n",
      "enrolled_university        object\n",
      "education_level            object\n",
      "major_discipline           object\n",
      "experience                 object\n",
      "company_size               object\n",
      "company_type               object\n",
      "last_new_job               object\n",
      "training_hours              int32\n",
      "job_change                   bool\n",
      "dtype: object\n"
     ]
    }
   ],
   "source": [
    "# change dtype to int32\n",
    "for col in int_cols:\n",
    "    ds_jobs_transformed[col] = ds_jobs_transformed[col].astype('int32')\n",
    "    \n",
    "print(ds_jobs_transformed.dtypes)"
   ]
  },
  {
   "cell_type": "markdown",
   "id": "20abe93d-29b6-422e-9de5-319219beaf08",
   "metadata": {},
   "source": [
    "**Q3. Columns containing floats must be stored as 16-bit floats (float16).**"
   ]
  },
  {
   "cell_type": "code",
   "execution_count": 8,
   "id": "f8bfe840-54d5-4667-93e1-a2fafb9a8dd2",
   "metadata": {
    "executionCancelledAt": null,
    "executionTime": 52,
    "lastExecutedAt": 1723721717314,
    "lastExecutedByKernel": "8ac5791a-f2b6-4f50-a55d-625f43a1308d",
    "lastScheduledRunId": null,
    "lastSuccessfullyExecutedCode": "# check for float columns\nfloat_cols = ds_jobs_transformed.select_dtypes(include = 'float').columns\n\nprint(f'The column/s with the float data type is/are {list(float_cols)}')",
    "outputsMetadata": {
     "0": {
      "height": 38,
      "type": "stream"
     }
    }
   },
   "outputs": [
    {
     "name": "stdout",
     "output_type": "stream",
     "text": [
      "The column/s with the float data type is/are ['city_development_index']\n"
     ]
    }
   ],
   "source": [
    "# check for float columns\n",
    "float_cols = ds_jobs_transformed.select_dtypes(include = 'float').columns\n",
    "\n",
    "print(f'The column/s with the float data type is/are {list(float_cols)}')"
   ]
  },
  {
   "cell_type": "code",
   "execution_count": 9,
   "id": "879f5e7c-105b-474f-aef2-66df8b6406c6",
   "metadata": {
    "executionCancelledAt": null,
    "executionTime": 56,
    "lastExecutedAt": 1723721717370,
    "lastExecutedByKernel": "8ac5791a-f2b6-4f50-a55d-625f43a1308d",
    "lastScheduledRunId": null,
    "lastSuccessfullyExecutedCode": "# change the dtypes\nfor col in float_cols:\n    ds_jobs_transformed[col] = ds_jobs_transformed[col].astype('float16')\n    \nprint(ds_jobs_transformed.dtypes)",
    "outputsMetadata": {
     "0": {
      "height": 332,
      "type": "stream"
     }
    }
   },
   "outputs": [
    {
     "name": "stdout",
     "output_type": "stream",
     "text": [
      "student_id                  int32\n",
      "city                       object\n",
      "city_development_index    float16\n",
      "gender                     object\n",
      "relevant_experience          bool\n",
      "enrolled_university        object\n",
      "education_level            object\n",
      "major_discipline           object\n",
      "experience                 object\n",
      "company_size               object\n",
      "company_type               object\n",
      "last_new_job               object\n",
      "training_hours              int32\n",
      "job_change                   bool\n",
      "dtype: object\n"
     ]
    }
   ],
   "source": [
    "# change the dtypes\n",
    "for col in float_cols:\n",
    "    ds_jobs_transformed[col] = ds_jobs_transformed[col].astype('float16')\n",
    "    \n",
    "print(ds_jobs_transformed.dtypes)"
   ]
  },
  {
   "cell_type": "markdown",
   "id": "d267ca27-1fb9-4d13-951b-75e52e291b9c",
   "metadata": {},
   "source": [
    "**Q4. Columns containing nominal categorical data must be stored as the category data type.**"
   ]
  },
  {
   "cell_type": "code",
   "execution_count": 10,
   "id": "0da200bc-06a6-4178-866d-2bf50af3e732",
   "metadata": {
    "executionCancelledAt": null,
    "executionTime": 68,
    "lastExecutedAt": 1723721717438,
    "lastExecutedByKernel": "8ac5791a-f2b6-4f50-a55d-625f43a1308d",
    "lastScheduledRunId": null,
    "lastSuccessfullyExecutedCode": "# find all object columns\ncat_df = ds_jobs_transformed.select_dtypes(include = 'object')\n\ncat_df.head()",
    "outputsMetadata": {
     "0": {
      "height": 210,
      "type": "dataFrame"
     }
    }
   },
   "outputs": [
    {
     "data": {
      "text/html": [
       "<div>\n",
       "<style scoped>\n",
       "    .dataframe tbody tr th:only-of-type {\n",
       "        vertical-align: middle;\n",
       "    }\n",
       "\n",
       "    .dataframe tbody tr th {\n",
       "        vertical-align: top;\n",
       "    }\n",
       "\n",
       "    .dataframe thead th {\n",
       "        text-align: right;\n",
       "    }\n",
       "</style>\n",
       "<table border=\"1\" class=\"dataframe\">\n",
       "  <thead>\n",
       "    <tr style=\"text-align: right;\">\n",
       "      <th></th>\n",
       "      <th>city</th>\n",
       "      <th>gender</th>\n",
       "      <th>enrolled_university</th>\n",
       "      <th>education_level</th>\n",
       "      <th>major_discipline</th>\n",
       "      <th>experience</th>\n",
       "      <th>company_size</th>\n",
       "      <th>company_type</th>\n",
       "      <th>last_new_job</th>\n",
       "    </tr>\n",
       "  </thead>\n",
       "  <tbody>\n",
       "    <tr>\n",
       "      <th>0</th>\n",
       "      <td>city_103</td>\n",
       "      <td>Male</td>\n",
       "      <td>no_enrollment</td>\n",
       "      <td>Graduate</td>\n",
       "      <td>STEM</td>\n",
       "      <td>&gt;20</td>\n",
       "      <td>NaN</td>\n",
       "      <td>NaN</td>\n",
       "      <td>1</td>\n",
       "    </tr>\n",
       "    <tr>\n",
       "      <th>1</th>\n",
       "      <td>city_40</td>\n",
       "      <td>Male</td>\n",
       "      <td>no_enrollment</td>\n",
       "      <td>Graduate</td>\n",
       "      <td>STEM</td>\n",
       "      <td>15</td>\n",
       "      <td>50-99</td>\n",
       "      <td>Pvt Ltd</td>\n",
       "      <td>&gt;4</td>\n",
       "    </tr>\n",
       "    <tr>\n",
       "      <th>2</th>\n",
       "      <td>city_21</td>\n",
       "      <td>NaN</td>\n",
       "      <td>Full time course</td>\n",
       "      <td>Graduate</td>\n",
       "      <td>STEM</td>\n",
       "      <td>5</td>\n",
       "      <td>NaN</td>\n",
       "      <td>NaN</td>\n",
       "      <td>never</td>\n",
       "    </tr>\n",
       "    <tr>\n",
       "      <th>3</th>\n",
       "      <td>city_115</td>\n",
       "      <td>NaN</td>\n",
       "      <td>NaN</td>\n",
       "      <td>Graduate</td>\n",
       "      <td>Business Degree</td>\n",
       "      <td>&lt;1</td>\n",
       "      <td>NaN</td>\n",
       "      <td>Pvt Ltd</td>\n",
       "      <td>never</td>\n",
       "    </tr>\n",
       "    <tr>\n",
       "      <th>4</th>\n",
       "      <td>city_162</td>\n",
       "      <td>Male</td>\n",
       "      <td>no_enrollment</td>\n",
       "      <td>Masters</td>\n",
       "      <td>STEM</td>\n",
       "      <td>&gt;20</td>\n",
       "      <td>50-99</td>\n",
       "      <td>Funded Startup</td>\n",
       "      <td>4</td>\n",
       "    </tr>\n",
       "  </tbody>\n",
       "</table>\n",
       "</div>"
      ],
      "text/plain": [
       "       city gender enrolled_university education_level major_discipline  \\\n",
       "0  city_103   Male       no_enrollment        Graduate             STEM   \n",
       "1   city_40   Male       no_enrollment        Graduate             STEM   \n",
       "2   city_21    NaN    Full time course        Graduate             STEM   \n",
       "3  city_115    NaN                 NaN        Graduate  Business Degree   \n",
       "4  city_162   Male       no_enrollment         Masters             STEM   \n",
       "\n",
       "  experience company_size    company_type last_new_job  \n",
       "0        >20          NaN             NaN            1  \n",
       "1         15        50-99         Pvt Ltd           >4  \n",
       "2          5          NaN             NaN        never  \n",
       "3         <1          NaN         Pvt Ltd        never  \n",
       "4        >20        50-99  Funded Startup            4  "
      ]
     },
     "execution_count": 10,
     "metadata": {},
     "output_type": "execute_result"
    }
   ],
   "source": [
    "# find all object columns\n",
    "cat_df = ds_jobs_transformed.select_dtypes(include = 'object')\n",
    "\n",
    "cat_df.head()"
   ]
  },
  {
   "cell_type": "code",
   "execution_count": 11,
   "id": "d87cba0b-0447-401d-ad24-4d5e4aac8a12",
   "metadata": {
    "executionCancelledAt": null,
    "executionTime": 52,
    "lastExecutedAt": 1723721717490,
    "lastExecutedByKernel": "8ac5791a-f2b6-4f50-a55d-625f43a1308d",
    "lastScheduledRunId": null,
    "lastSuccessfullyExecutedCode": "# ascertain possible nominal columns\nnominals = ['city', 'gender','major_discipline', 'company_type']\n\n# change them to category data type\nfor col in nominals:\n    ds_jobs_transformed[col] = ds_jobs_transformed[col].astype('category')\n    \nprint(ds_jobs_transformed.dtypes)",
    "outputsMetadata": {
     "0": {
      "height": 332,
      "type": "stream"
     }
    }
   },
   "outputs": [
    {
     "name": "stdout",
     "output_type": "stream",
     "text": [
      "student_id                   int32\n",
      "city                      category\n",
      "city_development_index     float16\n",
      "gender                    category\n",
      "relevant_experience           bool\n",
      "enrolled_university         object\n",
      "education_level             object\n",
      "major_discipline          category\n",
      "experience                  object\n",
      "company_size                object\n",
      "company_type              category\n",
      "last_new_job                object\n",
      "training_hours               int32\n",
      "job_change                    bool\n",
      "dtype: object\n"
     ]
    }
   ],
   "source": [
    "# ascertain possible nominal columns\n",
    "nominals = ['city', 'gender','major_discipline', 'company_type']\n",
    "\n",
    "# change them to category data type\n",
    "for col in nominals:\n",
    "    ds_jobs_transformed[col] = ds_jobs_transformed[col].astype('category')\n",
    "    \n",
    "print(ds_jobs_transformed.dtypes)"
   ]
  },
  {
   "cell_type": "markdown",
   "id": "e2202b54-f7d2-46e4-b74c-690d588bdde8",
   "metadata": {},
   "source": [
    "**Q5. Columns containing ordinal categorical data must be stored as ordered categories, and not mapped to numerical values, with an order that reflects the natural order of the column.**"
   ]
  },
  {
   "cell_type": "code",
   "execution_count": 12,
   "id": "df2b7ecf-d440-4d2a-9e43-7a96512b324a",
   "metadata": {
    "executionCancelledAt": null,
    "executionTime": 52,
    "lastExecutedAt": 1723721717542,
    "lastExecutedByKernel": "8ac5791a-f2b6-4f50-a55d-625f43a1308d",
    "lastScheduledRunId": null,
    "lastSuccessfullyExecutedCode": "# Ascertain ordinal columns\nordinals = ['enrolled_university', 'education_level', 'experience', 'company_size', 'last_new_job']\n\n# set them to ordered categories\nfor col in ordinals:\n    ds_jobs_transformed[col] = ds_jobs_transformed[col].astype('category')"
   },
   "outputs": [],
   "source": [
    "# Ascertain ordinal columns\n",
    "ordinals = ['enrolled_university', 'education_level', 'experience', 'company_size', 'last_new_job']\n",
    "\n",
    "# set them to ordered categories\n",
    "for col in ordinals:\n",
    "    ds_jobs_transformed[col] = ds_jobs_transformed[col].astype('category')"
   ]
  },
  {
   "cell_type": "code",
   "execution_count": 13,
   "id": "5b59998b-3730-4917-84d8-e7524b41d4d3",
   "metadata": {
    "executionCancelledAt": null,
    "executionTime": 51,
    "lastExecutedAt": 1723721717594,
    "lastExecutedByKernel": "8ac5791a-f2b6-4f50-a55d-625f43a1308d",
    "lastScheduledRunId": null,
    "lastSuccessfullyExecutedCode": "print(list(ds_jobs_transformed['enrolled_university'].unique()))",
    "outputsMetadata": {
     "0": {
      "height": 38,
      "type": "stream"
     }
    }
   },
   "outputs": [
    {
     "name": "stdout",
     "output_type": "stream",
     "text": [
      "['no_enrollment', 'Full time course', nan, 'Part time course']\n"
     ]
    }
   ],
   "source": [
    "print(list(ds_jobs_transformed['enrolled_university'].unique()))"
   ]
  },
  {
   "cell_type": "code",
   "execution_count": 14,
   "id": "c5711c85-ca29-4856-8de7-7906723ddbca",
   "metadata": {
    "executionCancelledAt": null,
    "executionTime": 59,
    "lastExecutedAt": 1723721717653,
    "lastExecutedByKernel": "8ac5791a-f2b6-4f50-a55d-625f43a1308d",
    "lastScheduledRunId": null,
    "lastSuccessfullyExecutedCode": "# write them in  order and order categories\neducation_cat = ['Primary School', 'High School', 'Graduate', 'Masters', 'Phd']\nexperience_cat = ['<1', '1', '2', '3', '4', '5', '6', '7', '8', '9', '10', '11', '12', '13', '14', '15', '16', '17', '18', '19', '20', '>20']\ncompsize_cat = ['<10', '10-49', '50-99', '100-499', '500-999', '1000-4999', '5000-9999', '10000+']\nlast_job_cat = ['never', '1', '2', '3', '4', '>4']\n\n# order them\nds_jobs_transformed['education_level'].cat.reorder_categories(new_categories = education_cat, inplace = True, ordered = True)\nds_jobs_transformed['experience'].cat.reorder_categories(new_categories = experience_cat, inplace = True, ordered = True)\nds_jobs_transformed['company_size'].cat.reorder_categories(new_categories = compsize_cat, inplace = True, ordered = True)\nds_jobs_transformed['last_new_job'].cat.reorder_categories(new_categories = last_job_cat, inplace = True, ordered = True)\nds_jobs_transformed['enrolled_university'].cat.reorder_categories(new_categories = ['no_enrollment', 'Part time course', 'Full time course'], ordered = True, inplace = True)"
   },
   "outputs": [
    {
     "ename": "TypeError",
     "evalue": "Categorical.reorder_categories() got an unexpected keyword argument 'inplace'",
     "output_type": "error",
     "traceback": [
      "\u001b[1;31m---------------------------------------------------------------------------\u001b[0m",
      "\u001b[1;31mTypeError\u001b[0m                                 Traceback (most recent call last)",
      "Cell \u001b[1;32mIn[14], line 8\u001b[0m\n\u001b[0;32m      5\u001b[0m last_job_cat \u001b[38;5;241m=\u001b[39m [\u001b[38;5;124m'\u001b[39m\u001b[38;5;124mnever\u001b[39m\u001b[38;5;124m'\u001b[39m, \u001b[38;5;124m'\u001b[39m\u001b[38;5;124m1\u001b[39m\u001b[38;5;124m'\u001b[39m, \u001b[38;5;124m'\u001b[39m\u001b[38;5;124m2\u001b[39m\u001b[38;5;124m'\u001b[39m, \u001b[38;5;124m'\u001b[39m\u001b[38;5;124m3\u001b[39m\u001b[38;5;124m'\u001b[39m, \u001b[38;5;124m'\u001b[39m\u001b[38;5;124m4\u001b[39m\u001b[38;5;124m'\u001b[39m, \u001b[38;5;124m'\u001b[39m\u001b[38;5;124m>4\u001b[39m\u001b[38;5;124m'\u001b[39m]\n\u001b[0;32m      7\u001b[0m \u001b[38;5;66;03m# order them\u001b[39;00m\n\u001b[1;32m----> 8\u001b[0m \u001b[43mds_jobs_transformed\u001b[49m\u001b[43m[\u001b[49m\u001b[38;5;124;43m'\u001b[39;49m\u001b[38;5;124;43meducation_level\u001b[39;49m\u001b[38;5;124;43m'\u001b[39;49m\u001b[43m]\u001b[49m\u001b[38;5;241;43m.\u001b[39;49m\u001b[43mcat\u001b[49m\u001b[38;5;241;43m.\u001b[39;49m\u001b[43mreorder_categories\u001b[49m\u001b[43m(\u001b[49m\u001b[43mnew_categories\u001b[49m\u001b[43m \u001b[49m\u001b[38;5;241;43m=\u001b[39;49m\u001b[43m \u001b[49m\u001b[43meducation_cat\u001b[49m\u001b[43m,\u001b[49m\u001b[43m \u001b[49m\u001b[43minplace\u001b[49m\u001b[43m \u001b[49m\u001b[38;5;241;43m=\u001b[39;49m\u001b[43m \u001b[49m\u001b[38;5;28;43;01mTrue\u001b[39;49;00m\u001b[43m,\u001b[49m\u001b[43m \u001b[49m\u001b[43mordered\u001b[49m\u001b[43m \u001b[49m\u001b[38;5;241;43m=\u001b[39;49m\u001b[43m \u001b[49m\u001b[38;5;28;43;01mTrue\u001b[39;49;00m\u001b[43m)\u001b[49m\n\u001b[0;32m      9\u001b[0m ds_jobs_transformed[\u001b[38;5;124m'\u001b[39m\u001b[38;5;124mexperience\u001b[39m\u001b[38;5;124m'\u001b[39m]\u001b[38;5;241m.\u001b[39mcat\u001b[38;5;241m.\u001b[39mreorder_categories(new_categories \u001b[38;5;241m=\u001b[39m experience_cat, inplace \u001b[38;5;241m=\u001b[39m \u001b[38;5;28;01mTrue\u001b[39;00m, ordered \u001b[38;5;241m=\u001b[39m \u001b[38;5;28;01mTrue\u001b[39;00m)\n\u001b[0;32m     10\u001b[0m ds_jobs_transformed[\u001b[38;5;124m'\u001b[39m\u001b[38;5;124mcompany_size\u001b[39m\u001b[38;5;124m'\u001b[39m]\u001b[38;5;241m.\u001b[39mcat\u001b[38;5;241m.\u001b[39mreorder_categories(new_categories \u001b[38;5;241m=\u001b[39m compsize_cat, inplace \u001b[38;5;241m=\u001b[39m \u001b[38;5;28;01mTrue\u001b[39;00m, ordered \u001b[38;5;241m=\u001b[39m \u001b[38;5;28;01mTrue\u001b[39;00m)\n",
      "File \u001b[1;32m~\\anaconda3\\envs\\creating_a_new_environment\\Lib\\site-packages\\pandas\\core\\accessor.py:112\u001b[0m, in \u001b[0;36mPandasDelegate._add_delegate_accessors.<locals>._create_delegator_method.<locals>.f\u001b[1;34m(self, *args, **kwargs)\u001b[0m\n\u001b[0;32m    111\u001b[0m \u001b[38;5;28;01mdef\u001b[39;00m \u001b[38;5;21mf\u001b[39m(\u001b[38;5;28mself\u001b[39m, \u001b[38;5;241m*\u001b[39margs, \u001b[38;5;241m*\u001b[39m\u001b[38;5;241m*\u001b[39mkwargs):\n\u001b[1;32m--> 112\u001b[0m     \u001b[38;5;28;01mreturn\u001b[39;00m \u001b[38;5;28;43mself\u001b[39;49m\u001b[38;5;241;43m.\u001b[39;49m\u001b[43m_delegate_method\u001b[49m\u001b[43m(\u001b[49m\u001b[43mname\u001b[49m\u001b[43m,\u001b[49m\u001b[43m \u001b[49m\u001b[38;5;241;43m*\u001b[39;49m\u001b[43margs\u001b[49m\u001b[43m,\u001b[49m\u001b[43m \u001b[49m\u001b[38;5;241;43m*\u001b[39;49m\u001b[38;5;241;43m*\u001b[39;49m\u001b[43mkwargs\u001b[49m\u001b[43m)\u001b[49m\n",
      "File \u001b[1;32m~\\anaconda3\\envs\\creating_a_new_environment\\Lib\\site-packages\\pandas\\core\\arrays\\categorical.py:2893\u001b[0m, in \u001b[0;36mCategoricalAccessor._delegate_method\u001b[1;34m(self, name, *args, **kwargs)\u001b[0m\n\u001b[0;32m   2890\u001b[0m \u001b[38;5;28;01mfrom\u001b[39;00m \u001b[38;5;21;01mpandas\u001b[39;00m \u001b[38;5;28;01mimport\u001b[39;00m Series\n\u001b[0;32m   2892\u001b[0m method \u001b[38;5;241m=\u001b[39m \u001b[38;5;28mgetattr\u001b[39m(\u001b[38;5;28mself\u001b[39m\u001b[38;5;241m.\u001b[39m_parent, name)\n\u001b[1;32m-> 2893\u001b[0m res \u001b[38;5;241m=\u001b[39m \u001b[43mmethod\u001b[49m\u001b[43m(\u001b[49m\u001b[38;5;241;43m*\u001b[39;49m\u001b[43margs\u001b[49m\u001b[43m,\u001b[49m\u001b[43m \u001b[49m\u001b[38;5;241;43m*\u001b[39;49m\u001b[38;5;241;43m*\u001b[39;49m\u001b[43mkwargs\u001b[49m\u001b[43m)\u001b[49m\n\u001b[0;32m   2894\u001b[0m \u001b[38;5;28;01mif\u001b[39;00m res \u001b[38;5;129;01mis\u001b[39;00m \u001b[38;5;129;01mnot\u001b[39;00m \u001b[38;5;28;01mNone\u001b[39;00m:\n\u001b[0;32m   2895\u001b[0m     \u001b[38;5;28;01mreturn\u001b[39;00m Series(res, index\u001b[38;5;241m=\u001b[39m\u001b[38;5;28mself\u001b[39m\u001b[38;5;241m.\u001b[39m_index, name\u001b[38;5;241m=\u001b[39m\u001b[38;5;28mself\u001b[39m\u001b[38;5;241m.\u001b[39m_name)\n",
      "\u001b[1;31mTypeError\u001b[0m: Categorical.reorder_categories() got an unexpected keyword argument 'inplace'"
     ]
    }
   ],
   "source": [
    "# write them in  order and order categories\n",
    "education_cat = ['Primary School', 'High School', 'Graduate', 'Masters', 'Phd']\n",
    "experience_cat = ['<1', '1', '2', '3', '4', '5', '6', '7', '8', '9', '10', '11', '12', '13', '14', '15', '16', '17', '18', '19', '20', '>20']\n",
    "compsize_cat = ['<10', '10-49', '50-99', '100-499', '500-999', '1000-4999', '5000-9999', '10000+']\n",
    "last_job_cat = ['never', '1', '2', '3', '4', '>4']\n",
    "\n",
    "# order them\n",
    "ds_jobs_transformed['education_level'].cat.reorder_categories(new_categories = education_cat, inplace = True, ordered = True)\n",
    "ds_jobs_transformed['experience'].cat.reorder_categories(new_categories = experience_cat, inplace = True, ordered = True)\n",
    "ds_jobs_transformed['company_size'].cat.reorder_categories(new_categories = compsize_cat, inplace = True, ordered = True)\n",
    "ds_jobs_transformed['last_new_job'].cat.reorder_categories(new_categories = last_job_cat, inplace = True, ordered = True)\n",
    "ds_jobs_transformed['enrolled_university'].cat.reorder_categories(new_categories = ['no_enrollment', 'Part time course', 'Full time course'], ordered = True, inplace = True)"
   ]
  },
  {
   "cell_type": "code",
   "execution_count": 16,
   "id": "ce1813df-d27d-43a4-8012-4cfe9f22d577",
   "metadata": {
    "executionCancelledAt": null,
    "executionTime": 51,
    "lastExecutedAt": 1723721717706,
    "lastExecutedByKernel": "8ac5791a-f2b6-4f50-a55d-625f43a1308d",
    "lastScheduledRunId": null,
    "lastSuccessfullyExecutedCode": "# check\nds_jobs_transformed['enrolled_university'].unique()"
   },
   "outputs": [
    {
     "data": {
      "text/plain": [
       "['no_enrollment', 'Full time course', NaN, 'Part time course']\n",
       "Categories (3, object): ['Full time course', 'Part time course', 'no_enrollment']"
      ]
     },
     "execution_count": 16,
     "metadata": {},
     "output_type": "execute_result"
    }
   ],
   "source": [
    "# check\n",
    "ds_jobs_transformed['enrolled_university'].unique()"
   ]
  },
  {
   "cell_type": "code",
   "execution_count": 15,
   "id": "4fc10663-f1cd-4a02-b53c-3e172fe84c8c",
   "metadata": {
    "executionCancelledAt": null,
    "executionTime": 76,
    "lastExecutedAt": 1723721717782,
    "lastExecutedByKernel": "8ac5791a-f2b6-4f50-a55d-625f43a1308d",
    "lastScheduledRunId": null,
    "lastSuccessfullyExecutedCode": "# see dtypes\nds_jobs_transformed.dtypes"
   },
   "outputs": [
    {
     "data": {
      "text/plain": [
       "student_id                   int32\n",
       "city                      category\n",
       "city_development_index     float16\n",
       "gender                    category\n",
       "relevant_experience           bool\n",
       "enrolled_university       category\n",
       "education_level           category\n",
       "major_discipline          category\n",
       "experience                category\n",
       "company_size              category\n",
       "company_type              category\n",
       "last_new_job              category\n",
       "training_hours               int32\n",
       "job_change                    bool\n",
       "dtype: object"
      ]
     },
     "execution_count": 15,
     "metadata": {},
     "output_type": "execute_result"
    }
   ],
   "source": [
    "# see dtypes\n",
    "ds_jobs_transformed.dtypes"
   ]
  },
  {
   "cell_type": "markdown",
   "id": "ddb9bb5c-adc0-489c-bce6-d185756aefc5",
   "metadata": {},
   "source": [
    "**Q6. The DataFrame should be filtered to only contain students with 10 or more years of experience at companies with at least 1000 employees, as their recruiter base is suited to more experienced professionals at enterprise companies.**"
   ]
  },
  {
   "cell_type": "code",
   "execution_count": 17,
   "id": "80ad844b-eead-4c28-936b-6200dae5be35",
   "metadata": {
    "executionCancelledAt": null,
    "executionTime": 52,
    "lastExecutedAt": 1723721717834,
    "lastExecutedByKernel": "8ac5791a-f2b6-4f50-a55d-625f43a1308d",
    "lastScheduledRunId": null,
    "lastSuccessfullyExecutedCode": "# Filter for experience 10 or more years\n# and company size 1000 or more\nds_jobs_transformed = ds_jobs_transformed[(ds_jobs_transformed['experience'].isin(['10', '11', '12', '13', '14', '15', '16', '17', '18', '19', '20', '>20'])) & (ds_jobs_transformed['company_size'].isin(['1000-4999', '5000-9999', '10000+']))]\n\nds_jobs_transformed.head()",
    "outputsMetadata": {
     "0": {
      "height": 210,
      "type": "dataFrame"
     }
    }
   },
   "outputs": [
    {
     "data": {
      "text/html": [
       "<div>\n",
       "<style scoped>\n",
       "    .dataframe tbody tr th:only-of-type {\n",
       "        vertical-align: middle;\n",
       "    }\n",
       "\n",
       "    .dataframe tbody tr th {\n",
       "        vertical-align: top;\n",
       "    }\n",
       "\n",
       "    .dataframe thead th {\n",
       "        text-align: right;\n",
       "    }\n",
       "</style>\n",
       "<table border=\"1\" class=\"dataframe\">\n",
       "  <thead>\n",
       "    <tr style=\"text-align: right;\">\n",
       "      <th></th>\n",
       "      <th>student_id</th>\n",
       "      <th>city</th>\n",
       "      <th>city_development_index</th>\n",
       "      <th>gender</th>\n",
       "      <th>relevant_experience</th>\n",
       "      <th>enrolled_university</th>\n",
       "      <th>education_level</th>\n",
       "      <th>major_discipline</th>\n",
       "      <th>experience</th>\n",
       "      <th>company_size</th>\n",
       "      <th>company_type</th>\n",
       "      <th>last_new_job</th>\n",
       "      <th>training_hours</th>\n",
       "      <th>job_change</th>\n",
       "    </tr>\n",
       "  </thead>\n",
       "  <tbody>\n",
       "    <tr>\n",
       "      <th>9</th>\n",
       "      <td>699</td>\n",
       "      <td>city_103</td>\n",
       "      <td>0.919922</td>\n",
       "      <td>NaN</td>\n",
       "      <td>True</td>\n",
       "      <td>no_enrollment</td>\n",
       "      <td>Graduate</td>\n",
       "      <td>STEM</td>\n",
       "      <td>17</td>\n",
       "      <td>10000+</td>\n",
       "      <td>Pvt Ltd</td>\n",
       "      <td>&gt;4</td>\n",
       "      <td>123</td>\n",
       "      <td>False</td>\n",
       "    </tr>\n",
       "    <tr>\n",
       "      <th>12</th>\n",
       "      <td>25619</td>\n",
       "      <td>city_61</td>\n",
       "      <td>0.913086</td>\n",
       "      <td>Male</td>\n",
       "      <td>True</td>\n",
       "      <td>no_enrollment</td>\n",
       "      <td>Graduate</td>\n",
       "      <td>STEM</td>\n",
       "      <td>&gt;20</td>\n",
       "      <td>1000-4999</td>\n",
       "      <td>Pvt Ltd</td>\n",
       "      <td>3</td>\n",
       "      <td>23</td>\n",
       "      <td>False</td>\n",
       "    </tr>\n",
       "    <tr>\n",
       "      <th>31</th>\n",
       "      <td>22293</td>\n",
       "      <td>city_103</td>\n",
       "      <td>0.919922</td>\n",
       "      <td>Male</td>\n",
       "      <td>True</td>\n",
       "      <td>Part time course</td>\n",
       "      <td>Graduate</td>\n",
       "      <td>STEM</td>\n",
       "      <td>19</td>\n",
       "      <td>5000-9999</td>\n",
       "      <td>Pvt Ltd</td>\n",
       "      <td>&gt;4</td>\n",
       "      <td>141</td>\n",
       "      <td>False</td>\n",
       "    </tr>\n",
       "    <tr>\n",
       "      <th>34</th>\n",
       "      <td>26494</td>\n",
       "      <td>city_16</td>\n",
       "      <td>0.910156</td>\n",
       "      <td>Male</td>\n",
       "      <td>True</td>\n",
       "      <td>no_enrollment</td>\n",
       "      <td>Graduate</td>\n",
       "      <td>Business Degree</td>\n",
       "      <td>12</td>\n",
       "      <td>5000-9999</td>\n",
       "      <td>Pvt Ltd</td>\n",
       "      <td>3</td>\n",
       "      <td>145</td>\n",
       "      <td>False</td>\n",
       "    </tr>\n",
       "    <tr>\n",
       "      <th>40</th>\n",
       "      <td>2547</td>\n",
       "      <td>city_114</td>\n",
       "      <td>0.925781</td>\n",
       "      <td>Female</td>\n",
       "      <td>True</td>\n",
       "      <td>Full time course</td>\n",
       "      <td>Masters</td>\n",
       "      <td>STEM</td>\n",
       "      <td>16</td>\n",
       "      <td>1000-4999</td>\n",
       "      <td>Public Sector</td>\n",
       "      <td>2</td>\n",
       "      <td>14</td>\n",
       "      <td>False</td>\n",
       "    </tr>\n",
       "  </tbody>\n",
       "</table>\n",
       "</div>"
      ],
      "text/plain": [
       "    student_id      city  city_development_index  gender  relevant_experience  \\\n",
       "9          699  city_103                0.919922     NaN                 True   \n",
       "12       25619   city_61                0.913086    Male                 True   \n",
       "31       22293  city_103                0.919922    Male                 True   \n",
       "34       26494   city_16                0.910156    Male                 True   \n",
       "40        2547  city_114                0.925781  Female                 True   \n",
       "\n",
       "   enrolled_university education_level major_discipline experience  \\\n",
       "9        no_enrollment        Graduate             STEM         17   \n",
       "12       no_enrollment        Graduate             STEM        >20   \n",
       "31    Part time course        Graduate             STEM         19   \n",
       "34       no_enrollment        Graduate  Business Degree         12   \n",
       "40    Full time course         Masters             STEM         16   \n",
       "\n",
       "   company_size   company_type last_new_job  training_hours  job_change  \n",
       "9        10000+        Pvt Ltd           >4             123       False  \n",
       "12    1000-4999        Pvt Ltd            3              23       False  \n",
       "31    5000-9999        Pvt Ltd           >4             141       False  \n",
       "34    5000-9999        Pvt Ltd            3             145       False  \n",
       "40    1000-4999  Public Sector            2              14       False  "
      ]
     },
     "execution_count": 17,
     "metadata": {},
     "output_type": "execute_result"
    }
   ],
   "source": [
    "# Filter for experience 10 or more years\n",
    "# and company size 1000 or more\n",
    "ds_jobs_transformed = ds_jobs_transformed[(ds_jobs_transformed['experience'].isin(['10', '11', '12', '13', '14', '15', '16', '17', '18', '19', '20', '>20'])) & (ds_jobs_transformed['company_size'].isin(['1000-4999', '5000-9999', '10000+']))]\n",
    "\n",
    "ds_jobs_transformed.head()"
   ]
  },
  {
   "cell_type": "code",
   "execution_count": 18,
   "id": "bce1d221-0b86-42a9-b517-0547cf8913f5",
   "metadata": {
    "executionCancelledAt": null,
    "executionTime": 53,
    "lastExecutedAt": 1723721717887,
    "lastExecutedByKernel": "8ac5791a-f2b6-4f50-a55d-625f43a1308d",
    "lastScheduledRunId": null,
    "lastSuccessfullyExecutedCode": "# check the infos\nprint(ds_jobs.info(), ds_jobs_transformed.info())",
    "outputsMetadata": {
     "0": {
      "height": 404,
      "type": "stream"
     }
    }
   },
   "outputs": [
    {
     "name": "stdout",
     "output_type": "stream",
     "text": [
      "<class 'pandas.core.frame.DataFrame'>\n",
      "RangeIndex: 19158 entries, 0 to 19157\n",
      "Data columns (total 14 columns):\n",
      " #   Column                  Non-Null Count  Dtype  \n",
      "---  ------                  --------------  -----  \n",
      " 0   student_id              19158 non-null  int64  \n",
      " 1   city                    19158 non-null  object \n",
      " 2   city_development_index  19158 non-null  float64\n",
      " 3   gender                  14650 non-null  object \n",
      " 4   relevant_experience     19158 non-null  object \n",
      " 5   enrolled_university     18772 non-null  object \n",
      " 6   education_level         18698 non-null  object \n",
      " 7   major_discipline        16345 non-null  object \n",
      " 8   experience              19093 non-null  object \n",
      " 9   company_size            13220 non-null  object \n",
      " 10  company_type            13018 non-null  object \n",
      " 11  last_new_job            18735 non-null  object \n",
      " 12  training_hours          19158 non-null  int64  \n",
      " 13  job_change              19158 non-null  float64\n",
      "dtypes: float64(2), int64(2), object(10)\n",
      "memory usage: 2.0+ MB\n",
      "<class 'pandas.core.frame.DataFrame'>\n",
      "Index: 2201 entries, 9 to 19143\n",
      "Data columns (total 14 columns):\n",
      " #   Column                  Non-Null Count  Dtype   \n",
      "---  ------                  --------------  -----   \n",
      " 0   student_id              2201 non-null   int32   \n",
      " 1   city                    2201 non-null   category\n",
      " 2   city_development_index  2201 non-null   float16 \n",
      " 3   gender                  1821 non-null   category\n",
      " 4   relevant_experience     2201 non-null   bool    \n",
      " 5   enrolled_university     2185 non-null   category\n",
      " 6   education_level         2184 non-null   category\n",
      " 7   major_discipline        2097 non-null   category\n",
      " 8   experience              2201 non-null   category\n",
      " 9   company_size            2201 non-null   category\n",
      " 10  company_type            2144 non-null   category\n",
      " 11  last_new_job            2184 non-null   category\n",
      " 12  training_hours          2201 non-null   int32   \n",
      " 13  job_change              2201 non-null   bool    \n",
      "dtypes: bool(2), category(9), float16(1), int32(2)\n",
      "memory usage: 69.5 KB\n",
      "None None\n"
     ]
    }
   ],
   "source": [
    "# check the infos\n",
    "print(ds_jobs.info(), ds_jobs_transformed.info())"
   ]
  },
  {
   "cell_type": "code",
   "execution_count": 19,
   "id": "6dd2bccd-0b80-49b4-af41-0ed29535a064",
   "metadata": {
    "executionCancelledAt": null,
    "executionTime": 51,
    "lastExecutedAt": 1723721717938,
    "lastExecutedByKernel": "8ac5791a-f2b6-4f50-a55d-625f43a1308d",
    "lastScheduledRunId": null,
    "lastSuccessfullyExecutedCode": "# check memory usage\nprint(ds_jobs.memory_usage(), ds_jobs_transformed.memory_usage())",
    "outputsMetadata": {
     "0": {
      "height": 404,
      "type": "stream"
     }
    }
   },
   "outputs": [
    {
     "name": "stdout",
     "output_type": "stream",
     "text": [
      "Index                        132\n",
      "student_id                153264\n",
      "city                      153264\n",
      "city_development_index    153264\n",
      "gender                    153264\n",
      "relevant_experience       153264\n",
      "enrolled_university       153264\n",
      "education_level           153264\n",
      "major_discipline          153264\n",
      "experience                153264\n",
      "company_size              153264\n",
      "company_type              153264\n",
      "last_new_job              153264\n",
      "training_hours            153264\n",
      "job_change                153264\n",
      "dtype: int64 Index                     17608\n",
      "student_id                 8804\n",
      "city                       7353\n",
      "city_development_index     4402\n",
      "gender                     2333\n",
      "relevant_experience        2201\n",
      "enrolled_university        2333\n",
      "education_level            2413\n",
      "major_discipline           2421\n",
      "experience                 2933\n",
      "company_size               2565\n",
      "company_type               2421\n",
      "last_new_job               2421\n",
      "training_hours             8804\n",
      "job_change                 2201\n",
      "dtype: int64\n"
     ]
    }
   ],
   "source": [
    "# check memory usage\n",
    "print(ds_jobs.memory_usage(), ds_jobs_transformed.memory_usage())"
   ]
  },
  {
   "cell_type": "code",
   "execution_count": null,
   "id": "ec1a5ebe",
   "metadata": {},
   "outputs": [],
   "source": []
  }
 ],
 "metadata": {
  "editor": "DataLab",
  "kernelspec": {
   "display_name": "Python 3 (ipykernel)",
   "language": "python",
   "name": "python3"
  },
  "language_info": {
   "codemirror_mode": {
    "name": "ipython",
    "version": 3
   },
   "file_extension": ".py",
   "mimetype": "text/x-python",
   "name": "python",
   "nbconvert_exporter": "python",
   "pygments_lexer": "ipython3",
   "version": "3.11.5"
  }
 },
 "nbformat": 4,
 "nbformat_minor": 5
}
