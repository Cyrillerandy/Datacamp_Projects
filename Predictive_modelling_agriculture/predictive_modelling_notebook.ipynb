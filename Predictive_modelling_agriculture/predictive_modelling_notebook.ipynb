{
 "cells": [
  {
   "cell_type": "markdown",
   "id": "d3d001b0-2e2f-4b58-8442-99520bad831f",
   "metadata": {},
   "source": [
    "# Sowing Success: How Machine Learning Helps Farmers Select the Best Crops\n",
    "\n",
    "![Farmer in a field](farmer_in_a_field.jpg)\n",
    "\n",
    "Measuring essential soil metrics such as nitrogen, phosphorous, potassium levels, and pH value is an important aspect of assessing soil condition. However, it can be an expensive and time-consuming process, which can cause farmers to prioritize which metrics to measure based on their budget constraints.\n",
    "\n",
    "Farmers have various options when it comes to deciding which crop to plant each season. Their primary objective is to maximize the yield of their crops, taking into account different factors. One crucial factor that affects crop growth is the condition of the soil in the field, which can be assessed by measuring basic elements such as nitrogen and potassium levels. Each crop has an ideal soil condition that ensures optimal growth and maximum yield.\n",
    "\n",
    "A farmer reached out to you as a machine learning expert for assistance in selecting the best crop for his field. They've provided you with a dataset called `soil_measures.csv`, which contains:\n",
    "\n",
    "- `\"N\"`: Nitrogen content ratio in the soil\n",
    "- `\"P\"`: Phosphorous content ratio in the soil\n",
    "- `\"K\"`: Potassium content ratio in the soil\n",
    "- `\"pH\"` value of the soil\n",
    "- `\"crop\"`: categorical values that contain various crops (target variable).\n",
    "\n",
    "Each row in this dataset represents various measures of the soil in a particular field. Based on these measurements, the crop specified in the `\"crop\"` column is the optimal choice for that field.  \n",
    "\n",
    "In this project, you will build multi-class classification models to predict the type of `\"crop\"` and identify the single most importance feature for predictive performance."
   ]
  },
  {
   "cell_type": "code",
   "execution_count": 22,
   "id": "d0eb4f16-5a99-460d-a5ba-706b7ef0bbe7",
   "metadata": {
    "executionCancelledAt": null,
    "executionTime": null,
    "id": "bA5ajAmk7XH6",
    "lastExecutedAt": null,
    "lastExecutedByKernel": null,
    "lastScheduledRunId": null,
    "lastSuccessfullyExecutedCode": null,
    "outputsMetadata": {
     "0": {
      "height": 234,
      "type": "dataFrame"
     }
    }
   },
   "outputs": [
    {
     "data": {
      "application/com.datacamp.data-table.v2+json": {
       "table": {
        "data": {
         "K": [
          43,
          41,
          44,
          40,
          42
         ],
         "N": [
          90,
          85,
          60,
          74,
          78
         ],
         "P": [
          42,
          58,
          55,
          35,
          42
         ],
         "crop": [
          "rice",
          "rice",
          "rice",
          "rice",
          "rice"
         ],
         "index": [
          0,
          1,
          2,
          3,
          4
         ],
         "ph": [
          6.502985292,
          7.038096361,
          7.840207144,
          6.980400905,
          7.628472891
         ]
        },
        "schema": {
         "fields": [
          {
           "name": "index",
           "type": "integer"
          },
          {
           "name": "N",
           "type": "integer"
          },
          {
           "name": "P",
           "type": "integer"
          },
          {
           "name": "K",
           "type": "integer"
          },
          {
           "name": "ph",
           "type": "number"
          },
          {
           "name": "crop",
           "type": "string"
          }
         ],
         "pandas_version": "1.4.0",
         "primaryKey": [
          "index"
         ]
        }
       },
       "total_rows": 5,
       "truncation_type": null
      },
      "text/html": [
       "<div>\n",
       "<style scoped>\n",
       "    .dataframe tbody tr th:only-of-type {\n",
       "        vertical-align: middle;\n",
       "    }\n",
       "\n",
       "    .dataframe tbody tr th {\n",
       "        vertical-align: top;\n",
       "    }\n",
       "\n",
       "    .dataframe thead th {\n",
       "        text-align: right;\n",
       "    }\n",
       "</style>\n",
       "<table border=\"1\" class=\"dataframe\">\n",
       "  <thead>\n",
       "    <tr style=\"text-align: right;\">\n",
       "      <th></th>\n",
       "      <th>N</th>\n",
       "      <th>P</th>\n",
       "      <th>K</th>\n",
       "      <th>ph</th>\n",
       "      <th>crop</th>\n",
       "    </tr>\n",
       "  </thead>\n",
       "  <tbody>\n",
       "    <tr>\n",
       "      <th>0</th>\n",
       "      <td>90</td>\n",
       "      <td>42</td>\n",
       "      <td>43</td>\n",
       "      <td>6.502985</td>\n",
       "      <td>rice</td>\n",
       "    </tr>\n",
       "    <tr>\n",
       "      <th>1</th>\n",
       "      <td>85</td>\n",
       "      <td>58</td>\n",
       "      <td>41</td>\n",
       "      <td>7.038096</td>\n",
       "      <td>rice</td>\n",
       "    </tr>\n",
       "    <tr>\n",
       "      <th>2</th>\n",
       "      <td>60</td>\n",
       "      <td>55</td>\n",
       "      <td>44</td>\n",
       "      <td>7.840207</td>\n",
       "      <td>rice</td>\n",
       "    </tr>\n",
       "    <tr>\n",
       "      <th>3</th>\n",
       "      <td>74</td>\n",
       "      <td>35</td>\n",
       "      <td>40</td>\n",
       "      <td>6.980401</td>\n",
       "      <td>rice</td>\n",
       "    </tr>\n",
       "    <tr>\n",
       "      <th>4</th>\n",
       "      <td>78</td>\n",
       "      <td>42</td>\n",
       "      <td>42</td>\n",
       "      <td>7.628473</td>\n",
       "      <td>rice</td>\n",
       "    </tr>\n",
       "  </tbody>\n",
       "</table>\n",
       "</div>"
      ],
      "text/plain": [
       "    N   P   K        ph  crop\n",
       "0  90  42  43  6.502985  rice\n",
       "1  85  58  41  7.038096  rice\n",
       "2  60  55  44  7.840207  rice\n",
       "3  74  35  40  6.980401  rice\n",
       "4  78  42  42  7.628473  rice"
      ]
     },
     "execution_count": 22,
     "metadata": {},
     "output_type": "execute_result"
    }
   ],
   "source": [
    "# All required libraries are imported here for you.\n",
    "import pandas as pd\n",
    "from sklearn.linear_model import LogisticRegression\n",
    "from sklearn.model_selection import train_test_split\n",
    "from sklearn import metrics\n",
    "\n",
    "# Load the dataset\n",
    "crops = pd.read_csv(\"soil_measures.csv\")\n",
    "\n",
    "# Preview the data\n",
    "crops.head()"
   ]
  },
  {
   "cell_type": "code",
   "execution_count": 23,
   "id": "a92d5c1c-8463-4a10-ab47-334ef4fa45ff",
   "metadata": {
    "executionCancelledAt": null,
    "executionTime": null,
    "lastExecutedAt": null,
    "lastExecutedByKernel": null,
    "lastScheduledRunId": null,
    "lastSuccessfullyExecutedCode": null,
    "outputsMetadata": {
     "0": {
      "height": 217,
      "type": "dataFrame"
     }
    }
   },
   "outputs": [
    {
     "data": {
      "application/com.datacamp.data-table.v2+json": {
       "table": {
        "data": {
         "0": [
          0,
          0,
          0,
          0,
          0
         ],
         "index": [
          "N",
          "P",
          "K",
          "ph",
          "crop"
         ]
        },
        "schema": {
         "fields": [
          {
           "name": "index",
           "type": "string"
          },
          {
           "name": "0",
           "type": "integer"
          }
         ],
         "pandas_version": "1.4.0",
         "primaryKey": [
          "index"
         ]
        }
       },
       "total_rows": 5,
       "truncation_type": null
      },
      "text/plain": [
       "N       0\n",
       "P       0\n",
       "K       0\n",
       "ph      0\n",
       "crop    0\n",
       "dtype: int64"
      ]
     },
     "execution_count": 23,
     "metadata": {},
     "output_type": "execute_result"
    }
   ],
   "source": [
    "# check for missing data\n",
    "crops.isna().sum()"
   ]
  },
  {
   "cell_type": "markdown",
   "id": "b48fc447-7646-452c-96d0-be204cc904a2",
   "metadata": {},
   "source": [
    "### Identify the single feature that has the strongest predictive performance for classifying crop types.\n",
    "\n",
    "* **Find the feature in the dataset that produces the best score for predicting `\"crop\"`.**\n",
    "\n",
    "* **From this information, create a variable called `best_predictive_feature`, which:**\n",
    "    * Should be a `dictionary` containing the best predictive feature name as a key and the evaluation score (for the metric you chose) as the value."
   ]
  },
  {
   "cell_type": "code",
   "execution_count": 24,
   "id": "80d87190-dd45-451c-a73a-f9bd72e68fb3",
   "metadata": {
    "executionCancelledAt": null,
    "executionTime": 52,
    "lastExecutedAt": 1726481009543,
    "lastExecutedByKernel": "f67e5f6a-6d9a-41fd-8f41-439df66b71a2",
    "lastScheduledRunId": null,
    "lastSuccessfullyExecutedCode": "# View the crop categories\ncrops['crop'].unique()"
   },
   "outputs": [
    {
     "data": {
      "text/plain": [
       "array(['rice', 'maize', 'chickpea', 'kidneybeans', 'pigeonpeas',\n",
       "       'mothbeans', 'mungbean', 'blackgram', 'lentil', 'pomegranate',\n",
       "       'banana', 'mango', 'grapes', 'watermelon', 'muskmelon', 'apple',\n",
       "       'orange', 'papaya', 'coconut', 'cotton', 'jute', 'coffee'],\n",
       "      dtype=object)"
      ]
     },
     "execution_count": 24,
     "metadata": {},
     "output_type": "execute_result"
    }
   ],
   "source": [
    "# View the crop categories\n",
    "crops['crop'].unique()"
   ]
  },
  {
   "cell_type": "code",
   "execution_count": 25,
   "id": "4b94b7dd-4a40-4813-bdfe-e50207ec747d",
   "metadata": {
    "executionCancelledAt": null,
    "executionTime": null,
    "lastExecutedAt": null,
    "lastExecutedByKernel": null,
    "lastScheduledRunId": null,
    "lastSuccessfullyExecutedCode": null,
    "outputsMetadata": {
     "0": {
      "height": 234,
      "type": "dataFrame"
     }
    }
   },
   "outputs": [
    {
     "data": {
      "application/com.datacamp.data-table.v2+json": {
       "table": {
        "data": {
         "K": [
          43,
          41,
          44,
          40,
          42
         ],
         "N": [
          90,
          85,
          60,
          74,
          78
         ],
         "P": [
          42,
          58,
          55,
          35,
          42
         ],
         "crop": [
          "rice",
          "rice",
          "rice",
          "rice",
          "rice"
         ],
         "crop_class": [
          20,
          20,
          20,
          20,
          20
         ],
         "index": [
          0,
          1,
          2,
          3,
          4
         ],
         "ph": [
          6.502985292,
          7.038096361,
          7.840207144,
          6.980400905,
          7.628472891
         ]
        },
        "schema": {
         "fields": [
          {
           "name": "index",
           "type": "integer"
          },
          {
           "name": "N",
           "type": "integer"
          },
          {
           "name": "P",
           "type": "integer"
          },
          {
           "name": "K",
           "type": "integer"
          },
          {
           "name": "ph",
           "type": "number"
          },
          {
           "name": "crop",
           "type": "string"
          },
          {
           "name": "crop_class",
           "type": "integer"
          }
         ],
         "pandas_version": "1.4.0",
         "primaryKey": [
          "index"
         ]
        }
       },
       "total_rows": 5,
       "truncation_type": null
      },
      "text/html": [
       "<div>\n",
       "<style scoped>\n",
       "    .dataframe tbody tr th:only-of-type {\n",
       "        vertical-align: middle;\n",
       "    }\n",
       "\n",
       "    .dataframe tbody tr th {\n",
       "        vertical-align: top;\n",
       "    }\n",
       "\n",
       "    .dataframe thead th {\n",
       "        text-align: right;\n",
       "    }\n",
       "</style>\n",
       "<table border=\"1\" class=\"dataframe\">\n",
       "  <thead>\n",
       "    <tr style=\"text-align: right;\">\n",
       "      <th></th>\n",
       "      <th>N</th>\n",
       "      <th>P</th>\n",
       "      <th>K</th>\n",
       "      <th>ph</th>\n",
       "      <th>crop</th>\n",
       "      <th>crop_class</th>\n",
       "    </tr>\n",
       "  </thead>\n",
       "  <tbody>\n",
       "    <tr>\n",
       "      <th>0</th>\n",
       "      <td>90</td>\n",
       "      <td>42</td>\n",
       "      <td>43</td>\n",
       "      <td>6.502985</td>\n",
       "      <td>rice</td>\n",
       "      <td>20</td>\n",
       "    </tr>\n",
       "    <tr>\n",
       "      <th>1</th>\n",
       "      <td>85</td>\n",
       "      <td>58</td>\n",
       "      <td>41</td>\n",
       "      <td>7.038096</td>\n",
       "      <td>rice</td>\n",
       "      <td>20</td>\n",
       "    </tr>\n",
       "    <tr>\n",
       "      <th>2</th>\n",
       "      <td>60</td>\n",
       "      <td>55</td>\n",
       "      <td>44</td>\n",
       "      <td>7.840207</td>\n",
       "      <td>rice</td>\n",
       "      <td>20</td>\n",
       "    </tr>\n",
       "    <tr>\n",
       "      <th>3</th>\n",
       "      <td>74</td>\n",
       "      <td>35</td>\n",
       "      <td>40</td>\n",
       "      <td>6.980401</td>\n",
       "      <td>rice</td>\n",
       "      <td>20</td>\n",
       "    </tr>\n",
       "    <tr>\n",
       "      <th>4</th>\n",
       "      <td>78</td>\n",
       "      <td>42</td>\n",
       "      <td>42</td>\n",
       "      <td>7.628473</td>\n",
       "      <td>rice</td>\n",
       "      <td>20</td>\n",
       "    </tr>\n",
       "  </tbody>\n",
       "</table>\n",
       "</div>"
      ],
      "text/plain": [
       "    N   P   K        ph  crop  crop_class\n",
       "0  90  42  43  6.502985  rice          20\n",
       "1  85  58  41  7.038096  rice          20\n",
       "2  60  55  44  7.840207  rice          20\n",
       "3  74  35  40  6.980401  rice          20\n",
       "4  78  42  42  7.628473  rice          20"
      ]
     },
     "execution_count": 25,
     "metadata": {},
     "output_type": "execute_result"
    }
   ],
   "source": [
    "# Label encode the crops for a multi class classification\n",
    "# copy df\n",
    "crops_df = crops.copy()\n",
    "\n",
    "# import encoder\n",
    "from sklearn.preprocessing import LabelEncoder\n",
    "\n",
    "# Instantiate encoder\n",
    "le = LabelEncoder()\n",
    "\n",
    "# Label encode\n",
    "crops_df['crop_class'] = le.fit_transform(crops_df['crop'])\n",
    "\n",
    "# view the labelled df\n",
    "crops_df.head()"
   ]
  },
  {
   "cell_type": "code",
   "execution_count": 26,
   "id": "85011701-2b4e-44b7-abc5-2929d8da091e",
   "metadata": {
    "executionCancelledAt": null,
    "executionTime": 48,
    "lastExecutedAt": 1726481009643,
    "lastExecutedByKernel": "f67e5f6a-6d9a-41fd-8f41-439df66b71a2",
    "lastScheduledRunId": null,
    "lastSuccessfullyExecutedCode": "# Instantiate a logistic regression model with\n# multi class set to ovr\nlc = LogisticRegression(multi_class = 'ovr')"
   },
   "outputs": [],
   "source": [
    "# Instantiate a logistic regression model with\n",
    "# multi class set to ovr\n",
    "lc = LogisticRegression(multi_class = 'ovr')"
   ]
  },
  {
   "cell_type": "code",
   "execution_count": 27,
   "id": "c4cb3d36-da89-494b-8dc7-f9c308173991",
   "metadata": {
    "executionCancelledAt": null,
    "executionTime": 52,
    "lastExecutedAt": 1726481009695,
    "lastExecutedByKernel": "f67e5f6a-6d9a-41fd-8f41-439df66b71a2",
    "lastScheduledRunId": null,
    "lastSuccessfullyExecutedCode": "# get the feature column names\nfeatures = [col for col in crops_df.columns if col not in ['crop', 'crop_class']]\n\nfeatures"
   },
   "outputs": [
    {
     "data": {
      "text/plain": [
       "['N', 'P', 'K', 'ph']"
      ]
     },
     "execution_count": 27,
     "metadata": {},
     "output_type": "execute_result"
    }
   ],
   "source": [
    "# get the feature column names\n",
    "features = [col for col in crops_df.columns if col not in ['crop', 'crop_class']]\n",
    "\n",
    "features"
   ]
  },
  {
   "cell_type": "code",
   "execution_count": 28,
   "id": "af83f031-6b50-4e7c-b344-5f739dd67d28",
   "metadata": {
    "executionCancelledAt": null,
    "executionTime": 52,
    "lastExecutedAt": 1726481009747,
    "lastExecutedByKernel": "f67e5f6a-6d9a-41fd-8f41-439df66b71a2",
    "lastScheduledRunId": null,
    "lastSuccessfullyExecutedCode": "# get response\nresponse = ['crop_class']\n\nresponse",
    "outputsMetadata": {
     "0": {
      "height": 217,
      "type": "dataFrame"
     }
    }
   },
   "outputs": [
    {
     "data": {
      "text/plain": [
       "['crop_class']"
      ]
     },
     "execution_count": 28,
     "metadata": {},
     "output_type": "execute_result"
    }
   ],
   "source": [
    "# get response\n",
    "response = ['crop_class']\n",
    "\n",
    "response"
   ]
  },
  {
   "cell_type": "code",
   "execution_count": 29,
   "id": "8d27e332-ec89-48fa-8fa5-f482c8536d10",
   "metadata": {
    "executionCancelledAt": null,
    "executionTime": 328,
    "lastExecutedAt": 1726481010075,
    "lastExecutedByKernel": "f67e5f6a-6d9a-41fd-8f41-439df66b71a2",
    "lastScheduledRunId": null,
    "lastSuccessfullyExecutedCode": "# create empty dictionary to store results of models\nresults = {}\n\n# loop through fitting and testing on each column\nfor f in features:\n    # create X and y\n    X = crops_df[f].values.reshape(-1, 1)\n    y = crops_df[response].values\n    \n    # train test split\n    X_train, X_test, y_train, y_test = train_test_split(X, y, test_size = 0.2, random_state = 42)\n    \n    # fit model \n    lc.fit(X_train, y_train)\n    \n    # predict\n    y_pred = lc.predict(X_test)\n    \n    # find accuracy\n    acc = metrics.accuracy_score(y_test, y_pred) \n    \n    # update the results dictionary\n    results[f] = acc"
   },
   "outputs": [],
   "source": [
    "# create empty dictionary to store results of models\n",
    "results = {}\n",
    "\n",
    "# loop through fitting and testing on each column\n",
    "for f in features:\n",
    "    # create X and y\n",
    "    X = crops_df[f].values.reshape(-1, 1)\n",
    "    y = crops_df[response].values\n",
    "    \n",
    "    # train test split\n",
    "    X_train, X_test, y_train, y_test = train_test_split(X, y, test_size = 0.2, random_state = 42)\n",
    "    \n",
    "    # fit model \n",
    "    lc.fit(X_train, y_train)\n",
    "    \n",
    "    # predict\n",
    "    y_pred = lc.predict(X_test)\n",
    "    \n",
    "    # find accuracy\n",
    "    acc = metrics.accuracy_score(y_test, y_pred) \n",
    "    \n",
    "    # update the results dictionary\n",
    "    results[f] = acc"
   ]
  },
  {
   "cell_type": "code",
   "execution_count": 30,
   "id": "0b1a7e75-d202-45d4-b924-2494f02e4ae6",
   "metadata": {
    "executionCancelledAt": null,
    "executionTime": 50,
    "lastExecutedAt": 1726481010127,
    "lastExecutedByKernel": "f67e5f6a-6d9a-41fd-8f41-439df66b71a2",
    "lastScheduledRunId": null,
    "lastSuccessfullyExecutedCode": "# view the results\nresults"
   },
   "outputs": [
    {
     "data": {
      "text/plain": [
       "{'N': 0.13636363636363635,\n",
       " 'P': 0.14772727272727273,\n",
       " 'K': 0.2159090909090909,\n",
       " 'ph': 0.09090909090909091}"
      ]
     },
     "execution_count": 30,
     "metadata": {},
     "output_type": "execute_result"
    }
   ],
   "source": [
    "# view the results\n",
    "results"
   ]
  },
  {
   "cell_type": "code",
   "execution_count": 31,
   "id": "40b0501f-3109-4b3a-bfdb-4bf1bd4f1941",
   "metadata": {
    "executionCancelledAt": null,
    "executionTime": 49,
    "lastExecutedAt": 1726481010176,
    "lastExecutedByKernel": "f67e5f6a-6d9a-41fd-8f41-439df66b71a2",
    "lastScheduledRunId": null,
    "lastSuccessfullyExecutedCode": "best_predictive_feature = {'K' : results['K']}\n\nbest_predictive_feature"
   },
   "outputs": [
    {
     "data": {
      "text/plain": [
       "{'K': 0.2159090909090909}"
      ]
     },
     "execution_count": 31,
     "metadata": {},
     "output_type": "execute_result"
    }
   ],
   "source": [
    "# Get the best predictive feature\n",
    "best_predictive_feature = {'K' : results['K']}\n",
    "\n",
    "best_predictive_feature"
   ]
  }
 ],
 "metadata": {
  "colab": {
   "name": "Welcome to DataCamp Workspaces.ipynb",
   "provenance": []
  },
  "kernelspec": {
   "display_name": "Python 3 (ipykernel)",
   "language": "python",
   "name": "python3"
  },
  "language_info": {
   "codemirror_mode": {
    "name": "ipython",
    "version": 3
   },
   "file_extension": ".py",
   "mimetype": "text/x-python",
   "name": "python",
   "nbconvert_exporter": "python",
   "pygments_lexer": "ipython3",
   "version": "3.11.5"
  }
 },
 "nbformat": 4,
 "nbformat_minor": 5
}
