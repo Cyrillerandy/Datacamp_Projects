{
 "cells": [
  {
   "cell_type": "markdown",
   "id": "589fe37e-e764-4d71-9c3c-93c8b7acee79",
   "metadata": {},
   "source": [
    "![Alt text](https://imgur.com/orZWHly.png=80)\n",
    "source: @allison_horst https://github.com/allisonhorst/penguins"
   ]
  },
  {
   "cell_type": "markdown",
   "id": "d3fb84f2-0eda-4b73-95c0-5364f83e25bf",
   "metadata": {},
   "source": [
    "You have been asked to support a team of researchers who have been collecting data about penguins in Antartica! The data is available in csv-Format as `penguins.csv`\n",
    "\n",
    "**Origin of this data** : Data were collected and made available by Dr. Kristen Gorman and the Palmer Station, Antarctica LTER, a member of the Long Term Ecological Research Network.\n",
    "\n",
    "**The dataset consists of 5 columns.**\n",
    "\n",
    "Column | Description\n",
    "--- | ---\n",
    "culmen_length_mm | culmen length (mm)\n",
    "culmen_depth_mm | culmen depth (mm)\n",
    "flipper_length_mm | flipper length (mm)\n",
    "body_mass_g | body mass (g)\n",
    "sex | penguin sex\n",
    "\n",
    "Unfortunately, they have not been able to record the species of penguin, but they know that there are **at least three** species that are native to the region: **Adelie**, **Chinstrap**, and **Gentoo**.  Your task is to apply your data science skills to help them identify groups in the dataset!"
   ]
  },
  {
   "cell_type": "code",
   "execution_count": 1,
   "id": "57295d13-5753-4f8d-aa96-cd6815f7cbd9",
   "metadata": {
    "executionCancelledAt": null,
    "executionTime": 52,
    "lastExecutedAt": 1726832721299,
    "lastExecutedByKernel": "32a092d9-9f11-478f-86ee-3228ae5a4699",
    "lastScheduledRunId": null,
    "lastSuccessfullyExecutedCode": "# Import Required Packages\nimport pandas as pd\nimport matplotlib.pyplot as plt\nfrom sklearn.cluster import KMeans\nfrom sklearn.preprocessing import StandardScaler\n\n# Loading and examining the dataset\npenguins_df = pd.read_csv(\"penguins.csv\")\npenguins_df.head()",
    "outputsMetadata": {
     "0": {
      "height": 234,
      "type": "dataFrame"
     }
    }
   },
   "outputs": [
    {
     "data": {
      "text/html": [
       "<div>\n",
       "<style scoped>\n",
       "    .dataframe tbody tr th:only-of-type {\n",
       "        vertical-align: middle;\n",
       "    }\n",
       "\n",
       "    .dataframe tbody tr th {\n",
       "        vertical-align: top;\n",
       "    }\n",
       "\n",
       "    .dataframe thead th {\n",
       "        text-align: right;\n",
       "    }\n",
       "</style>\n",
       "<table border=\"1\" class=\"dataframe\">\n",
       "  <thead>\n",
       "    <tr style=\"text-align: right;\">\n",
       "      <th></th>\n",
       "      <th>culmen_length_mm</th>\n",
       "      <th>culmen_depth_mm</th>\n",
       "      <th>flipper_length_mm</th>\n",
       "      <th>body_mass_g</th>\n",
       "      <th>sex</th>\n",
       "    </tr>\n",
       "  </thead>\n",
       "  <tbody>\n",
       "    <tr>\n",
       "      <th>0</th>\n",
       "      <td>39.1</td>\n",
       "      <td>18.7</td>\n",
       "      <td>181.0</td>\n",
       "      <td>3750.0</td>\n",
       "      <td>MALE</td>\n",
       "    </tr>\n",
       "    <tr>\n",
       "      <th>1</th>\n",
       "      <td>39.5</td>\n",
       "      <td>17.4</td>\n",
       "      <td>186.0</td>\n",
       "      <td>3800.0</td>\n",
       "      <td>FEMALE</td>\n",
       "    </tr>\n",
       "    <tr>\n",
       "      <th>2</th>\n",
       "      <td>40.3</td>\n",
       "      <td>18.0</td>\n",
       "      <td>195.0</td>\n",
       "      <td>3250.0</td>\n",
       "      <td>FEMALE</td>\n",
       "    </tr>\n",
       "    <tr>\n",
       "      <th>3</th>\n",
       "      <td>36.7</td>\n",
       "      <td>19.3</td>\n",
       "      <td>193.0</td>\n",
       "      <td>3450.0</td>\n",
       "      <td>FEMALE</td>\n",
       "    </tr>\n",
       "    <tr>\n",
       "      <th>4</th>\n",
       "      <td>39.3</td>\n",
       "      <td>20.6</td>\n",
       "      <td>190.0</td>\n",
       "      <td>3650.0</td>\n",
       "      <td>MALE</td>\n",
       "    </tr>\n",
       "  </tbody>\n",
       "</table>\n",
       "</div>"
      ],
      "text/plain": [
       "   culmen_length_mm  culmen_depth_mm  flipper_length_mm  body_mass_g     sex\n",
       "0              39.1             18.7              181.0       3750.0    MALE\n",
       "1              39.5             17.4              186.0       3800.0  FEMALE\n",
       "2              40.3             18.0              195.0       3250.0  FEMALE\n",
       "3              36.7             19.3              193.0       3450.0  FEMALE\n",
       "4              39.3             20.6              190.0       3650.0    MALE"
      ]
     },
     "execution_count": 1,
     "metadata": {},
     "output_type": "execute_result"
    }
   ],
   "source": [
    "# Import Required Packages\n",
    "import pandas as pd\n",
    "import matplotlib.pyplot as plt\n",
    "from sklearn.cluster import KMeans\n",
    "from sklearn.preprocessing import StandardScaler\n",
    "\n",
    "# Loading and examining the dataset\n",
    "penguins_df = pd.read_csv(\"penguins.csv\")\n",
    "penguins_df.head()"
   ]
  },
  {
   "cell_type": "markdown",
   "id": "11803849-c8fb-42f2-962f-3b775bbe9d30",
   "metadata": {},
   "source": [
    "### Utilize your unsupervised learning skills to clusters in the penguins dataset!\n",
    "\n",
    "* Import, investigate and pre-process the \"penguins.csv\" dataset.\n",
    "* Perform a cluster analysis based on a reasonable number of clusters and collect the average values for the clusters. The output should be a DataFrame named stat_penguins with one row per cluster that shows the mean of the original variables (or columns in \"penguins.csv\") by cluster. stat_penguins should not include any non-numeric columns."
   ]
  },
  {
   "cell_type": "code",
   "execution_count": 2,
   "id": "ba415971-45e3-4157-9adc-2fd34e3bb3ca",
   "metadata": {
    "executionCancelledAt": null,
    "executionTime": 65,
    "lastExecutedAt": 1726832721364,
    "lastExecutedByKernel": "32a092d9-9f11-478f-86ee-3228ae5a4699",
    "lastScheduledRunId": null,
    "lastSuccessfullyExecutedCode": "# make a copy\npenguins = penguins_df.copy()\npenguins.head()",
    "outputsMetadata": {
     "0": {
      "height": 234,
      "type": "dataFrame"
     }
    }
   },
   "outputs": [
    {
     "data": {
      "text/html": [
       "<div>\n",
       "<style scoped>\n",
       "    .dataframe tbody tr th:only-of-type {\n",
       "        vertical-align: middle;\n",
       "    }\n",
       "\n",
       "    .dataframe tbody tr th {\n",
       "        vertical-align: top;\n",
       "    }\n",
       "\n",
       "    .dataframe thead th {\n",
       "        text-align: right;\n",
       "    }\n",
       "</style>\n",
       "<table border=\"1\" class=\"dataframe\">\n",
       "  <thead>\n",
       "    <tr style=\"text-align: right;\">\n",
       "      <th></th>\n",
       "      <th>culmen_length_mm</th>\n",
       "      <th>culmen_depth_mm</th>\n",
       "      <th>flipper_length_mm</th>\n",
       "      <th>body_mass_g</th>\n",
       "      <th>sex</th>\n",
       "    </tr>\n",
       "  </thead>\n",
       "  <tbody>\n",
       "    <tr>\n",
       "      <th>0</th>\n",
       "      <td>39.1</td>\n",
       "      <td>18.7</td>\n",
       "      <td>181.0</td>\n",
       "      <td>3750.0</td>\n",
       "      <td>MALE</td>\n",
       "    </tr>\n",
       "    <tr>\n",
       "      <th>1</th>\n",
       "      <td>39.5</td>\n",
       "      <td>17.4</td>\n",
       "      <td>186.0</td>\n",
       "      <td>3800.0</td>\n",
       "      <td>FEMALE</td>\n",
       "    </tr>\n",
       "    <tr>\n",
       "      <th>2</th>\n",
       "      <td>40.3</td>\n",
       "      <td>18.0</td>\n",
       "      <td>195.0</td>\n",
       "      <td>3250.0</td>\n",
       "      <td>FEMALE</td>\n",
       "    </tr>\n",
       "    <tr>\n",
       "      <th>3</th>\n",
       "      <td>36.7</td>\n",
       "      <td>19.3</td>\n",
       "      <td>193.0</td>\n",
       "      <td>3450.0</td>\n",
       "      <td>FEMALE</td>\n",
       "    </tr>\n",
       "    <tr>\n",
       "      <th>4</th>\n",
       "      <td>39.3</td>\n",
       "      <td>20.6</td>\n",
       "      <td>190.0</td>\n",
       "      <td>3650.0</td>\n",
       "      <td>MALE</td>\n",
       "    </tr>\n",
       "  </tbody>\n",
       "</table>\n",
       "</div>"
      ],
      "text/plain": [
       "   culmen_length_mm  culmen_depth_mm  flipper_length_mm  body_mass_g     sex\n",
       "0              39.1             18.7              181.0       3750.0    MALE\n",
       "1              39.5             17.4              186.0       3800.0  FEMALE\n",
       "2              40.3             18.0              195.0       3250.0  FEMALE\n",
       "3              36.7             19.3              193.0       3450.0  FEMALE\n",
       "4              39.3             20.6              190.0       3650.0    MALE"
      ]
     },
     "execution_count": 2,
     "metadata": {},
     "output_type": "execute_result"
    }
   ],
   "source": [
    "# make a copy\n",
    "penguins = penguins_df.copy()\n",
    "penguins.head()"
   ]
  },
  {
   "cell_type": "code",
   "execution_count": 3,
   "id": "e4cfb9cd-c374-4978-b978-fc9d38b7616d",
   "metadata": {
    "executionCancelledAt": null,
    "executionTime": 56,
    "lastExecutedAt": 1726832721420,
    "lastExecutedByKernel": "32a092d9-9f11-478f-86ee-3228ae5a4699",
    "lastScheduledRunId": null,
    "lastSuccessfullyExecutedCode": "# check for missing values \npenguins.isna().sum()",
    "outputsMetadata": {
     "0": {
      "height": 217,
      "type": "dataFrame"
     }
    }
   },
   "outputs": [
    {
     "data": {
      "text/plain": [
       "culmen_length_mm     0\n",
       "culmen_depth_mm      0\n",
       "flipper_length_mm    0\n",
       "body_mass_g          0\n",
       "sex                  0\n",
       "dtype: int64"
      ]
     },
     "execution_count": 3,
     "metadata": {},
     "output_type": "execute_result"
    }
   ],
   "source": [
    "# check for missing values \n",
    "penguins.isna().sum()"
   ]
  },
  {
   "cell_type": "code",
   "execution_count": 4,
   "id": "2ab17ce4-aab0-47ab-835d-440210c12ea7",
   "metadata": {
    "executionCancelledAt": null,
    "executionTime": 78,
    "lastExecutedAt": 1726832721498,
    "lastExecutedByKernel": "32a092d9-9f11-478f-86ee-3228ae5a4699",
    "lastScheduledRunId": null,
    "lastSuccessfullyExecutedCode": "# check dtypes\npenguins.dtypes"
   },
   "outputs": [
    {
     "data": {
      "text/plain": [
       "culmen_length_mm     float64\n",
       "culmen_depth_mm      float64\n",
       "flipper_length_mm    float64\n",
       "body_mass_g          float64\n",
       "sex                   object\n",
       "dtype: object"
      ]
     },
     "execution_count": 4,
     "metadata": {},
     "output_type": "execute_result"
    }
   ],
   "source": [
    "# check dtypes\n",
    "penguins.dtypes"
   ]
  },
  {
   "cell_type": "markdown",
   "id": "c7194b77-79a3-48e8-9d4c-5503fe5bb005",
   "metadata": {},
   "source": [
    "**Machine learning algorithtms need numeric data. Transform the sex columnn into a numeric column.**"
   ]
  },
  {
   "cell_type": "code",
   "execution_count": 5,
   "id": "6b22767c-911f-49aa-afd1-031cbba220f2",
   "metadata": {
    "executionCancelledAt": null,
    "executionTime": 52,
    "lastExecutedAt": 1726832721550,
    "lastExecutedByKernel": "32a092d9-9f11-478f-86ee-3228ae5a4699",
    "lastScheduledRunId": null,
    "lastSuccessfullyExecutedCode": "# transform sex column into a numeric column\nimport numpy as np\npenguins['sex'] = np.where(penguins['sex'] == 'MALE', 1, 0)\nprint(penguins.dtypes)\npenguins.head()",
    "outputsMetadata": {
     "0": {
      "height": 143,
      "type": "stream"
     },
     "1": {
      "height": 234,
      "type": "dataFrame"
     }
    }
   },
   "outputs": [
    {
     "name": "stdout",
     "output_type": "stream",
     "text": [
      "culmen_length_mm     float64\n",
      "culmen_depth_mm      float64\n",
      "flipper_length_mm    float64\n",
      "body_mass_g          float64\n",
      "sex                    int32\n",
      "dtype: object\n"
     ]
    },
    {
     "data": {
      "text/html": [
       "<div>\n",
       "<style scoped>\n",
       "    .dataframe tbody tr th:only-of-type {\n",
       "        vertical-align: middle;\n",
       "    }\n",
       "\n",
       "    .dataframe tbody tr th {\n",
       "        vertical-align: top;\n",
       "    }\n",
       "\n",
       "    .dataframe thead th {\n",
       "        text-align: right;\n",
       "    }\n",
       "</style>\n",
       "<table border=\"1\" class=\"dataframe\">\n",
       "  <thead>\n",
       "    <tr style=\"text-align: right;\">\n",
       "      <th></th>\n",
       "      <th>culmen_length_mm</th>\n",
       "      <th>culmen_depth_mm</th>\n",
       "      <th>flipper_length_mm</th>\n",
       "      <th>body_mass_g</th>\n",
       "      <th>sex</th>\n",
       "    </tr>\n",
       "  </thead>\n",
       "  <tbody>\n",
       "    <tr>\n",
       "      <th>0</th>\n",
       "      <td>39.1</td>\n",
       "      <td>18.7</td>\n",
       "      <td>181.0</td>\n",
       "      <td>3750.0</td>\n",
       "      <td>1</td>\n",
       "    </tr>\n",
       "    <tr>\n",
       "      <th>1</th>\n",
       "      <td>39.5</td>\n",
       "      <td>17.4</td>\n",
       "      <td>186.0</td>\n",
       "      <td>3800.0</td>\n",
       "      <td>0</td>\n",
       "    </tr>\n",
       "    <tr>\n",
       "      <th>2</th>\n",
       "      <td>40.3</td>\n",
       "      <td>18.0</td>\n",
       "      <td>195.0</td>\n",
       "      <td>3250.0</td>\n",
       "      <td>0</td>\n",
       "    </tr>\n",
       "    <tr>\n",
       "      <th>3</th>\n",
       "      <td>36.7</td>\n",
       "      <td>19.3</td>\n",
       "      <td>193.0</td>\n",
       "      <td>3450.0</td>\n",
       "      <td>0</td>\n",
       "    </tr>\n",
       "    <tr>\n",
       "      <th>4</th>\n",
       "      <td>39.3</td>\n",
       "      <td>20.6</td>\n",
       "      <td>190.0</td>\n",
       "      <td>3650.0</td>\n",
       "      <td>1</td>\n",
       "    </tr>\n",
       "  </tbody>\n",
       "</table>\n",
       "</div>"
      ],
      "text/plain": [
       "   culmen_length_mm  culmen_depth_mm  flipper_length_mm  body_mass_g  sex\n",
       "0              39.1             18.7              181.0       3750.0    1\n",
       "1              39.5             17.4              186.0       3800.0    0\n",
       "2              40.3             18.0              195.0       3250.0    0\n",
       "3              36.7             19.3              193.0       3450.0    0\n",
       "4              39.3             20.6              190.0       3650.0    1"
      ]
     },
     "execution_count": 5,
     "metadata": {},
     "output_type": "execute_result"
    }
   ],
   "source": [
    "# transform sex column into a numeric column\n",
    "import numpy as np\n",
    "penguins['sex'] = np.where(penguins['sex'] == 'MALE', 1, 0)\n",
    "print(penguins.dtypes)\n",
    "penguins.head()"
   ]
  },
  {
   "cell_type": "markdown",
   "id": "72fe1d1a-c025-4859-97e5-d767df10dbb6",
   "metadata": {},
   "source": [
    "**The data has different scales. The variables on a higher scale are going to have more impact on the clustering process than the lower scale variables. Consequently we need to standardize our data to deal with that.**"
   ]
  },
  {
   "cell_type": "code",
   "execution_count": 6,
   "id": "e42afb58-de48-4c1d-9bd6-e9c6c092b009",
   "metadata": {
    "executionCancelledAt": null,
    "executionTime": 52,
    "lastExecutedAt": 1726832721602,
    "lastExecutedByKernel": "32a092d9-9f11-478f-86ee-3228ae5a4699",
    "lastScheduledRunId": null,
    "lastSuccessfullyExecutedCode": "# scale the data\n# Instantiate the scaler\nscaler = StandardScaler()\n\n# scale the features\npenguins_scaled = scaler.fit_transform(penguins)\npenguins_scaled = pd.DataFrame(penguins_scaled, columns = penguins.columns)\npenguins_scaled.head()",
    "outputsMetadata": {
     "0": {
      "height": 234,
      "type": "dataFrame"
     }
    }
   },
   "outputs": [
    {
     "data": {
      "text/html": [
       "<div>\n",
       "<style scoped>\n",
       "    .dataframe tbody tr th:only-of-type {\n",
       "        vertical-align: middle;\n",
       "    }\n",
       "\n",
       "    .dataframe tbody tr th {\n",
       "        vertical-align: top;\n",
       "    }\n",
       "\n",
       "    .dataframe thead th {\n",
       "        text-align: right;\n",
       "    }\n",
       "</style>\n",
       "<table border=\"1\" class=\"dataframe\">\n",
       "  <thead>\n",
       "    <tr style=\"text-align: right;\">\n",
       "      <th></th>\n",
       "      <th>culmen_length_mm</th>\n",
       "      <th>culmen_depth_mm</th>\n",
       "      <th>flipper_length_mm</th>\n",
       "      <th>body_mass_g</th>\n",
       "      <th>sex</th>\n",
       "    </tr>\n",
       "  </thead>\n",
       "  <tbody>\n",
       "    <tr>\n",
       "      <th>0</th>\n",
       "      <td>-0.903906</td>\n",
       "      <td>0.790360</td>\n",
       "      <td>-1.425342</td>\n",
       "      <td>-0.566948</td>\n",
       "      <td>0.993994</td>\n",
       "    </tr>\n",
       "    <tr>\n",
       "      <th>1</th>\n",
       "      <td>-0.830434</td>\n",
       "      <td>0.126187</td>\n",
       "      <td>-1.068577</td>\n",
       "      <td>-0.504847</td>\n",
       "      <td>-1.006042</td>\n",
       "    </tr>\n",
       "    <tr>\n",
       "      <th>2</th>\n",
       "      <td>-0.683490</td>\n",
       "      <td>0.432728</td>\n",
       "      <td>-0.426399</td>\n",
       "      <td>-1.187953</td>\n",
       "      <td>-1.006042</td>\n",
       "    </tr>\n",
       "    <tr>\n",
       "      <th>3</th>\n",
       "      <td>-1.344738</td>\n",
       "      <td>1.096901</td>\n",
       "      <td>-0.569105</td>\n",
       "      <td>-0.939551</td>\n",
       "      <td>-1.006042</td>\n",
       "    </tr>\n",
       "    <tr>\n",
       "      <th>4</th>\n",
       "      <td>-0.867170</td>\n",
       "      <td>1.761074</td>\n",
       "      <td>-0.783164</td>\n",
       "      <td>-0.691149</td>\n",
       "      <td>0.993994</td>\n",
       "    </tr>\n",
       "  </tbody>\n",
       "</table>\n",
       "</div>"
      ],
      "text/plain": [
       "   culmen_length_mm  culmen_depth_mm  flipper_length_mm  body_mass_g       sex\n",
       "0         -0.903906         0.790360          -1.425342    -0.566948  0.993994\n",
       "1         -0.830434         0.126187          -1.068577    -0.504847 -1.006042\n",
       "2         -0.683490         0.432728          -0.426399    -1.187953 -1.006042\n",
       "3         -1.344738         1.096901          -0.569105    -0.939551 -1.006042\n",
       "4         -0.867170         1.761074          -0.783164    -0.691149  0.993994"
      ]
     },
     "execution_count": 6,
     "metadata": {},
     "output_type": "execute_result"
    }
   ],
   "source": [
    "# scale the data\n",
    "# Instantiate the scaler\n",
    "scaler = StandardScaler()\n",
    "\n",
    "# scale the features\n",
    "penguins_scaled = scaler.fit_transform(penguins)\n",
    "penguins_scaled = pd.DataFrame(penguins_scaled, columns = penguins.columns)\n",
    "penguins_scaled.head()"
   ]
  },
  {
   "cell_type": "markdown",
   "id": "3f1bd0d0-9c82-4a9c-9142-9970bfc4df8f",
   "metadata": {},
   "source": [
    "**The assumption is there are at least three species. Let's test the possible optimal number of clusters with the elbow plot.**"
   ]
  },
  {
   "cell_type": "code",
   "execution_count": 13,
   "id": "bf6ecc9a-507f-4113-869a-535b13620c10",
   "metadata": {
    "executionCancelledAt": null,
    "executionTime": 466,
    "lastExecutedAt": 1726832722068,
    "lastExecutedByKernel": "32a092d9-9f11-478f-86ee-3228ae5a4699",
    "lastScheduledRunId": null,
    "lastSuccessfullyExecutedCode": "# Initialize a list to hold the inertias of the different clusters\ninertias = []\n\n# state the different number of clusters\nclusters = np.arange(1, 11)\n\n# loop through\nfor cl in clusters:\n    kmeans = KMeans(n_clusters = cl)\n    kmeans.fit(penguins_scaled)\n    inertias.append(kmeans.inertia_)\n    \n# visualize\nplt.figure(figsize = (10, 8))\nplt.plot(clusters, inertias, marker = 'o')\nplt.xlabel('Number of Clusters')\nplt.ylabel('Inertia')\nplt.title('Elbow Plot for Optimal Clusters.')\nplt.xticks(clusters)\nplt.show()"
   },
   "outputs": [
    {
     "data": {
      "image/png": "[encoded data removed]",
      "text/plain": [
       "<Figure size 1000x800 with 1 Axes>"
      ]
     },
     "metadata": {},
     "output_type": "display_data"
    }
   ],
   "source": [
    "# mute the warnings\n",
    "import warnings\n",
    "warnings.filterwarnings('ignore')\n",
    "\n",
    "# Initialize a list to hold the inertias of the different clusters\n",
    "inertias = []\n",
    "\n",
    "# state the different number of clusters\n",
    "clusters = np.arange(1, 11)\n",
    "\n",
    "# loop through\n",
    "for cl in clusters:\n",
    "    kmeans = KMeans(n_clusters = cl)\n",
    "    kmeans.fit(penguins_scaled)\n",
    "    inertias.append(kmeans.inertia_)\n",
    "    \n",
    "# visualize\n",
    "plt.figure(figsize = (10, 8))\n",
    "plt.plot(clusters, inertias, marker = 'o')\n",
    "plt.xlabel('Number of Clusters')\n",
    "plt.ylabel('Inertia')\n",
    "plt.title('Elbow Plot for Optimal Clusters.')\n",
    "plt.xticks(clusters)\n",
    "plt.show()"
   ]
  },
  {
   "cell_type": "markdown",
   "id": "1c5e9373-0fea-400b-b3f4-5c34fdd45cc8",
   "metadata": {},
   "source": [
    "**From the plot we see that as 3 might not be the best choice, the best choice might be around 4-6 clusters where the inertias really begin to decline properly.** "
   ]
  },
  {
   "cell_type": "code",
   "execution_count": 22,
   "id": "86cb2b10-4770-4b1b-a89b-1e55f2816ebf",
   "metadata": {
    "executionCancelledAt": null,
    "executionTime": 50,
    "lastExecutedAt": 1726832722118,
    "lastExecutedByKernel": "32a092d9-9f11-478f-86ee-3228ae5a4699",
    "lastScheduledRunId": null,
    "lastSuccessfullyExecutedCode": "# try 5 clusters\nkm_mod = KMeans(n_clusters = 5)\n\n# fit to the data\nkm_mod.fit(penguins_scaled)\n\n# predict labels\nlabels = km_mod.predict(penguins_scaled)"
   },
   "outputs": [],
   "source": [
    "# try 5 clusters\n",
    "km_mod = KMeans(n_clusters = 5, random_state = 42)\n",
    "\n",
    "# fit to the data\n",
    "km_mod.fit(penguins_scaled)\n",
    "\n",
    "# predict labels\n",
    "labels = km_mod.predict(penguins_scaled)"
   ]
  },
  {
   "cell_type": "code",
   "execution_count": 23,
   "id": "8fbf26b6-ce6b-4f05-99a6-b0403f1172ce",
   "metadata": {
    "executionCancelledAt": null,
    "executionTime": 58,
    "lastExecutedAt": 1726832722176,
    "lastExecutedByKernel": "32a092d9-9f11-478f-86ee-3228ae5a4699",
    "lastScheduledRunId": null,
    "lastSuccessfullyExecutedCode": "# add the labels to the data\npenguins['label'] = labels\n\npenguins.head()",
    "outputsMetadata": {
     "0": {
      "height": 234,
      "type": "dataFrame"
     }
    }
   },
   "outputs": [
    {
     "data": {
      "text/html": [
       "<div>\n",
       "<style scoped>\n",
       "    .dataframe tbody tr th:only-of-type {\n",
       "        vertical-align: middle;\n",
       "    }\n",
       "\n",
       "    .dataframe tbody tr th {\n",
       "        vertical-align: top;\n",
       "    }\n",
       "\n",
       "    .dataframe thead th {\n",
       "        text-align: right;\n",
       "    }\n",
       "</style>\n",
       "<table border=\"1\" class=\"dataframe\">\n",
       "  <thead>\n",
       "    <tr style=\"text-align: right;\">\n",
       "      <th></th>\n",
       "      <th>culmen_length_mm</th>\n",
       "      <th>culmen_depth_mm</th>\n",
       "      <th>flipper_length_mm</th>\n",
       "      <th>body_mass_g</th>\n",
       "      <th>sex</th>\n",
       "      <th>label</th>\n",
       "    </tr>\n",
       "  </thead>\n",
       "  <tbody>\n",
       "    <tr>\n",
       "      <th>0</th>\n",
       "      <td>39.1</td>\n",
       "      <td>18.7</td>\n",
       "      <td>181.0</td>\n",
       "      <td>3750.0</td>\n",
       "      <td>1</td>\n",
       "      <td>0</td>\n",
       "    </tr>\n",
       "    <tr>\n",
       "      <th>1</th>\n",
       "      <td>39.5</td>\n",
       "      <td>17.4</td>\n",
       "      <td>186.0</td>\n",
       "      <td>3800.0</td>\n",
       "      <td>0</td>\n",
       "      <td>2</td>\n",
       "    </tr>\n",
       "    <tr>\n",
       "      <th>2</th>\n",
       "      <td>40.3</td>\n",
       "      <td>18.0</td>\n",
       "      <td>195.0</td>\n",
       "      <td>3250.0</td>\n",
       "      <td>0</td>\n",
       "      <td>2</td>\n",
       "    </tr>\n",
       "    <tr>\n",
       "      <th>3</th>\n",
       "      <td>36.7</td>\n",
       "      <td>19.3</td>\n",
       "      <td>193.0</td>\n",
       "      <td>3450.0</td>\n",
       "      <td>0</td>\n",
       "      <td>2</td>\n",
       "    </tr>\n",
       "    <tr>\n",
       "      <th>4</th>\n",
       "      <td>39.3</td>\n",
       "      <td>20.6</td>\n",
       "      <td>190.0</td>\n",
       "      <td>3650.0</td>\n",
       "      <td>1</td>\n",
       "      <td>0</td>\n",
       "    </tr>\n",
       "  </tbody>\n",
       "</table>\n",
       "</div>"
      ],
      "text/plain": [
       "   culmen_length_mm  culmen_depth_mm  flipper_length_mm  body_mass_g  sex  \\\n",
       "0              39.1             18.7              181.0       3750.0    1   \n",
       "1              39.5             17.4              186.0       3800.0    0   \n",
       "2              40.3             18.0              195.0       3250.0    0   \n",
       "3              36.7             19.3              193.0       3450.0    0   \n",
       "4              39.3             20.6              190.0       3650.0    1   \n",
       "\n",
       "   label  \n",
       "0      0  \n",
       "1      2  \n",
       "2      2  \n",
       "3      2  \n",
       "4      0  "
      ]
     },
     "execution_count": 23,
     "metadata": {},
     "output_type": "execute_result"
    }
   ],
   "source": [
    "# add the labels to the data\n",
    "penguins['label'] = labels\n",
    "\n",
    "penguins.head()"
   ]
  },
  {
   "cell_type": "code",
   "execution_count": 24,
   "id": "21695331-a1aa-40b4-8a0f-5313e0f6003d",
   "metadata": {
    "executionCancelledAt": null,
    "executionTime": 68,
    "lastExecutedAt": 1726832722244,
    "lastExecutedByKernel": "32a092d9-9f11-478f-86ee-3228ae5a4699",
    "lastScheduledRunId": null,
    "lastSuccessfullyExecutedCode": "# remove the unneeded column\npeng = penguins.drop('sex', axis = 'columns')\npeng.head()",
    "outputsMetadata": {
     "0": {
      "height": 234,
      "type": "dataFrame"
     }
    }
   },
   "outputs": [
    {
     "data": {
      "text/html": [
       "<div>\n",
       "<style scoped>\n",
       "    .dataframe tbody tr th:only-of-type {\n",
       "        vertical-align: middle;\n",
       "    }\n",
       "\n",
       "    .dataframe tbody tr th {\n",
       "        vertical-align: top;\n",
       "    }\n",
       "\n",
       "    .dataframe thead th {\n",
       "        text-align: right;\n",
       "    }\n",
       "</style>\n",
       "<table border=\"1\" class=\"dataframe\">\n",
       "  <thead>\n",
       "    <tr style=\"text-align: right;\">\n",
       "      <th></th>\n",
       "      <th>culmen_length_mm</th>\n",
       "      <th>culmen_depth_mm</th>\n",
       "      <th>flipper_length_mm</th>\n",
       "      <th>body_mass_g</th>\n",
       "      <th>label</th>\n",
       "    </tr>\n",
       "  </thead>\n",
       "  <tbody>\n",
       "    <tr>\n",
       "      <th>0</th>\n",
       "      <td>39.1</td>\n",
       "      <td>18.7</td>\n",
       "      <td>181.0</td>\n",
       "      <td>3750.0</td>\n",
       "      <td>0</td>\n",
       "    </tr>\n",
       "    <tr>\n",
       "      <th>1</th>\n",
       "      <td>39.5</td>\n",
       "      <td>17.4</td>\n",
       "      <td>186.0</td>\n",
       "      <td>3800.0</td>\n",
       "      <td>2</td>\n",
       "    </tr>\n",
       "    <tr>\n",
       "      <th>2</th>\n",
       "      <td>40.3</td>\n",
       "      <td>18.0</td>\n",
       "      <td>195.0</td>\n",
       "      <td>3250.0</td>\n",
       "      <td>2</td>\n",
       "    </tr>\n",
       "    <tr>\n",
       "      <th>3</th>\n",
       "      <td>36.7</td>\n",
       "      <td>19.3</td>\n",
       "      <td>193.0</td>\n",
       "      <td>3450.0</td>\n",
       "      <td>2</td>\n",
       "    </tr>\n",
       "    <tr>\n",
       "      <th>4</th>\n",
       "      <td>39.3</td>\n",
       "      <td>20.6</td>\n",
       "      <td>190.0</td>\n",
       "      <td>3650.0</td>\n",
       "      <td>0</td>\n",
       "    </tr>\n",
       "  </tbody>\n",
       "</table>\n",
       "</div>"
      ],
      "text/plain": [
       "   culmen_length_mm  culmen_depth_mm  flipper_length_mm  body_mass_g  label\n",
       "0              39.1             18.7              181.0       3750.0      0\n",
       "1              39.5             17.4              186.0       3800.0      2\n",
       "2              40.3             18.0              195.0       3250.0      2\n",
       "3              36.7             19.3              193.0       3450.0      2\n",
       "4              39.3             20.6              190.0       3650.0      0"
      ]
     },
     "execution_count": 24,
     "metadata": {},
     "output_type": "execute_result"
    }
   ],
   "source": [
    "# remove the unneeded column\n",
    "peng = penguins.drop('sex', axis = 'columns')\n",
    "peng.head()"
   ]
  },
  {
   "cell_type": "code",
   "execution_count": 26,
   "id": "d6754b4f-b6d2-49c6-b738-bb9ee2ac70b5",
   "metadata": {
    "executionCancelledAt": null,
    "executionTime": 58,
    "lastExecutedAt": 1726832722302,
    "lastExecutedByKernel": "32a092d9-9f11-478f-86ee-3228ae5a4699",
    "lastScheduledRunId": null,
    "lastSuccessfullyExecutedCode": "# get the averages\nstat_penguins = peng.groupby('label').mean()\nprint(type(stat_penguins))\nstat_penguins",
    "outputsMetadata": {
     "0": {
      "height": 38,
      "type": "stream"
     },
     "1": {
      "height": 234,
      "type": "dataFrame"
     }
    }
   },
   "outputs": [
    {
     "name": "stdout",
     "output_type": "stream",
     "text": [
      "<class 'pandas.core.frame.DataFrame'>\n"
     ]
    },
    {
     "data": {
      "text/html": [
       "<div>\n",
       "<style scoped>\n",
       "    .dataframe tbody tr th:only-of-type {\n",
       "        vertical-align: middle;\n",
       "    }\n",
       "\n",
       "    .dataframe tbody tr th {\n",
       "        vertical-align: top;\n",
       "    }\n",
       "\n",
       "    .dataframe thead th {\n",
       "        text-align: right;\n",
       "    }\n",
       "</style>\n",
       "<table border=\"1\" class=\"dataframe\">\n",
       "  <thead>\n",
       "    <tr style=\"text-align: right;\">\n",
       "      <th></th>\n",
       "      <th>culmen_length_mm</th>\n",
       "      <th>culmen_depth_mm</th>\n",
       "      <th>flipper_length_mm</th>\n",
       "      <th>body_mass_g</th>\n",
       "    </tr>\n",
       "    <tr>\n",
       "      <th>label</th>\n",
       "      <th></th>\n",
       "      <th></th>\n",
       "      <th></th>\n",
       "      <th></th>\n",
       "    </tr>\n",
       "  </thead>\n",
       "  <tbody>\n",
       "    <tr>\n",
       "      <th>0</th>\n",
       "      <td>40.315714</td>\n",
       "      <td>19.011429</td>\n",
       "      <td>192.242857</td>\n",
       "      <td>4034.642857</td>\n",
       "    </tr>\n",
       "    <tr>\n",
       "      <th>1</th>\n",
       "      <td>45.563793</td>\n",
       "      <td>14.237931</td>\n",
       "      <td>212.706897</td>\n",
       "      <td>4679.741379</td>\n",
       "    </tr>\n",
       "    <tr>\n",
       "      <th>2</th>\n",
       "      <td>39.744660</td>\n",
       "      <td>17.588350</td>\n",
       "      <td>188.864078</td>\n",
       "      <td>3410.679612</td>\n",
       "    </tr>\n",
       "    <tr>\n",
       "      <th>3</th>\n",
       "      <td>50.965000</td>\n",
       "      <td>19.195000</td>\n",
       "      <td>199.075000</td>\n",
       "      <td>3920.625000</td>\n",
       "    </tr>\n",
       "    <tr>\n",
       "      <th>4</th>\n",
       "      <td>49.473770</td>\n",
       "      <td>15.718033</td>\n",
       "      <td>221.540984</td>\n",
       "      <td>5484.836066</td>\n",
       "    </tr>\n",
       "  </tbody>\n",
       "</table>\n",
       "</div>"
      ],
      "text/plain": [
       "       culmen_length_mm  culmen_depth_mm  flipper_length_mm  body_mass_g\n",
       "label                                                                   \n",
       "0             40.315714        19.011429         192.242857  4034.642857\n",
       "1             45.563793        14.237931         212.706897  4679.741379\n",
       "2             39.744660        17.588350         188.864078  3410.679612\n",
       "3             50.965000        19.195000         199.075000  3920.625000\n",
       "4             49.473770        15.718033         221.540984  5484.836066"
      ]
     },
     "execution_count": 26,
     "metadata": {},
     "output_type": "execute_result"
    }
   ],
   "source": [
    "# get the averages\n",
    "stat_penguins = peng.groupby('label').mean()\n",
    "print(type(stat_penguins))\n",
    "stat_penguins"
   ]
  },
  {
   "cell_type": "code",
   "execution_count": null,
   "id": "6a846642",
   "metadata": {},
   "outputs": [],
   "source": []
  }
 ],
 "metadata": {
  "colab": {
   "name": "Welcome to DataCamp Workspaces.ipynb",
   "provenance": []
  },
  "editor": "DataLab",
  "kernelspec": {
   "display_name": "Python 3 (ipykernel)",
   "language": "python",
   "name": "python3"
  },
  "language_info": {
   "codemirror_mode": {
    "name": "ipython",
    "version": 3
   },
   "file_extension": ".py",
   "mimetype": "text/x-python",
   "name": "python",
   "nbconvert_exporter": "python",
   "pygments_lexer": "ipython3",
   "version": "3.11.5"
  }
 },
 "nbformat": 4,
 "nbformat_minor": 5
}
